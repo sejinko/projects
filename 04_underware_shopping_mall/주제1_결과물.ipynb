{
 "cells": [
  {
   "cell_type": "markdown",
   "metadata": {},
   "source": [
    "# 일별, 주별, 월별 구매구분별 매출액 및 구매자 수 계산.\n",
    "\n",
    "\n",
    "### 일별, 주별, 월별 매출액\n",
    "1. paid_date 컬럼의 null 값인 행을 없앤다.\n",
    "  \n",
    "  → 날짜를 유추할 수 없기 때문에 없애버린다.\n",
    "2. paid_date 매출액을 합한다.\n",
    "  \n",
    "  → 같은 날 구매한 경우라도 여러번 구매한 경우는 데이터가 따로 되어 있어 합친다.\n",
    "3. paid_date 컬럼에 날짜 전체가 있지 않고 중간중간 비어있어 날짜를 null 값으로 채운다.\n",
    "  \n",
    "  → 그래프로 보았을 때 값이 있는 날짜만 붙어서 보이므로 중간에 null값 날짜를 채워 넣는다.\n",
    "\n",
    "\n",
    "\n",
    "### 일별, 주별, 월별 구독자 수\n",
    "1. paid_date 컬럼의 null 값인 행을 없앤다.\n",
    "  \n",
    "  → 날짜를 유추할 수 없기 때문에 없애버린다.\n",
    "2. user_idx의 중복값을 없앤다.\n",
    "  \n",
    "  → 동일한 구독자가 여러번 있을 수 있으므로 중복제거를 한다.\n",
    "3. paid_date의 user_idx 수를 센다.\n",
    "  \n",
    "  → 구독자의 수를 구하는 것이므로 해당날짜의 user_idx의 수를 센다.\n",
    "4. paid_date 컬럼에 날짜 전체가 있지 않고 중간중간 비어있어 날짜를 null 값으로 채운다.\n",
    "  \n",
    "  → 그래프로 보았을 때 값이 있는 날짜만 붙어서 보이므로 중간에 null값 날짜를 채워 넣는다.\n",
    "  \n",
    "\n",
    "\n",
    "### 구매 구분별 매출액 및 구매자 수\n",
    "1. paid_date 컬럼의 null 값인 행을 없앤다.\n",
    "  \n",
    "  → 날짜를 유추할 수 없기 때문에 없애버린다.\n",
    "2. 구독자 수로 묶어서 매출액을 합친다.\n",
    "  \n",
    "  → 동일한 구독자가 여러번 있을 수 있으므로 중복제거를 한다.\n"
   ]
  },
  {
   "cell_type": "code",
   "execution_count": 1,
   "metadata": {
    "ExecuteTime": {
     "end_time": "2021-01-24T14:51:22.574934Z",
     "start_time": "2021-01-24T14:51:21.903726Z"
    }
   },
   "outputs": [],
   "source": [
    "import pandas as pd\n",
    "import numpy as np\n",
    "import matplotlib.pyplot as plt\n",
    "import datetime as dt\n",
    "\n",
    "import warnings\n",
    "warnings.filterwarnings('ignore')"
   ]
  },
  {
   "cell_type": "code",
   "execution_count": 2,
   "metadata": {
    "ExecuteTime": {
     "end_time": "2021-01-24T14:51:24.352268Z",
     "start_time": "2021-01-24T14:51:23.248221Z"
    }
   },
   "outputs": [],
   "source": [
    "total_df = pd.DataFrame()\n",
    "payment_df = pd.read_csv('./payment_window.csv', encoding='CP949')\n",
    "bra_df = pd.read_csv('./bra_size_window.csv', encoding='CP949')\n",
    "user_df = pd.read_csv('./user_window.csv', encoding='CP949')\n",
    "pay_bra_df = pd.merge(payment_df, bra_df, how='outer', on='user_idx')\n",
    "total_df = pd.merge(pay_bra_df, user_df, on='user_idx')\n",
    "drop_cols = ['Unnamed: 0_x', 'Unnamed: 0', 'Unnamed: 0_y']\n",
    "total_df.drop(drop_cols, axis=1, inplace=True)\n",
    "total_df.reset_index(drop=True, inplace=True)\n",
    "\n",
    "total_df['paid_date'] = pd.to_datetime(total_df['paid_date'])\n",
    "total_df['joined_date'] = pd.to_datetime(total_df['joined_date'])\n",
    "total_df['created_date'] = pd.to_datetime(total_df['created_date'])\n",
    "\n",
    "# total_df['year'] = total_df['paid_date'].dt.year\n",
    "# total_df['month'] = total_df['paid_date'].dt.month\n",
    "# total_df['day'] = total_df['paid_date'].dt.day\n",
    "# total_df['week'] = total_df['paid_date'].dt.dayofweek\n",
    "# total_df[['year', 'month', 'week', 'day', 'order_total_price']]"
   ]
  },
  {
   "cell_type": "code",
   "execution_count": 3,
   "metadata": {
    "ExecuteTime": {
     "end_time": "2021-01-24T14:51:24.507852Z",
     "start_time": "2021-01-24T14:51:24.460977Z"
    }
   },
   "outputs": [
    {
     "name": "stdout",
     "output_type": "stream",
     "text": [
      "(7308, 7)\n"
     ]
    },
    {
     "data": {
      "text/html": [
       "<div>\n",
       "<style scoped>\n",
       "    .dataframe tbody tr th:only-of-type {\n",
       "        vertical-align: middle;\n",
       "    }\n",
       "\n",
       "    .dataframe tbody tr th {\n",
       "        vertical-align: top;\n",
       "    }\n",
       "\n",
       "    .dataframe thead th {\n",
       "        text-align: right;\n",
       "    }\n",
       "</style>\n",
       "<table border=\"1\" class=\"dataframe\">\n",
       "  <thead>\n",
       "    <tr style=\"text-align: right;\">\n",
       "      <th></th>\n",
       "      <th>Unnamed: 0</th>\n",
       "      <th>user_idx</th>\n",
       "      <th>subscription_type</th>\n",
       "      <th>cart_discount_price</th>\n",
       "      <th>order_shipping_price</th>\n",
       "      <th>order_total_price</th>\n",
       "      <th>paid_date</th>\n",
       "    </tr>\n",
       "  </thead>\n",
       "  <tbody>\n",
       "    <tr>\n",
       "      <th>0</th>\n",
       "      <td>1</td>\n",
       "      <td>0973f573635c1b55a58f1d221f992bfeb0b3e007a93efb...</td>\n",
       "      <td>구독</td>\n",
       "      <td>5100</td>\n",
       "      <td>3000</td>\n",
       "      <td>12900</td>\n",
       "      <td>2020-10-21</td>\n",
       "    </tr>\n",
       "    <tr>\n",
       "      <th>1</th>\n",
       "      <td>2</td>\n",
       "      <td>305181c0babb5077b46ccb298a41469729a6760b19e44d...</td>\n",
       "      <td>구독</td>\n",
       "      <td>5100</td>\n",
       "      <td>3000</td>\n",
       "      <td>12900</td>\n",
       "      <td>2020-10-09</td>\n",
       "    </tr>\n",
       "    <tr>\n",
       "      <th>2</th>\n",
       "      <td>3</td>\n",
       "      <td>5fa450bdb2e831617f0132293d63638e0f93f1f62af4ca...</td>\n",
       "      <td>구독</td>\n",
       "      <td>5100</td>\n",
       "      <td>3000</td>\n",
       "      <td>12900</td>\n",
       "      <td>2020-10-11</td>\n",
       "    </tr>\n",
       "    <tr>\n",
       "      <th>3</th>\n",
       "      <td>4</td>\n",
       "      <td>85649b91d8ac8d2e84faa6c54032254356fe02c69d5fa0...</td>\n",
       "      <td>구독</td>\n",
       "      <td>5100</td>\n",
       "      <td>3000</td>\n",
       "      <td>12900</td>\n",
       "      <td>2020-10-14</td>\n",
       "    </tr>\n",
       "    <tr>\n",
       "      <th>4</th>\n",
       "      <td>5</td>\n",
       "      <td>05afd1abc70fce9afaa18482a0bb9c6cb082e65b1e0ab4...</td>\n",
       "      <td>구독</td>\n",
       "      <td>5100</td>\n",
       "      <td>3000</td>\n",
       "      <td>12900</td>\n",
       "      <td>2020-10-21</td>\n",
       "    </tr>\n",
       "  </tbody>\n",
       "</table>\n",
       "</div>"
      ],
      "text/plain": [
       "   Unnamed: 0                                           user_idx  \\\n",
       "0           1  0973f573635c1b55a58f1d221f992bfeb0b3e007a93efb...   \n",
       "1           2  305181c0babb5077b46ccb298a41469729a6760b19e44d...   \n",
       "2           3  5fa450bdb2e831617f0132293d63638e0f93f1f62af4ca...   \n",
       "3           4  85649b91d8ac8d2e84faa6c54032254356fe02c69d5fa0...   \n",
       "4           5  05afd1abc70fce9afaa18482a0bb9c6cb082e65b1e0ab4...   \n",
       "\n",
       "  subscription_type  cart_discount_price  order_shipping_price  \\\n",
       "0                구독                 5100                  3000   \n",
       "1                구독                 5100                  3000   \n",
       "2                구독                 5100                  3000   \n",
       "3                구독                 5100                  3000   \n",
       "4                구독                 5100                  3000   \n",
       "\n",
       "   order_total_price   paid_date  \n",
       "0              12900  2020-10-21  \n",
       "1              12900  2020-10-09  \n",
       "2              12900  2020-10-11  \n",
       "3              12900  2020-10-14  \n",
       "4              12900  2020-10-21  "
      ]
     },
     "metadata": {},
     "output_type": "display_data"
    },
    {
     "data": {
      "text/html": [
       "<div>\n",
       "<style scoped>\n",
       "    .dataframe tbody tr th:only-of-type {\n",
       "        vertical-align: middle;\n",
       "    }\n",
       "\n",
       "    .dataframe tbody tr th {\n",
       "        vertical-align: top;\n",
       "    }\n",
       "\n",
       "    .dataframe thead th {\n",
       "        text-align: right;\n",
       "    }\n",
       "</style>\n",
       "<table border=\"1\" class=\"dataframe\">\n",
       "  <thead>\n",
       "    <tr style=\"text-align: right;\">\n",
       "      <th></th>\n",
       "      <th>count</th>\n",
       "      <th>mean</th>\n",
       "      <th>std</th>\n",
       "      <th>min</th>\n",
       "      <th>25%</th>\n",
       "      <th>50%</th>\n",
       "      <th>75%</th>\n",
       "      <th>max</th>\n",
       "    </tr>\n",
       "  </thead>\n",
       "  <tbody>\n",
       "    <tr>\n",
       "      <th>Unnamed: 0</th>\n",
       "      <td>7308.0</td>\n",
       "      <td>3654.500000</td>\n",
       "      <td>2109.782216</td>\n",
       "      <td>1.0</td>\n",
       "      <td>1827.75</td>\n",
       "      <td>3654.5</td>\n",
       "      <td>5481.25</td>\n",
       "      <td>7308.0</td>\n",
       "    </tr>\n",
       "    <tr>\n",
       "      <th>cart_discount_price</th>\n",
       "      <td>7308.0</td>\n",
       "      <td>3267.939245</td>\n",
       "      <td>2729.677090</td>\n",
       "      <td>0.0</td>\n",
       "      <td>0.00</td>\n",
       "      <td>5100.0</td>\n",
       "      <td>5100.00</td>\n",
       "      <td>15000.0</td>\n",
       "    </tr>\n",
       "    <tr>\n",
       "      <th>order_shipping_price</th>\n",
       "      <td>7308.0</td>\n",
       "      <td>2970.443350</td>\n",
       "      <td>296.324772</td>\n",
       "      <td>0.0</td>\n",
       "      <td>3000.00</td>\n",
       "      <td>3000.0</td>\n",
       "      <td>3000.00</td>\n",
       "      <td>3000.0</td>\n",
       "    </tr>\n",
       "    <tr>\n",
       "      <th>order_total_price</th>\n",
       "      <td>7308.0</td>\n",
       "      <td>14658.949097</td>\n",
       "      <td>3071.579009</td>\n",
       "      <td>0.0</td>\n",
       "      <td>12900.00</td>\n",
       "      <td>12900.0</td>\n",
       "      <td>18000.00</td>\n",
       "      <td>27900.0</td>\n",
       "    </tr>\n",
       "  </tbody>\n",
       "</table>\n",
       "</div>"
      ],
      "text/plain": [
       "                       count          mean          std  min       25%  \\\n",
       "Unnamed: 0            7308.0   3654.500000  2109.782216  1.0   1827.75   \n",
       "cart_discount_price   7308.0   3267.939245  2729.677090  0.0      0.00   \n",
       "order_shipping_price  7308.0   2970.443350   296.324772  0.0   3000.00   \n",
       "order_total_price     7308.0  14658.949097  3071.579009  0.0  12900.00   \n",
       "\n",
       "                          50%       75%      max  \n",
       "Unnamed: 0             3654.5   5481.25   7308.0  \n",
       "cart_discount_price    5100.0   5100.00  15000.0  \n",
       "order_shipping_price   3000.0   3000.00   3000.0  \n",
       "order_total_price     12900.0  18000.00  27900.0  "
      ]
     },
     "metadata": {},
     "output_type": "display_data"
    },
    {
     "name": "stdout",
     "output_type": "stream",
     "text": [
      "<class 'pandas.core.frame.DataFrame'>\n",
      "RangeIndex: 7308 entries, 0 to 7307\n",
      "Data columns (total 7 columns):\n",
      " #   Column                Non-Null Count  Dtype \n",
      "---  ------                --------------  ----- \n",
      " 0   Unnamed: 0            7308 non-null   int64 \n",
      " 1   user_idx              7308 non-null   object\n",
      " 2   subscription_type     7277 non-null   object\n",
      " 3   cart_discount_price   7308 non-null   int64 \n",
      " 4   order_shipping_price  7308 non-null   int64 \n",
      " 5   order_total_price     7308 non-null   int64 \n",
      " 6   paid_date             7308 non-null   object\n",
      "dtypes: int64(4), object(3)\n",
      "memory usage: 399.8+ KB\n",
      "None\n"
     ]
    }
   ],
   "source": [
    "print(payment_df.shape)\n",
    "display(payment_df.head())\n",
    "display(payment_df.describe().T)\n",
    "print(payment_df.info())"
   ]
  },
  {
   "cell_type": "markdown",
   "metadata": {},
   "source": [
    "## 일별 매출액, 구독자 수 구하기"
   ]
  },
  {
   "cell_type": "code",
   "execution_count": 4,
   "metadata": {
    "ExecuteTime": {
     "end_time": "2021-01-24T14:51:24.964677Z",
     "start_time": "2021-01-24T14:51:24.604594Z"
    }
   },
   "outputs": [
    {
     "data": {
      "text/html": [
       "<div>\n",
       "<style scoped>\n",
       "    .dataframe tbody tr th:only-of-type {\n",
       "        vertical-align: middle;\n",
       "    }\n",
       "\n",
       "    .dataframe tbody tr th {\n",
       "        vertical-align: top;\n",
       "    }\n",
       "\n",
       "    .dataframe thead th {\n",
       "        text-align: right;\n",
       "    }\n",
       "</style>\n",
       "<table border=\"1\" class=\"dataframe\">\n",
       "  <thead>\n",
       "    <tr style=\"text-align: right;\">\n",
       "      <th></th>\n",
       "      <th>order_total_price</th>\n",
       "    </tr>\n",
       "    <tr>\n",
       "      <th>paid_date</th>\n",
       "      <th></th>\n",
       "    </tr>\n",
       "  </thead>\n",
       "  <tbody>\n",
       "    <tr>\n",
       "      <th>2020-08-31</th>\n",
       "      <td>18000.0</td>\n",
       "    </tr>\n",
       "    <tr>\n",
       "      <th>2020-09-01</th>\n",
       "      <td>NaN</td>\n",
       "    </tr>\n",
       "    <tr>\n",
       "      <th>2020-09-02</th>\n",
       "      <td>NaN</td>\n",
       "    </tr>\n",
       "    <tr>\n",
       "      <th>2020-09-03</th>\n",
       "      <td>NaN</td>\n",
       "    </tr>\n",
       "    <tr>\n",
       "      <th>2020-09-04</th>\n",
       "      <td>NaN</td>\n",
       "    </tr>\n",
       "    <tr>\n",
       "      <th>...</th>\n",
       "      <td>...</td>\n",
       "    </tr>\n",
       "    <tr>\n",
       "      <th>2020-10-27</th>\n",
       "      <td>2712600.0</td>\n",
       "    </tr>\n",
       "    <tr>\n",
       "      <th>2020-10-28</th>\n",
       "      <td>2866200.0</td>\n",
       "    </tr>\n",
       "    <tr>\n",
       "      <th>2020-10-29</th>\n",
       "      <td>2683200.0</td>\n",
       "    </tr>\n",
       "    <tr>\n",
       "      <th>2020-10-30</th>\n",
       "      <td>843000.0</td>\n",
       "    </tr>\n",
       "    <tr>\n",
       "      <th>2020-10-31</th>\n",
       "      <td>2764500.0</td>\n",
       "    </tr>\n",
       "  </tbody>\n",
       "</table>\n",
       "<p>62 rows × 1 columns</p>\n",
       "</div>"
      ],
      "text/plain": [
       "            order_total_price\n",
       "paid_date                    \n",
       "2020-08-31            18000.0\n",
       "2020-09-01                NaN\n",
       "2020-09-02                NaN\n",
       "2020-09-03                NaN\n",
       "2020-09-04                NaN\n",
       "...                       ...\n",
       "2020-10-27          2712600.0\n",
       "2020-10-28          2866200.0\n",
       "2020-10-29          2683200.0\n",
       "2020-10-30           843000.0\n",
       "2020-10-31          2764500.0\n",
       "\n",
       "[62 rows x 1 columns]"
      ]
     },
     "metadata": {},
     "output_type": "display_data"
    },
    {
     "data": {
      "image/png": "[encoded data removed]",
      "text/plain": [
       "<Figure size 432x288 with 1 Axes>"
      ]
     },
     "metadata": {
      "needs_background": "light"
     },
     "output_type": "display_data"
    }
   ],
   "source": [
    "date_price_df = total_df.groupby(['paid_date'])[['order_total_price']].sum()\n",
    "day_price_df = date_price_df.asfreq('D')\n",
    "display(day_price_df)\n",
    "day_price_df.plot()\n",
    "plt.show()"
   ]
  },
  {
   "cell_type": "code",
   "execution_count": 5,
   "metadata": {
    "ExecuteTime": {
     "end_time": "2021-01-24T14:51:25.337640Z",
     "start_time": "2021-01-24T14:51:25.061379Z"
    }
   },
   "outputs": [
    {
     "data": {
      "text/html": [
       "<div>\n",
       "<style scoped>\n",
       "    .dataframe tbody tr th:only-of-type {\n",
       "        vertical-align: middle;\n",
       "    }\n",
       "\n",
       "    .dataframe tbody tr th {\n",
       "        vertical-align: top;\n",
       "    }\n",
       "\n",
       "    .dataframe thead th {\n",
       "        text-align: right;\n",
       "    }\n",
       "</style>\n",
       "<table border=\"1\" class=\"dataframe\">\n",
       "  <thead>\n",
       "    <tr style=\"text-align: right;\">\n",
       "      <th></th>\n",
       "      <th>user_idx</th>\n",
       "    </tr>\n",
       "    <tr>\n",
       "      <th>paid_date</th>\n",
       "      <th></th>\n",
       "    </tr>\n",
       "  </thead>\n",
       "  <tbody>\n",
       "    <tr>\n",
       "      <th>2020-08-31</th>\n",
       "      <td>1.0</td>\n",
       "    </tr>\n",
       "    <tr>\n",
       "      <th>2020-09-01</th>\n",
       "      <td>NaN</td>\n",
       "    </tr>\n",
       "    <tr>\n",
       "      <th>2020-09-02</th>\n",
       "      <td>NaN</td>\n",
       "    </tr>\n",
       "    <tr>\n",
       "      <th>2020-09-03</th>\n",
       "      <td>NaN</td>\n",
       "    </tr>\n",
       "    <tr>\n",
       "      <th>2020-09-04</th>\n",
       "      <td>NaN</td>\n",
       "    </tr>\n",
       "    <tr>\n",
       "      <th>...</th>\n",
       "      <td>...</td>\n",
       "    </tr>\n",
       "    <tr>\n",
       "      <th>2020-10-27</th>\n",
       "      <td>107.0</td>\n",
       "    </tr>\n",
       "    <tr>\n",
       "      <th>2020-10-28</th>\n",
       "      <td>117.0</td>\n",
       "    </tr>\n",
       "    <tr>\n",
       "      <th>2020-10-29</th>\n",
       "      <td>105.0</td>\n",
       "    </tr>\n",
       "    <tr>\n",
       "      <th>2020-10-30</th>\n",
       "      <td>48.0</td>\n",
       "    </tr>\n",
       "    <tr>\n",
       "      <th>2020-10-31</th>\n",
       "      <td>100.0</td>\n",
       "    </tr>\n",
       "  </tbody>\n",
       "</table>\n",
       "<p>62 rows × 1 columns</p>\n",
       "</div>"
      ],
      "text/plain": [
       "            user_idx\n",
       "paid_date           \n",
       "2020-08-31       1.0\n",
       "2020-09-01       NaN\n",
       "2020-09-02       NaN\n",
       "2020-09-03       NaN\n",
       "2020-09-04       NaN\n",
       "...              ...\n",
       "2020-10-27     107.0\n",
       "2020-10-28     117.0\n",
       "2020-10-29     105.0\n",
       "2020-10-30      48.0\n",
       "2020-10-31     100.0\n",
       "\n",
       "[62 rows x 1 columns]"
      ]
     },
     "metadata": {},
     "output_type": "display_data"
    },
    {
     "data": {
      "image/png": "[encoded data removed]",
      "text/plain": [
       "<Figure size 432x288 with 1 Axes>"
      ]
     },
     "metadata": {
      "needs_background": "light"
     },
     "output_type": "display_data"
    }
   ],
   "source": [
    "# 구매자 수\n",
    "dupli_total_df = total_df.drop_duplicates(subset=['user_idx'], keep='first')\n",
    "date_price_df = dupli_total_df.groupby(['paid_date'])[['user_idx']].count()\n",
    "day_price_df = date_price_df.asfreq('D')\n",
    "display(day_price_df)\n",
    "day_price_df.plot()\n",
    "plt.show()"
   ]
  },
  {
   "cell_type": "markdown",
   "metadata": {},
   "source": [
    "## 주별 매출액, 구매자 수 구하기"
   ]
  },
  {
   "cell_type": "code",
   "execution_count": 6,
   "metadata": {
    "ExecuteTime": {
     "end_time": "2021-01-24T14:51:25.560046Z",
     "start_time": "2021-01-24T14:51:25.433384Z"
    }
   },
   "outputs": [
    {
     "data": {
      "text/html": [
       "<div>\n",
       "<style scoped>\n",
       "    .dataframe tbody tr th:only-of-type {\n",
       "        vertical-align: middle;\n",
       "    }\n",
       "\n",
       "    .dataframe tbody tr th {\n",
       "        vertical-align: top;\n",
       "    }\n",
       "\n",
       "    .dataframe thead th {\n",
       "        text-align: right;\n",
       "    }\n",
       "</style>\n",
       "<table border=\"1\" class=\"dataframe\">\n",
       "  <thead>\n",
       "    <tr style=\"text-align: right;\">\n",
       "      <th></th>\n",
       "      <th>order_total_price</th>\n",
       "    </tr>\n",
       "    <tr>\n",
       "      <th>paid_date</th>\n",
       "      <th></th>\n",
       "    </tr>\n",
       "  </thead>\n",
       "  <tbody>\n",
       "    <tr>\n",
       "      <th>2020-09-06</th>\n",
       "      <td>NaN</td>\n",
       "    </tr>\n",
       "    <tr>\n",
       "      <th>2020-09-13</th>\n",
       "      <td>30900.0</td>\n",
       "    </tr>\n",
       "    <tr>\n",
       "      <th>2020-09-20</th>\n",
       "      <td>64500.0</td>\n",
       "    </tr>\n",
       "    <tr>\n",
       "      <th>2020-09-27</th>\n",
       "      <td>3315800.0</td>\n",
       "    </tr>\n",
       "    <tr>\n",
       "      <th>2020-10-04</th>\n",
       "      <td>3056100.0</td>\n",
       "    </tr>\n",
       "    <tr>\n",
       "      <th>2020-10-11</th>\n",
       "      <td>3091200.0</td>\n",
       "    </tr>\n",
       "    <tr>\n",
       "      <th>2020-10-18</th>\n",
       "      <td>2433900.0</td>\n",
       "    </tr>\n",
       "    <tr>\n",
       "      <th>2020-10-25</th>\n",
       "      <td>2670900.0</td>\n",
       "    </tr>\n",
       "  </tbody>\n",
       "</table>\n",
       "</div>"
      ],
      "text/plain": [
       "            order_total_price\n",
       "paid_date                    \n",
       "2020-09-06                NaN\n",
       "2020-09-13            30900.0\n",
       "2020-09-20            64500.0\n",
       "2020-09-27          3315800.0\n",
       "2020-10-04          3056100.0\n",
       "2020-10-11          3091200.0\n",
       "2020-10-18          2433900.0\n",
       "2020-10-25          2670900.0"
      ]
     },
     "metadata": {},
     "output_type": "display_data"
    },
    {
     "data": {
      "image/png": "[encoded data removed]",
      "text/plain": [
       "<Figure size 432x288 with 1 Axes>"
      ]
     },
     "metadata": {
      "needs_background": "light"
     },
     "output_type": "display_data"
    }
   ],
   "source": [
    "date_price_df = total_df.groupby(['paid_date'])[['order_total_price']].sum()\n",
    "week_price_df = date_price_df.asfreq('W')\n",
    "display(week_price_df)\n",
    "week_price_df.plot()\n",
    "plt.show()"
   ]
  },
  {
   "cell_type": "code",
   "execution_count": 7,
   "metadata": {
    "ExecuteTime": {
     "end_time": "2021-01-24T14:51:25.842306Z",
     "start_time": "2021-01-24T14:51:25.671747Z"
    }
   },
   "outputs": [
    {
     "data": {
      "text/html": [
       "<div>\n",
       "<style scoped>\n",
       "    .dataframe tbody tr th:only-of-type {\n",
       "        vertical-align: middle;\n",
       "    }\n",
       "\n",
       "    .dataframe tbody tr th {\n",
       "        vertical-align: top;\n",
       "    }\n",
       "\n",
       "    .dataframe thead th {\n",
       "        text-align: right;\n",
       "    }\n",
       "</style>\n",
       "<table border=\"1\" class=\"dataframe\">\n",
       "  <thead>\n",
       "    <tr style=\"text-align: right;\">\n",
       "      <th></th>\n",
       "      <th>user_idx</th>\n",
       "    </tr>\n",
       "    <tr>\n",
       "      <th>paid_date</th>\n",
       "      <th></th>\n",
       "    </tr>\n",
       "  </thead>\n",
       "  <tbody>\n",
       "    <tr>\n",
       "      <th>2020-09-06</th>\n",
       "      <td>NaN</td>\n",
       "    </tr>\n",
       "    <tr>\n",
       "      <th>2020-09-13</th>\n",
       "      <td>2.0</td>\n",
       "    </tr>\n",
       "    <tr>\n",
       "      <th>2020-09-20</th>\n",
       "      <td>4.0</td>\n",
       "    </tr>\n",
       "    <tr>\n",
       "      <th>2020-09-27</th>\n",
       "      <td>130.0</td>\n",
       "    </tr>\n",
       "    <tr>\n",
       "      <th>2020-10-04</th>\n",
       "      <td>186.0</td>\n",
       "    </tr>\n",
       "    <tr>\n",
       "      <th>2020-10-11</th>\n",
       "      <td>190.0</td>\n",
       "    </tr>\n",
       "    <tr>\n",
       "      <th>2020-10-18</th>\n",
       "      <td>165.0</td>\n",
       "    </tr>\n",
       "    <tr>\n",
       "      <th>2020-10-25</th>\n",
       "      <td>102.0</td>\n",
       "    </tr>\n",
       "  </tbody>\n",
       "</table>\n",
       "</div>"
      ],
      "text/plain": [
       "            user_idx\n",
       "paid_date           \n",
       "2020-09-06       NaN\n",
       "2020-09-13       2.0\n",
       "2020-09-20       4.0\n",
       "2020-09-27     130.0\n",
       "2020-10-04     186.0\n",
       "2020-10-11     190.0\n",
       "2020-10-18     165.0\n",
       "2020-10-25     102.0"
      ]
     },
     "metadata": {},
     "output_type": "display_data"
    },
    {
     "data": {
      "image/png": "[encoded data removed]",
      "text/plain": [
       "<Figure size 432x288 with 1 Axes>"
      ]
     },
     "metadata": {
      "needs_background": "light"
     },
     "output_type": "display_data"
    }
   ],
   "source": [
    "dupli_total_df = total_df.drop_duplicates(subset=['user_idx'], keep='first')\n",
    "date_price_df = dupli_total_df.groupby(['paid_date'])[['user_idx']].count()\n",
    "week_price_df = date_price_df.asfreq('W')\n",
    "display(week_price_df)\n",
    "week_price_df.plot()\n",
    "plt.show()"
   ]
  },
  {
   "cell_type": "markdown",
   "metadata": {},
   "source": [
    "## 월별 매출액, 구매자 수 구하기"
   ]
  },
  {
   "cell_type": "code",
   "execution_count": 8,
   "metadata": {
    "ExecuteTime": {
     "end_time": "2021-01-24T14:51:26.079836Z",
     "start_time": "2021-01-24T14:51:25.971041Z"
    }
   },
   "outputs": [
    {
     "data": {
      "text/html": [
       "<div>\n",
       "<style scoped>\n",
       "    .dataframe tbody tr th:only-of-type {\n",
       "        vertical-align: middle;\n",
       "    }\n",
       "\n",
       "    .dataframe tbody tr th {\n",
       "        vertical-align: top;\n",
       "    }\n",
       "\n",
       "    .dataframe thead th {\n",
       "        text-align: right;\n",
       "    }\n",
       "</style>\n",
       "<table border=\"1\" class=\"dataframe\">\n",
       "  <thead>\n",
       "    <tr style=\"text-align: right;\">\n",
       "      <th></th>\n",
       "      <th>order_total_price</th>\n",
       "    </tr>\n",
       "    <tr>\n",
       "      <th>paid_date</th>\n",
       "      <th></th>\n",
       "    </tr>\n",
       "  </thead>\n",
       "  <tbody>\n",
       "    <tr>\n",
       "      <th>2020-08-31</th>\n",
       "      <td>18000.0</td>\n",
       "    </tr>\n",
       "    <tr>\n",
       "      <th>2020-09-30</th>\n",
       "      <td>3471300.0</td>\n",
       "    </tr>\n",
       "    <tr>\n",
       "      <th>2020-10-31</th>\n",
       "      <td>2764500.0</td>\n",
       "    </tr>\n",
       "  </tbody>\n",
       "</table>\n",
       "</div>"
      ],
      "text/plain": [
       "            order_total_price\n",
       "paid_date                    \n",
       "2020-08-31            18000.0\n",
       "2020-09-30          3471300.0\n",
       "2020-10-31          2764500.0"
      ]
     },
     "metadata": {},
     "output_type": "display_data"
    },
    {
     "data": {
      "image/png": "[encoded data removed]",
      "text/plain": [
       "<Figure size 432x288 with 1 Axes>"
      ]
     },
     "metadata": {
      "needs_background": "light"
     },
     "output_type": "display_data"
    }
   ],
   "source": [
    "date_price_df = total_df.groupby(['paid_date'])[['order_total_price']].sum()\n",
    "month_price_df = date_price_df.asfreq('M')\n",
    "display(month_price_df)\n",
    "month_price_df.plot()\n",
    "plt.show()"
   ]
  },
  {
   "cell_type": "code",
   "execution_count": 9,
   "metadata": {
    "ExecuteTime": {
     "end_time": "2021-01-24T14:51:26.362996Z",
     "start_time": "2021-01-24T14:51:26.246327Z"
    }
   },
   "outputs": [
    {
     "data": {
      "text/html": [
       "<div>\n",
       "<style scoped>\n",
       "    .dataframe tbody tr th:only-of-type {\n",
       "        vertical-align: middle;\n",
       "    }\n",
       "\n",
       "    .dataframe tbody tr th {\n",
       "        vertical-align: top;\n",
       "    }\n",
       "\n",
       "    .dataframe thead th {\n",
       "        text-align: right;\n",
       "    }\n",
       "</style>\n",
       "<table border=\"1\" class=\"dataframe\">\n",
       "  <thead>\n",
       "    <tr style=\"text-align: right;\">\n",
       "      <th></th>\n",
       "      <th>user_idx</th>\n",
       "    </tr>\n",
       "    <tr>\n",
       "      <th>paid_date</th>\n",
       "      <th></th>\n",
       "    </tr>\n",
       "  </thead>\n",
       "  <tbody>\n",
       "    <tr>\n",
       "      <th>2020-08-31</th>\n",
       "      <td>1</td>\n",
       "    </tr>\n",
       "    <tr>\n",
       "      <th>2020-09-30</th>\n",
       "      <td>153</td>\n",
       "    </tr>\n",
       "    <tr>\n",
       "      <th>2020-10-31</th>\n",
       "      <td>100</td>\n",
       "    </tr>\n",
       "  </tbody>\n",
       "</table>\n",
       "</div>"
      ],
      "text/plain": [
       "            user_idx\n",
       "paid_date           \n",
       "2020-08-31         1\n",
       "2020-09-30       153\n",
       "2020-10-31       100"
      ]
     },
     "metadata": {},
     "output_type": "display_data"
    },
    {
     "data": {
      "image/png": "[encoded data removed]",
      "text/plain": [
       "<Figure size 432x288 with 1 Axes>"
      ]
     },
     "metadata": {
      "needs_background": "light"
     },
     "output_type": "display_data"
    }
   ],
   "source": [
    "dupli_total_df = total_df.drop_duplicates(subset=['user_idx'], keep='first')\n",
    "date_price_df = dupli_total_df.groupby(['paid_date'])[['user_idx']].count()\n",
    "month_price_df = date_price_df.asfreq('M')\n",
    "display(month_price_df)\n",
    "month_price_df.plot()\n",
    "plt.show()"
   ]
  },
  {
   "cell_type": "markdown",
   "metadata": {},
   "source": [
    "## 구매 구분별 매출액 및 구매자 수"
   ]
  },
  {
   "cell_type": "code",
   "execution_count": 10,
   "metadata": {
    "ExecuteTime": {
     "end_time": "2021-01-24T14:51:27.369321Z",
     "start_time": "2021-01-24T14:51:27.352367Z"
    }
   },
   "outputs": [],
   "source": [
    "total_df['subscription_type'].fillna('미구독', inplace=True)"
   ]
  },
  {
   "cell_type": "code",
   "execution_count": 11,
   "metadata": {
    "ExecuteTime": {
     "end_time": "2021-01-24T14:51:28.157336Z",
     "start_time": "2021-01-24T14:51:28.067563Z"
    }
   },
   "outputs": [
    {
     "data": {
      "text/plain": [
       "subscription_type\n",
       "구독     107127600.0\n",
       "미구독            0.0\n",
       "Name: order_total_price, dtype: float64"
      ]
     },
     "metadata": {},
     "output_type": "display_data"
    },
    {
     "data": {
      "image/png": "[encoded data removed]",
      "text/plain": [
       "<Figure size 432x288 with 1 Axes>"
      ]
     },
     "metadata": {
      "needs_background": "light"
     },
     "output_type": "display_data"
    }
   ],
   "source": [
    "total_day_df = total_df.groupby(['subscription_type'])['order_total_price'].sum()\n",
    "display(total_day_df)\n",
    "\n",
    "total_day_df.plot(kind='bar')\n",
    "plt.show()"
   ]
  },
  {
   "cell_type": "code",
   "execution_count": 12,
   "metadata": {
    "ExecuteTime": {
     "end_time": "2021-01-24T14:51:28.600321Z",
     "start_time": "2021-01-24T14:51:28.503554Z"
    }
   },
   "outputs": [
    {
     "data": {
      "text/plain": [
       "subscription_type\n",
       "구독     7277\n",
       "미구독    9922\n",
       "Name: user_idx, dtype: int64"
      ]
     },
     "metadata": {},
     "output_type": "display_data"
    },
    {
     "data": {
      "image/png": "[encoded data removed]",
      "text/plain": [
       "<Figure size 432x288 with 1 Axes>"
      ]
     },
     "metadata": {
      "needs_background": "light"
     },
     "output_type": "display_data"
    }
   ],
   "source": [
    "total_day_df = total_df.groupby(['subscription_type'])['user_idx'].count()\n",
    "display(total_day_df)\n",
    "\n",
    "total_day_df.plot(kind='bar')\n",
    "plt.show()"
   ]
  },
  {
   "cell_type": "code",
   "execution_count": 13,
   "metadata": {
    "ExecuteTime": {
     "end_time": "2021-01-24T14:51:28.994265Z",
     "start_time": "2021-01-24T14:51:28.975316Z"
    }
   },
   "outputs": [
    {
     "data": {
      "text/plain": [
       "미구독    9922\n",
       "구독     7277\n",
       "Name: subscription_type, dtype: int64"
      ]
     },
     "execution_count": 13,
     "metadata": {},
     "output_type": "execute_result"
    }
   ],
   "source": [
    "total_df['subscription_type'].value_counts()"
   ]
  },
  {
   "cell_type": "code",
   "execution_count": null,
   "metadata": {},
   "outputs": [],
   "source": []
  }
 ],
 "metadata": {
  "hide_input": false,
  "kernelspec": {
   "display_name": "Python 3",
   "language": "python",
   "name": "python3"
  },
  "language_info": {
   "codemirror_mode": {
    "name": "ipython",
    "version": 3
   },
   "file_extension": ".py",
   "mimetype": "text/x-python",
   "name": "python",
   "nbconvert_exporter": "python",
   "pygments_lexer": "ipython3",
   "version": "3.8.3"
  },
  "toc": {
   "base_numbering": 1,
   "nav_menu": {},
   "number_sections": true,
   "sideBar": true,
   "skip_h1_title": false,
   "title_cell": "Table of Contents",
   "title_sidebar": "Contents",
   "toc_cell": false,
   "toc_position": {},
   "toc_section_display": true,
   "toc_window_display": false
  },
  "varInspector": {
   "cols": {
    "lenName": 16,
    "lenType": 16,
    "lenVar": 40
   },
   "kernels_config": {
    "python": {
     "delete_cmd_postfix": "",
     "delete_cmd_prefix": "del ",
     "library": "var_list.py",
     "varRefreshCmd": "print(var_dic_list())"
    },
    "r": {
     "delete_cmd_postfix": ") ",
     "delete_cmd_prefix": "rm(",
     "library": "var_list.r",
     "varRefreshCmd": "cat(var_dic_list()) "
    }
   },
   "types_to_exclude": [
    "module",
    "function",
    "builtin_function_or_method",
    "instance",
    "_Feature"
   ],
   "window_display": false
  }
 },
 "nbformat": 4,
 "nbformat_minor": 4
}
