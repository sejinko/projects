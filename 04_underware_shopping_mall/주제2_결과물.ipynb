{
 "cells": [
  {
   "cell_type": "markdown",
   "metadata": {},
   "source": [
    "# 구매전환율 기준 마련 후 구매 전환율 계산.\n",
    "\n",
    "## 첫 구매 전환율(첫 번째 구매한 사람/ 가입일자를 가지고 있는 가입자 ID 수)\n",
    "\n",
    "### 분모\n",
    "1. 가입일자가 없는 유저ID를 제거한다.(모든 데이터가 가지고 있었음)\n",
    "  \n",
    "  → 가입일자가 없는 유저는 구매를 할 수 없고 측정할 수 없어서 가입일자가 없는 유저는 제외했다.\n",
    "2. 유저 ID를 중복제거를 한 데이터의 수를 구한다.\n",
    "  \n",
    "  → 분모에서 유저ID로 중복제거를 한 것은 말 같은 사람이 여러번 살 경우를 배제하기 위해서이다.\n",
    "\n",
    "\n",
    "### 분자\n",
    "1. 처음 테이블의 데이터에서 구매일자가 없는 데이터를 제거한다.\n",
    "  \n",
    "  → 구매일자가 없는 데이터는 구매를 하지 않은 데이터이기 때문에 삭제한다.\n",
    "2. 구매 날짜를 최신순으로 정렬한 후 유저 ID로 중복제거를 한 데이터의 수를 구한다.(중복제거 시 마지막 행만 남도록 한다.)\n",
    "  \n",
    "  → 구매 날짜를 최신순으로 정렬한 것은 유저 ID로 중복제거시 가장 처음 구입한 날짜를 구하기 위해서이다.\n",
    "  \n",
    "※ 추가로 첫 구매까지 몇 일이 걸리는지 알아보았다.\n",
    "\n",
    "\n",
    "### 가입 후 첫 구매 평균일자\n",
    "1. 구매일에서 가입을을 뺀다.\n",
    "2. joined_date 의 데이터와 paid_date의 데이터 타입이 달라서 빼기가 되질 않아\n",
    "values로 값을 뽑고 astype('datetime64[D]')로 타입을 변경한 다음 pd.Series로 만들어 두 데이터의 타입을 맞추고 날짜를 뺐다.\n",
    "\n",
    "\n",
    "\n",
    "### 결과\n",
    "5621 / 15512 로 첫 구매 전환율은 36.24%가 나왔으며 첫 구매까지 평균 ##일이 걸렸다.\n",
    "\n",
    "\n",
    "### 해석\n",
    "가입자 수가 적어서 그럴수도 있지만 그럼에도 불구하고 첫 구매 전환율이 36.24%로 매우 높으므로 신규 가입자 수를 많이 늘릴 수 있는 것이 필요하다.\n",
    "\n",
    "\n",
    "## 재구매 전환율(두 번째 구매한 사람/ 첫 번째 구매한 사람)\n",
    "\n",
    "\n",
    "### 분모\n",
    "1. 첫 번째 구매 전환율의 분자를 사용한다.\n",
    "  \n",
    "  → 첫 번째 구매 후 다음 구매를 몇 % 구매했는가를 보기 위해서\n",
    "  \n",
    "  \n",
    "  \n",
    "### 분자\n",
    "1. 처음 테이블의 데이터에서 구매일자가 없는 데이터를 제거한다.\n",
    "\n",
    "  → 구매일자가 없는 데이터는 구매를 하지 않은 데이터이기 때문에 삭제한다.\n",
    "2. 구매 날짜를 최신순으로 정렬한 후 유저 ID로 제일 중복된 유저 ID의 맨 마지막 일자의 유저 ID를 삭제한다.\n",
    "  \n",
    "  → 첫 번째 구매내역만 삭제하기 위해서 이다.\n",
    "3. 구매 날짜가 최신순으로 되어 있으므로 유저 ID로 맨 중복의 맨 마지막만 남겨두고 모두 삭제한다.\n",
    "  \n",
    "  → 두 번째 구매내역만 삭제하기 위해서 이다.\n",
    "  \n",
    "  \n",
    "\n",
    "### 결과\n",
    "5621 / 5621 로 재구매 전환율은 100% 이다.\n",
    "\n",
    "\n",
    "\n",
    "### 해석\n",
    "구매 후 재구매는 무조껀 일어난다고 할 수 있다."
   ]
  },
  {
   "cell_type": "code",
   "execution_count": 1,
   "metadata": {
    "ExecuteTime": {
     "end_time": "2021-01-21T10:56:31.458666Z",
     "start_time": "2021-01-21T10:56:26.707988Z"
    }
   },
   "outputs": [],
   "source": [
    "import pandas as pd\n",
    "import numpy as np\n",
    "import matplotlib.pyplot as plt\n",
    "import datetime as dt\n",
    "\n",
    "import warnings\n",
    "warnings.filterwarnings('ignore')"
   ]
  },
  {
   "cell_type": "code",
   "execution_count": 42,
   "metadata": {
    "ExecuteTime": {
     "end_time": "2021-01-21T11:59:57.672950Z",
     "start_time": "2021-01-21T11:59:57.094278Z"
    }
   },
   "outputs": [],
   "source": [
    "total_df = pd.DataFrame()\n",
    "payment_df = pd.read_csv('./payment_window.csv', encoding='CP949')\n",
    "bra_df = pd.read_csv('./bra_size_window.csv', encoding='CP949')\n",
    "user_df = pd.read_csv('./user_window.csv', encoding='CP949')\n",
    "pay_bra_df = pd.merge(payment_df, bra_df, how='outer', on='user_idx')\n",
    "total_df = pd.merge(pay_bra_df, user_df, on='user_idx')\n",
    "drop_cols = ['Unnamed: 0_x', 'Unnamed: 0', 'Unnamed: 0_y']\n",
    "total_df.drop(drop_cols, axis=1, inplace=True)\n",
    "total_df.reset_index(drop=True, inplace=True)\n",
    "\n",
    "total_df['paid_date'] = pd.to_datetime(total_df['paid_date'])\n",
    "total_df['joined_date'] = pd.to_datetime(total_df['joined_date'])\n",
    "total_df['created_date'] = pd.to_datetime(total_df['created_date'])"
   ]
  },
  {
   "cell_type": "code",
   "execution_count": 43,
   "metadata": {
    "ExecuteTime": {
     "end_time": "2021-01-21T11:59:58.581850Z",
     "start_time": "2021-01-21T11:59:58.536969Z"
    }
   },
   "outputs": [
    {
     "name": "stdout",
     "output_type": "stream",
     "text": [
      "(7308, 7)\n"
     ]
    },
    {
     "data": {
      "text/html": [
       "<div>\n",
       "<style scoped>\n",
       "    .dataframe tbody tr th:only-of-type {\n",
       "        vertical-align: middle;\n",
       "    }\n",
       "\n",
       "    .dataframe tbody tr th {\n",
       "        vertical-align: top;\n",
       "    }\n",
       "\n",
       "    .dataframe thead th {\n",
       "        text-align: right;\n",
       "    }\n",
       "</style>\n",
       "<table border=\"1\" class=\"dataframe\">\n",
       "  <thead>\n",
       "    <tr style=\"text-align: right;\">\n",
       "      <th></th>\n",
       "      <th>Unnamed: 0</th>\n",
       "      <th>user_idx</th>\n",
       "      <th>subscription_type</th>\n",
       "      <th>cart_discount_price</th>\n",
       "      <th>order_shipping_price</th>\n",
       "      <th>order_total_price</th>\n",
       "      <th>paid_date</th>\n",
       "    </tr>\n",
       "  </thead>\n",
       "  <tbody>\n",
       "    <tr>\n",
       "      <th>0</th>\n",
       "      <td>1</td>\n",
       "      <td>0973f573635c1b55a58f1d221f992bfeb0b3e007a93efb...</td>\n",
       "      <td>구독</td>\n",
       "      <td>5100</td>\n",
       "      <td>3000</td>\n",
       "      <td>12900</td>\n",
       "      <td>2020-10-21</td>\n",
       "    </tr>\n",
       "    <tr>\n",
       "      <th>1</th>\n",
       "      <td>2</td>\n",
       "      <td>305181c0babb5077b46ccb298a41469729a6760b19e44d...</td>\n",
       "      <td>구독</td>\n",
       "      <td>5100</td>\n",
       "      <td>3000</td>\n",
       "      <td>12900</td>\n",
       "      <td>2020-10-09</td>\n",
       "    </tr>\n",
       "    <tr>\n",
       "      <th>2</th>\n",
       "      <td>3</td>\n",
       "      <td>5fa450bdb2e831617f0132293d63638e0f93f1f62af4ca...</td>\n",
       "      <td>구독</td>\n",
       "      <td>5100</td>\n",
       "      <td>3000</td>\n",
       "      <td>12900</td>\n",
       "      <td>2020-10-11</td>\n",
       "    </tr>\n",
       "    <tr>\n",
       "      <th>3</th>\n",
       "      <td>4</td>\n",
       "      <td>85649b91d8ac8d2e84faa6c54032254356fe02c69d5fa0...</td>\n",
       "      <td>구독</td>\n",
       "      <td>5100</td>\n",
       "      <td>3000</td>\n",
       "      <td>12900</td>\n",
       "      <td>2020-10-14</td>\n",
       "    </tr>\n",
       "    <tr>\n",
       "      <th>4</th>\n",
       "      <td>5</td>\n",
       "      <td>05afd1abc70fce9afaa18482a0bb9c6cb082e65b1e0ab4...</td>\n",
       "      <td>구독</td>\n",
       "      <td>5100</td>\n",
       "      <td>3000</td>\n",
       "      <td>12900</td>\n",
       "      <td>2020-10-21</td>\n",
       "    </tr>\n",
       "  </tbody>\n",
       "</table>\n",
       "</div>"
      ],
      "text/plain": [
       "   Unnamed: 0                                           user_idx  \\\n",
       "0           1  0973f573635c1b55a58f1d221f992bfeb0b3e007a93efb...   \n",
       "1           2  305181c0babb5077b46ccb298a41469729a6760b19e44d...   \n",
       "2           3  5fa450bdb2e831617f0132293d63638e0f93f1f62af4ca...   \n",
       "3           4  85649b91d8ac8d2e84faa6c54032254356fe02c69d5fa0...   \n",
       "4           5  05afd1abc70fce9afaa18482a0bb9c6cb082e65b1e0ab4...   \n",
       "\n",
       "  subscription_type  cart_discount_price  order_shipping_price  \\\n",
       "0                구독                 5100                  3000   \n",
       "1                구독                 5100                  3000   \n",
       "2                구독                 5100                  3000   \n",
       "3                구독                 5100                  3000   \n",
       "4                구독                 5100                  3000   \n",
       "\n",
       "   order_total_price   paid_date  \n",
       "0              12900  2020-10-21  \n",
       "1              12900  2020-10-09  \n",
       "2              12900  2020-10-11  \n",
       "3              12900  2020-10-14  \n",
       "4              12900  2020-10-21  "
      ]
     },
     "metadata": {},
     "output_type": "display_data"
    },
    {
     "data": {
      "text/html": [
       "<div>\n",
       "<style scoped>\n",
       "    .dataframe tbody tr th:only-of-type {\n",
       "        vertical-align: middle;\n",
       "    }\n",
       "\n",
       "    .dataframe tbody tr th {\n",
       "        vertical-align: top;\n",
       "    }\n",
       "\n",
       "    .dataframe thead th {\n",
       "        text-align: right;\n",
       "    }\n",
       "</style>\n",
       "<table border=\"1\" class=\"dataframe\">\n",
       "  <thead>\n",
       "    <tr style=\"text-align: right;\">\n",
       "      <th></th>\n",
       "      <th>count</th>\n",
       "      <th>mean</th>\n",
       "      <th>std</th>\n",
       "      <th>min</th>\n",
       "      <th>25%</th>\n",
       "      <th>50%</th>\n",
       "      <th>75%</th>\n",
       "      <th>max</th>\n",
       "    </tr>\n",
       "  </thead>\n",
       "  <tbody>\n",
       "    <tr>\n",
       "      <th>Unnamed: 0</th>\n",
       "      <td>7308.0</td>\n",
       "      <td>3654.500000</td>\n",
       "      <td>2109.782216</td>\n",
       "      <td>1.0</td>\n",
       "      <td>1827.75</td>\n",
       "      <td>3654.5</td>\n",
       "      <td>5481.25</td>\n",
       "      <td>7308.0</td>\n",
       "    </tr>\n",
       "    <tr>\n",
       "      <th>cart_discount_price</th>\n",
       "      <td>7308.0</td>\n",
       "      <td>3267.939245</td>\n",
       "      <td>2729.677090</td>\n",
       "      <td>0.0</td>\n",
       "      <td>0.00</td>\n",
       "      <td>5100.0</td>\n",
       "      <td>5100.00</td>\n",
       "      <td>15000.0</td>\n",
       "    </tr>\n",
       "    <tr>\n",
       "      <th>order_shipping_price</th>\n",
       "      <td>7308.0</td>\n",
       "      <td>2970.443350</td>\n",
       "      <td>296.324772</td>\n",
       "      <td>0.0</td>\n",
       "      <td>3000.00</td>\n",
       "      <td>3000.0</td>\n",
       "      <td>3000.00</td>\n",
       "      <td>3000.0</td>\n",
       "    </tr>\n",
       "    <tr>\n",
       "      <th>order_total_price</th>\n",
       "      <td>7308.0</td>\n",
       "      <td>14658.949097</td>\n",
       "      <td>3071.579009</td>\n",
       "      <td>0.0</td>\n",
       "      <td>12900.00</td>\n",
       "      <td>12900.0</td>\n",
       "      <td>18000.00</td>\n",
       "      <td>27900.0</td>\n",
       "    </tr>\n",
       "  </tbody>\n",
       "</table>\n",
       "</div>"
      ],
      "text/plain": [
       "                       count          mean          std  min       25%  \\\n",
       "Unnamed: 0            7308.0   3654.500000  2109.782216  1.0   1827.75   \n",
       "cart_discount_price   7308.0   3267.939245  2729.677090  0.0      0.00   \n",
       "order_shipping_price  7308.0   2970.443350   296.324772  0.0   3000.00   \n",
       "order_total_price     7308.0  14658.949097  3071.579009  0.0  12900.00   \n",
       "\n",
       "                          50%       75%      max  \n",
       "Unnamed: 0             3654.5   5481.25   7308.0  \n",
       "cart_discount_price    5100.0   5100.00  15000.0  \n",
       "order_shipping_price   3000.0   3000.00   3000.0  \n",
       "order_total_price     12900.0  18000.00  27900.0  "
      ]
     },
     "metadata": {},
     "output_type": "display_data"
    },
    {
     "name": "stdout",
     "output_type": "stream",
     "text": [
      "<class 'pandas.core.frame.DataFrame'>\n",
      "RangeIndex: 7308 entries, 0 to 7307\n",
      "Data columns (total 7 columns):\n",
      " #   Column                Non-Null Count  Dtype \n",
      "---  ------                --------------  ----- \n",
      " 0   Unnamed: 0            7308 non-null   int64 \n",
      " 1   user_idx              7308 non-null   object\n",
      " 2   subscription_type     7277 non-null   object\n",
      " 3   cart_discount_price   7308 non-null   int64 \n",
      " 4   order_shipping_price  7308 non-null   int64 \n",
      " 5   order_total_price     7308 non-null   int64 \n",
      " 6   paid_date             7308 non-null   object\n",
      "dtypes: int64(4), object(3)\n",
      "memory usage: 399.8+ KB\n",
      "None\n"
     ]
    }
   ],
   "source": [
    "print(payment_df.shape)\n",
    "display(payment_df.head())\n",
    "display(payment_df.describe().T)\n",
    "print(payment_df.info())"
   ]
  },
  {
   "cell_type": "code",
   "execution_count": 5,
   "metadata": {
    "ExecuteTime": {
     "end_time": "2021-01-21T07:55:35.594978Z",
     "start_time": "2021-01-21T07:55:35.578023Z"
    }
   },
   "outputs": [
    {
     "data": {
      "text/plain": [
       "Index(['user_idx', 'subscription_type', 'cart_discount_price',\n",
       "       'order_shipping_price', 'order_total_price', 'paid_date', 'size',\n",
       "       'created_date', 'status', 'third_party_join_type', 'joined_date'],\n",
       "      dtype='object')"
      ]
     },
     "execution_count": 5,
     "metadata": {},
     "output_type": "execute_result"
    }
   ],
   "source": [
    "total_df.columns"
   ]
  },
  {
   "cell_type": "markdown",
   "metadata": {},
   "source": [
    "# 첫 구매 전환율(첫 번째 구매한 사람/ 가입일자를 가지고 있는 가입자 ID 수)"
   ]
  },
  {
   "cell_type": "code",
   "execution_count": 89,
   "metadata": {
    "ExecuteTime": {
     "end_time": "2021-01-21T12:21:20.132433Z",
     "start_time": "2021-01-21T12:21:20.090546Z"
    }
   },
   "outputs": [
    {
     "name": "stdout",
     "output_type": "stream",
     "text": [
      "첫 구매 전환율 :  36.23646209386281\n",
      "평균 첫 구매까지 걸리는 기간 :  0        0 days\n",
      "1      118 days\n",
      "2        0 days\n",
      "3        1 days\n",
      "4        0 days\n",
      "         ...   \n",
      "5616    36 days\n",
      "5617   367 days\n",
      "5618    31 days\n",
      "5619     0 days\n",
      "5620   153 days\n",
      "Length: 5621, dtype: timedelta64[ns]\n"
     ]
    }
   ],
   "source": [
    "total_df.shape\n",
    "\n",
    "# 가입날짜 없는 데이터 거르기(가입날짜 없는 데이터 없음)\n",
    "total_join_df = total_df[total_df['joined_date'].notnull()]\n",
    "total_join_df.shape\n",
    "\n",
    "# 분모\n",
    "total_dupli_df = total_df.drop_duplicates(subset=['user_idx'], keep='last')\n",
    "total_dupli_df.shape\n",
    "\n",
    "\n",
    "# 분자\n",
    "total_paid_df = total_df[total_df['paid_date'].notnull()]\n",
    "total_paid_df.shape\n",
    "\n",
    "total_paid_sort_df = total_paid_df.sort_values(by='paid_date', ascending=False)\n",
    "total_paid_sort_df.shape\n",
    "\n",
    "total_paid_sort_dupli_df = total_paid_sort_df.drop_duplicates(subset=['user_idx'], keep='last')\n",
    "total_paid_sort_dupli_df.shape\n",
    "\n",
    "\n",
    "# 첫 구매까지 걸리는 평균 기간\n",
    "print(\"첫 구매 전환율 : \",total_paid_sort_dupli_df.shape[0]/total_dupli_df.shape[0] * 100)\n",
    "print(\"평균 첫 구매까지 걸리는 기간 : \",pd.Series(total_paid_sort_dupli_df['paid_date'].values.astype('datetime64[D]')) - \\\n",
    "      pd.Series(total_paid_sort_dupli_df['joined_date'].values.astype('datetime64[D]')))"
   ]
  },
  {
   "cell_type": "code",
   "execution_count": 94,
   "metadata": {
    "ExecuteTime": {
     "end_time": "2021-01-21T12:25:37.415695Z",
     "start_time": "2021-01-21T12:25:37.396746Z"
    }
   },
   "outputs": [],
   "source": [
    "sum_date = pd.Series(total_paid_sort_dupli_df['paid_date'].values.astype('datetime64[D]')) - \\\n",
    "           pd.Series(total_paid_sort_dupli_df['joined_date'].values.astype('datetime64[D]'))"
   ]
  },
  {
   "cell_type": "code",
   "execution_count": 72,
   "metadata": {
    "ExecuteTime": {
     "end_time": "2021-01-21T12:12:48.447832Z",
     "start_time": "2021-01-21T12:12:48.432872Z"
    }
   },
   "outputs": [
    {
     "name": "stdout",
     "output_type": "stream",
     "text": [
      "<class 'pandas.core.frame.DataFrame'>\n",
      "RangeIndex: 17199 entries, 0 to 17198\n",
      "Data columns (total 11 columns):\n",
      " #   Column                 Non-Null Count  Dtype                                \n",
      "---  ------                 --------------  -----                                \n",
      " 0   user_idx               17199 non-null  object                               \n",
      " 1   subscription_type      7277 non-null   object                               \n",
      " 2   cart_discount_price    7308 non-null   float64                              \n",
      " 3   order_shipping_price   7308 non-null   float64                              \n",
      " 4   order_total_price      7308 non-null   float64                              \n",
      " 5   paid_date              7308 non-null   datetime64[ns]                       \n",
      " 6   size                   16588 non-null  object                               \n",
      " 7   created_date           16602 non-null  datetime64[ns, pytz.FixedOffset(540)]\n",
      " 8   status                 17199 non-null  int64                                \n",
      " 9   third_party_join_type  1392 non-null   object                               \n",
      " 10  joined_date            17199 non-null  datetime64[ns, pytz.FixedOffset(540)]\n",
      "dtypes: datetime64[ns, pytz.FixedOffset(540)](2), datetime64[ns](1), float64(3), int64(1), object(4)\n",
      "memory usage: 1.4+ MB\n"
     ]
    }
   ],
   "source": [
    "total_df.info()"
   ]
  },
  {
   "cell_type": "code",
   "execution_count": 85,
   "metadata": {
    "ExecuteTime": {
     "end_time": "2021-01-21T12:18:43.904262Z",
     "start_time": "2021-01-21T12:18:43.892274Z"
    }
   },
   "outputs": [
    {
     "data": {
      "text/plain": [
       "6561   2020-10-31\n",
       "6558   2020-10-31\n",
       "5338   2020-10-31\n",
       "2559   2020-10-31\n",
       "6545   2020-10-31\n",
       "          ...    \n",
       "2098   2020-09-10\n",
       "79     2020-09-09\n",
       "6852   2020-09-09\n",
       "5256   2020-09-07\n",
       "1675   2020-08-31\n",
       "Name: paid_date, Length: 5621, dtype: datetime64[ns]"
      ]
     },
     "execution_count": 85,
     "metadata": {},
     "output_type": "execute_result"
    }
   ],
   "source": [
    "total_paid_sort_dupli_df['paid_date']"
   ]
  },
  {
   "cell_type": "code",
   "execution_count": 46,
   "metadata": {
    "ExecuteTime": {
     "end_time": "2021-01-21T12:00:12.815498Z",
     "start_time": "2021-01-21T12:00:12.802532Z"
    }
   },
   "outputs": [
    {
     "name": "stdout",
     "output_type": "stream",
     "text": [
      "<class 'pandas.core.frame.DataFrame'>\n",
      "RangeIndex: 17199 entries, 0 to 17198\n",
      "Data columns (total 11 columns):\n",
      " #   Column                 Non-Null Count  Dtype                                \n",
      "---  ------                 --------------  -----                                \n",
      " 0   user_idx               17199 non-null  object                               \n",
      " 1   subscription_type      7277 non-null   object                               \n",
      " 2   cart_discount_price    7308 non-null   float64                              \n",
      " 3   order_shipping_price   7308 non-null   float64                              \n",
      " 4   order_total_price      7308 non-null   float64                              \n",
      " 5   paid_date              7308 non-null   datetime64[ns]                       \n",
      " 6   size                   16588 non-null  object                               \n",
      " 7   created_date           16602 non-null  datetime64[ns, pytz.FixedOffset(540)]\n",
      " 8   status                 17199 non-null  int64                                \n",
      " 9   third_party_join_type  1392 non-null   object                               \n",
      " 10  joined_date            17199 non-null  datetime64[ns, pytz.FixedOffset(540)]\n",
      "dtypes: datetime64[ns, pytz.FixedOffset(540)](2), datetime64[ns](1), float64(3), int64(1), object(4)\n",
      "memory usage: 1.4+ MB\n"
     ]
    }
   ],
   "source": [
    "total_df.info()"
   ]
  },
  {
   "cell_type": "markdown",
   "metadata": {},
   "source": [
    "# 재구매 전환율(두 번째 구매한 사람/ 첫 번째 구매한 사람)"
   ]
  },
  {
   "cell_type": "code",
   "execution_count": 178,
   "metadata": {
    "ExecuteTime": {
     "end_time": "2021-01-21T13:36:24.962907Z",
     "start_time": "2021-01-21T13:36:24.938971Z"
    }
   },
   "outputs": [
    {
     "name": "stdout",
     "output_type": "stream",
     "text": [
      "재구매 전환율 :  100.0\n"
     ]
    }
   ],
   "source": [
    "#분모\n",
    "total_paid_df = total_df[total_df['paid_date'].notnull()]\n",
    "total_paid_df.shape\n",
    "\n",
    "total_paid_sort_df = total_paid_df.sort_values(by='paid_date', ascending=False)\n",
    "total_paid_sort_df.shape\n",
    "\n",
    "total_paid_sort_dupli_df = total_paid_sort_df.drop_duplicates(subset=['user_idx'], keep='last')\n",
    "total_paid_sort_dupli_df.shape\n",
    "\n",
    "#분자\n",
    "\n",
    "# 중복 제거하기 전에서 맨 처음 중복인 데이터를 제거하고 그 다음으로 맨 처음인 것을 중복제거 하고 진행\n",
    "\n",
    "total_paid_sort_first_dupli_df = total_paid_sort_df[total_paid_sort_df.duplicated(subset=['user_idx'], keep='last')]\n",
    "\n",
    "total_paid_sort_first_dupli_drop_df = total_paid_sort_df.drop(index=total_paid_sort_fist_dupli_df.index, axis=0)\n",
    "\n",
    "total_paid_sort_first_dupli_drop_dulpi_df = total_paid_sort_first_dupli_drop_df.drop_duplicates(subset=['user_idx'], keep='last')\n",
    "\n",
    "\n",
    "print(\"재구매 전환율 : \",total_paid_sort_first_dupli_drop_dulpi_df.shape[0]/\\\n",
    "      total_paid_sort_first_dupli_drop_dulpi_df.shape[0] * 100)\n",
    "\n"
   ]
  },
  {
   "cell_type": "code",
   "execution_count": null,
   "metadata": {},
   "outputs": [],
   "source": []
  }
 ],
 "metadata": {
  "hide_input": false,
  "kernelspec": {
   "display_name": "Python 3",
   "language": "python",
   "name": "python3"
  },
  "language_info": {
   "codemirror_mode": {
    "name": "ipython",
    "version": 3
   },
   "file_extension": ".py",
   "mimetype": "text/x-python",
   "name": "python",
   "nbconvert_exporter": "python",
   "pygments_lexer": "ipython3",
   "version": "3.8.3"
  },
  "toc": {
   "base_numbering": 1,
   "nav_menu": {},
   "number_sections": true,
   "sideBar": true,
   "skip_h1_title": false,
   "title_cell": "Table of Contents",
   "title_sidebar": "Contents",
   "toc_cell": false,
   "toc_position": {},
   "toc_section_display": true,
   "toc_window_display": false
  },
  "varInspector": {
   "cols": {
    "lenName": 16,
    "lenType": 16,
    "lenVar": 40
   },
   "kernels_config": {
    "python": {
     "delete_cmd_postfix": "",
     "delete_cmd_prefix": "del ",
     "library": "var_list.py",
     "varRefreshCmd": "print(var_dic_list())"
    },
    "r": {
     "delete_cmd_postfix": ") ",
     "delete_cmd_prefix": "rm(",
     "library": "var_list.r",
     "varRefreshCmd": "cat(var_dic_list()) "
    }
   },
   "types_to_exclude": [
    "module",
    "function",
    "builtin_function_or_method",
    "instance",
    "_Feature"
   ],
   "window_display": false
  }
 },
 "nbformat": 4,
 "nbformat_minor": 4
}
