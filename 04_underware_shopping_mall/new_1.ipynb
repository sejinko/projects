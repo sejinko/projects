{
 "cells": [
  {
   "cell_type": "code",
   "execution_count": 1,
   "metadata": {
    "ExecuteTime": {
     "end_time": "2022-02-13T06:26:09.710666Z",
     "start_time": "2022-02-13T06:26:07.162704Z"
    }
   },
   "outputs": [],
   "source": [
    "import pandas as pd\n",
    "import numpy as np\n",
    "import matplotlib.pyplot as plt\n",
    "import datetime as dt\n",
    "import statsmodels.api as sm\n",
    "\n",
    "import warnings\n",
    "warnings.filterwarnings('ignore')"
   ]
  },
  {
   "cell_type": "code",
   "execution_count": 2,
   "metadata": {
    "ExecuteTime": {
     "end_time": "2022-02-13T06:26:31.342526Z",
     "start_time": "2022-02-13T06:26:30.681120Z"
    }
   },
   "outputs": [],
   "source": [
    "total_df = pd.DataFrame()\n",
    "payment_df = pd.read_csv('./payment_window.csv', encoding='CP949')\n",
    "bra_df = pd.read_csv('./bra_size_window.csv', encoding='CP949')\n",
    "user_df = pd.read_csv('./user_window.csv', encoding='CP949')\n",
    "pay_bra_df = pd.merge(payment_df, bra_df, how='outer', on='user_idx')\n",
    "total_df = pd.merge(pay_bra_df, user_df, on='user_idx')\n",
    "drop_cols = ['Unnamed: 0_x', 'Unnamed: 0', 'Unnamed: 0_y']\n",
    "total_df.drop(drop_cols, axis=1, inplace=True)\n",
    "total_df.reset_index(drop=True, inplace=True)\n",
    "\n",
    "total_df['paid_date'] = pd.to_datetime(total_df['paid_date'])\n",
    "total_df['joined_date'] = pd.to_datetime(total_df['joined_date'])\n",
    "total_df['created_date'] = pd.to_datetime(total_df['created_date'])"
   ]
  },
  {
   "cell_type": "code",
   "execution_count": 3,
   "metadata": {
    "ExecuteTime": {
     "end_time": "2022-02-13T06:26:36.400969Z",
     "start_time": "2022-02-13T06:26:36.377035Z"
    }
   },
   "outputs": [
    {
     "data": {
      "text/html": [
       "<div>\n",
       "<style scoped>\n",
       "    .dataframe tbody tr th:only-of-type {\n",
       "        vertical-align: middle;\n",
       "    }\n",
       "\n",
       "    .dataframe tbody tr th {\n",
       "        vertical-align: top;\n",
       "    }\n",
       "\n",
       "    .dataframe thead th {\n",
       "        text-align: right;\n",
       "    }\n",
       "</style>\n",
       "<table border=\"1\" class=\"dataframe\">\n",
       "  <thead>\n",
       "    <tr style=\"text-align: right;\">\n",
       "      <th></th>\n",
       "      <th>user_idx</th>\n",
       "      <th>subscription_type</th>\n",
       "      <th>cart_discount_price</th>\n",
       "      <th>order_shipping_price</th>\n",
       "      <th>order_total_price</th>\n",
       "      <th>paid_date</th>\n",
       "      <th>size</th>\n",
       "      <th>created_date</th>\n",
       "      <th>status</th>\n",
       "      <th>third_party_join_type</th>\n",
       "      <th>joined_date</th>\n",
       "    </tr>\n",
       "  </thead>\n",
       "  <tbody>\n",
       "    <tr>\n",
       "      <th>0</th>\n",
       "      <td>0973f573635c1b55a58f1d221f992bfeb0b3e007a93efb...</td>\n",
       "      <td>구독</td>\n",
       "      <td>5100.0</td>\n",
       "      <td>3000.0</td>\n",
       "      <td>12900.0</td>\n",
       "      <td>2020-10-21</td>\n",
       "      <td>80A</td>\n",
       "      <td>2020-09-25 20:30:29+09:00</td>\n",
       "      <td>0</td>\n",
       "      <td>NaN</td>\n",
       "      <td>2020-09-21 16:07:34+09:00</td>\n",
       "    </tr>\n",
       "    <tr>\n",
       "      <th>1</th>\n",
       "      <td>305181c0babb5077b46ccb298a41469729a6760b19e44d...</td>\n",
       "      <td>구독</td>\n",
       "      <td>5100.0</td>\n",
       "      <td>3000.0</td>\n",
       "      <td>12900.0</td>\n",
       "      <td>2020-10-09</td>\n",
       "      <td>75B</td>\n",
       "      <td>2020-10-21 22:49:35+09:00</td>\n",
       "      <td>0</td>\n",
       "      <td>NaN</td>\n",
       "      <td>2020-10-09 23:38:44+09:00</td>\n",
       "    </tr>\n",
       "    <tr>\n",
       "      <th>2</th>\n",
       "      <td>5fa450bdb2e831617f0132293d63638e0f93f1f62af4ca...</td>\n",
       "      <td>구독</td>\n",
       "      <td>5100.0</td>\n",
       "      <td>3000.0</td>\n",
       "      <td>12900.0</td>\n",
       "      <td>2020-10-11</td>\n",
       "      <td>80C</td>\n",
       "      <td>2020-10-21 05:11:29+09:00</td>\n",
       "      <td>0</td>\n",
       "      <td>NaN</td>\n",
       "      <td>2020-10-11 13:20:13+09:00</td>\n",
       "    </tr>\n",
       "    <tr>\n",
       "      <th>3</th>\n",
       "      <td>85649b91d8ac8d2e84faa6c54032254356fe02c69d5fa0...</td>\n",
       "      <td>구독</td>\n",
       "      <td>5100.0</td>\n",
       "      <td>3000.0</td>\n",
       "      <td>12900.0</td>\n",
       "      <td>2020-10-14</td>\n",
       "      <td>80B</td>\n",
       "      <td>2020-10-21 05:11:29+09:00</td>\n",
       "      <td>0</td>\n",
       "      <td>NaN</td>\n",
       "      <td>2020-10-14 22:35:15+09:00</td>\n",
       "    </tr>\n",
       "    <tr>\n",
       "      <th>4</th>\n",
       "      <td>05afd1abc70fce9afaa18482a0bb9c6cb082e65b1e0ab4...</td>\n",
       "      <td>구독</td>\n",
       "      <td>5100.0</td>\n",
       "      <td>3000.0</td>\n",
       "      <td>12900.0</td>\n",
       "      <td>2020-10-21</td>\n",
       "      <td>70A</td>\n",
       "      <td>2020-10-24 01:05:30+09:00</td>\n",
       "      <td>0</td>\n",
       "      <td>NaN</td>\n",
       "      <td>2020-10-21 19:38:04+09:00</td>\n",
       "    </tr>\n",
       "  </tbody>\n",
       "</table>\n",
       "</div>"
      ],
      "text/plain": [
       "                                            user_idx subscription_type  \\\n",
       "0  0973f573635c1b55a58f1d221f992bfeb0b3e007a93efb...                구독   \n",
       "1  305181c0babb5077b46ccb298a41469729a6760b19e44d...                구독   \n",
       "2  5fa450bdb2e831617f0132293d63638e0f93f1f62af4ca...                구독   \n",
       "3  85649b91d8ac8d2e84faa6c54032254356fe02c69d5fa0...                구독   \n",
       "4  05afd1abc70fce9afaa18482a0bb9c6cb082e65b1e0ab4...                구독   \n",
       "\n",
       "   cart_discount_price  order_shipping_price  order_total_price  paid_date  \\\n",
       "0               5100.0                3000.0            12900.0 2020-10-21   \n",
       "1               5100.0                3000.0            12900.0 2020-10-09   \n",
       "2               5100.0                3000.0            12900.0 2020-10-11   \n",
       "3               5100.0                3000.0            12900.0 2020-10-14   \n",
       "4               5100.0                3000.0            12900.0 2020-10-21   \n",
       "\n",
       "  size              created_date  status third_party_join_type  \\\n",
       "0  80A 2020-09-25 20:30:29+09:00       0                   NaN   \n",
       "1  75B 2020-10-21 22:49:35+09:00       0                   NaN   \n",
       "2  80C 2020-10-21 05:11:29+09:00       0                   NaN   \n",
       "3  80B 2020-10-21 05:11:29+09:00       0                   NaN   \n",
       "4  70A 2020-10-24 01:05:30+09:00       0                   NaN   \n",
       "\n",
       "                joined_date  \n",
       "0 2020-09-21 16:07:34+09:00  \n",
       "1 2020-10-09 23:38:44+09:00  \n",
       "2 2020-10-11 13:20:13+09:00  \n",
       "3 2020-10-14 22:35:15+09:00  \n",
       "4 2020-10-21 19:38:04+09:00  "
      ]
     },
     "execution_count": 3,
     "metadata": {},
     "output_type": "execute_result"
    }
   ],
   "source": [
    "total_df.head()"
   ]
  },
  {
   "cell_type": "code",
   "execution_count": 9,
   "metadata": {
    "ExecuteTime": {
     "end_time": "2022-02-13T11:38:58.158320Z",
     "start_time": "2022-02-13T11:38:58.110834Z"
    }
   },
   "outputs": [
    {
     "data": {
      "text/plain": [
       "(17199, 11)"
      ]
     },
     "execution_count": 9,
     "metadata": {},
     "output_type": "execute_result"
    }
   ],
   "source": [
    "total_df.shape"
   ]
  },
  {
   "cell_type": "code",
   "execution_count": 10,
   "metadata": {
    "ExecuteTime": {
     "end_time": "2022-02-13T11:39:08.029383Z",
     "start_time": "2022-02-13T11:39:07.853784Z"
    }
   },
   "outputs": [
    {
     "data": {
      "text/html": [
       "<div>\n",
       "<style scoped>\n",
       "    .dataframe tbody tr th:only-of-type {\n",
       "        vertical-align: middle;\n",
       "    }\n",
       "\n",
       "    .dataframe tbody tr th {\n",
       "        vertical-align: top;\n",
       "    }\n",
       "\n",
       "    .dataframe thead th {\n",
       "        text-align: right;\n",
       "    }\n",
       "</style>\n",
       "<table border=\"1\" class=\"dataframe\">\n",
       "  <thead>\n",
       "    <tr style=\"text-align: right;\">\n",
       "      <th></th>\n",
       "      <th>cart_discount_price</th>\n",
       "      <th>order_shipping_price</th>\n",
       "      <th>order_total_price</th>\n",
       "      <th>status</th>\n",
       "    </tr>\n",
       "  </thead>\n",
       "  <tbody>\n",
       "    <tr>\n",
       "      <th>count</th>\n",
       "      <td>7308.000000</td>\n",
       "      <td>7308.000000</td>\n",
       "      <td>7308.000000</td>\n",
       "      <td>17199.000000</td>\n",
       "    </tr>\n",
       "    <tr>\n",
       "      <th>mean</th>\n",
       "      <td>3267.939245</td>\n",
       "      <td>2970.443350</td>\n",
       "      <td>14658.949097</td>\n",
       "      <td>0.008838</td>\n",
       "    </tr>\n",
       "    <tr>\n",
       "      <th>std</th>\n",
       "      <td>2729.677090</td>\n",
       "      <td>296.324772</td>\n",
       "      <td>3071.579009</td>\n",
       "      <td>0.093596</td>\n",
       "    </tr>\n",
       "    <tr>\n",
       "      <th>min</th>\n",
       "      <td>0.000000</td>\n",
       "      <td>0.000000</td>\n",
       "      <td>0.000000</td>\n",
       "      <td>0.000000</td>\n",
       "    </tr>\n",
       "    <tr>\n",
       "      <th>25%</th>\n",
       "      <td>0.000000</td>\n",
       "      <td>3000.000000</td>\n",
       "      <td>12900.000000</td>\n",
       "      <td>0.000000</td>\n",
       "    </tr>\n",
       "    <tr>\n",
       "      <th>50%</th>\n",
       "      <td>5100.000000</td>\n",
       "      <td>3000.000000</td>\n",
       "      <td>12900.000000</td>\n",
       "      <td>0.000000</td>\n",
       "    </tr>\n",
       "    <tr>\n",
       "      <th>75%</th>\n",
       "      <td>5100.000000</td>\n",
       "      <td>3000.000000</td>\n",
       "      <td>18000.000000</td>\n",
       "      <td>0.000000</td>\n",
       "    </tr>\n",
       "    <tr>\n",
       "      <th>max</th>\n",
       "      <td>15000.000000</td>\n",
       "      <td>3000.000000</td>\n",
       "      <td>27900.000000</td>\n",
       "      <td>1.000000</td>\n",
       "    </tr>\n",
       "  </tbody>\n",
       "</table>\n",
       "</div>"
      ],
      "text/plain": [
       "       cart_discount_price  order_shipping_price  order_total_price  \\\n",
       "count          7308.000000           7308.000000        7308.000000   \n",
       "mean           3267.939245           2970.443350       14658.949097   \n",
       "std            2729.677090            296.324772        3071.579009   \n",
       "min               0.000000              0.000000           0.000000   \n",
       "25%               0.000000           3000.000000       12900.000000   \n",
       "50%            5100.000000           3000.000000       12900.000000   \n",
       "75%            5100.000000           3000.000000       18000.000000   \n",
       "max           15000.000000           3000.000000       27900.000000   \n",
       "\n",
       "             status  \n",
       "count  17199.000000  \n",
       "mean       0.008838  \n",
       "std        0.093596  \n",
       "min        0.000000  \n",
       "25%        0.000000  \n",
       "50%        0.000000  \n",
       "75%        0.000000  \n",
       "max        1.000000  "
      ]
     },
     "execution_count": 10,
     "metadata": {},
     "output_type": "execute_result"
    }
   ],
   "source": [
    "total_df.describe()"
   ]
  },
  {
   "cell_type": "code",
   "execution_count": 11,
   "metadata": {
    "ExecuteTime": {
     "end_time": "2022-02-13T11:39:17.839252Z",
     "start_time": "2022-02-13T11:39:17.812326Z"
    }
   },
   "outputs": [
    {
     "name": "stdout",
     "output_type": "stream",
     "text": [
      "<class 'pandas.core.frame.DataFrame'>\n",
      "RangeIndex: 17199 entries, 0 to 17198\n",
      "Data columns (total 11 columns):\n",
      " #   Column                 Non-Null Count  Dtype                                \n",
      "---  ------                 --------------  -----                                \n",
      " 0   user_idx               17199 non-null  object                               \n",
      " 1   subscription_type      7277 non-null   object                               \n",
      " 2   cart_discount_price    7308 non-null   float64                              \n",
      " 3   order_shipping_price   7308 non-null   float64                              \n",
      " 4   order_total_price      7308 non-null   float64                              \n",
      " 5   paid_date              7308 non-null   datetime64[ns]                       \n",
      " 6   size                   16588 non-null  object                               \n",
      " 7   created_date           16602 non-null  datetime64[ns, pytz.FixedOffset(540)]\n",
      " 8   status                 17199 non-null  int64                                \n",
      " 9   third_party_join_type  1392 non-null   object                               \n",
      " 10  joined_date            17199 non-null  datetime64[ns, pytz.FixedOffset(540)]\n",
      "dtypes: datetime64[ns, pytz.FixedOffset(540)](2), datetime64[ns](1), float64(3), int64(1), object(4)\n",
      "memory usage: 1.4+ MB\n"
     ]
    }
   ],
   "source": [
    "total_df.info()"
   ]
  },
  {
   "cell_type": "markdown",
   "metadata": {},
   "source": [
    "# 전처리"
   ]
  },
  {
   "cell_type": "markdown",
   "metadata": {},
   "source": [
    "## 컬럼별 전처리"
   ]
  },
  {
   "cell_type": "code",
   "execution_count": 7,
   "metadata": {
    "ExecuteTime": {
     "end_time": "2022-02-13T11:37:38.359722Z",
     "start_time": "2022-02-13T11:37:38.282283Z"
    }
   },
   "outputs": [
    {
     "data": {
      "text/plain": [
       "user_idx                     0\n",
       "subscription_type         9922\n",
       "cart_discount_price       9891\n",
       "order_shipping_price      9891\n",
       "order_total_price         9891\n",
       "paid_date                 9891\n",
       "size                       611\n",
       "created_date               597\n",
       "status                       0\n",
       "third_party_join_type    15807\n",
       "joined_date                  0\n",
       "dtype: int64"
      ]
     },
     "execution_count": 7,
     "metadata": {},
     "output_type": "execute_result"
    }
   ],
   "source": [
    "total_df.isnull().sum()"
   ]
  },
  {
   "cell_type": "code",
   "execution_count": 14,
   "metadata": {
    "ExecuteTime": {
     "end_time": "2022-02-13T11:40:23.200721Z",
     "start_time": "2022-02-13T11:40:23.193739Z"
    }
   },
   "outputs": [],
   "source": [
    "total_df['subscription_type'] = total_df['subscription_type'].fillna('미구독')"
   ]
  },
  {
   "cell_type": "code",
   "execution_count": 15,
   "metadata": {
    "ExecuteTime": {
     "end_time": "2022-02-13T11:40:42.924407Z",
     "start_time": "2022-02-13T11:40:42.883491Z"
    }
   },
   "outputs": [
    {
     "data": {
      "text/plain": [
       "5100.0     4471\n",
       "0.0        2765\n",
       "15000.0      72\n",
       "Name: cart_discount_price, dtype: int64"
      ]
     },
     "execution_count": 15,
     "metadata": {},
     "output_type": "execute_result"
    }
   ],
   "source": [
    "total_df['cart_discount_price'].value_counts()"
   ]
  },
  {
   "cell_type": "code",
   "execution_count": 8,
   "metadata": {
    "ExecuteTime": {
     "end_time": "2022-02-13T11:38:23.510726Z",
     "start_time": "2022-02-13T11:38:23.460854Z"
    }
   },
   "outputs": [
    {
     "data": {
      "text/plain": [
       "구독    7277\n",
       "Name: subscription_type, dtype: int64"
      ]
     },
     "execution_count": 8,
     "metadata": {},
     "output_type": "execute_result"
    }
   ],
   "source": [
    "total_df['subscription_type'].value_counts()"
   ]
  },
  {
   "cell_type": "code",
   "execution_count": null,
   "metadata": {},
   "outputs": [],
   "source": []
  },
  {
   "cell_type": "code",
   "execution_count": null,
   "metadata": {},
   "outputs": [],
   "source": []
  },
  {
   "cell_type": "code",
   "execution_count": null,
   "metadata": {},
   "outputs": [],
   "source": []
  },
  {
   "cell_type": "code",
   "execution_count": null,
   "metadata": {},
   "outputs": [],
   "source": []
  },
  {
   "cell_type": "code",
   "execution_count": null,
   "metadata": {},
   "outputs": [],
   "source": []
  },
  {
   "cell_type": "code",
   "execution_count": null,
   "metadata": {},
   "outputs": [],
   "source": []
  },
  {
   "cell_type": "code",
   "execution_count": null,
   "metadata": {},
   "outputs": [],
   "source": []
  },
  {
   "cell_type": "code",
   "execution_count": null,
   "metadata": {},
   "outputs": [],
   "source": []
  }
 ],
 "metadata": {
  "hide_input": false,
  "kernelspec": {
   "display_name": "Python 3",
   "language": "python",
   "name": "python3"
  },
  "language_info": {
   "codemirror_mode": {
    "name": "ipython",
    "version": 3
   },
   "file_extension": ".py",
   "mimetype": "text/x-python",
   "name": "python",
   "nbconvert_exporter": "python",
   "pygments_lexer": "ipython3",
   "version": "3.8.3"
  },
  "toc": {
   "base_numbering": 1,
   "nav_menu": {},
   "number_sections": true,
   "sideBar": true,
   "skip_h1_title": false,
   "title_cell": "Table of Contents",
   "title_sidebar": "Contents",
   "toc_cell": false,
   "toc_position": {},
   "toc_section_display": true,
   "toc_window_display": false
  },
  "varInspector": {
   "cols": {
    "lenName": 16,
    "lenType": 16,
    "lenVar": 40
   },
   "kernels_config": {
    "python": {
     "delete_cmd_postfix": "",
     "delete_cmd_prefix": "del ",
     "library": "var_list.py",
     "varRefreshCmd": "print(var_dic_list())"
    },
    "r": {
     "delete_cmd_postfix": ") ",
     "delete_cmd_prefix": "rm(",
     "library": "var_list.r",
     "varRefreshCmd": "cat(var_dic_list()) "
    }
   },
   "types_to_exclude": [
    "module",
    "function",
    "builtin_function_or_method",
    "instance",
    "_Feature"
   ],
   "window_display": false
  }
 },
 "nbformat": 4,
 "nbformat_minor": 4
}
