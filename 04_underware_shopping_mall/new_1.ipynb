{
 "cells": [
  {
   "cell_type": "code",
   "execution_count": 1,
   "metadata": {
    "ExecuteTime": {
     "end_time": "2022-02-14T12:37:15.043807Z",
     "start_time": "2022-02-14T12:37:12.604065Z"
    }
   },
   "outputs": [],
   "source": [
    "import pandas as pd\n",
    "import numpy as np\n",
    "import matplotlib.pyplot as plt\n",
    "import datetime as dt\n",
    "import statsmodels.api as sm\n",
    "\n",
    "import warnings\n",
    "warnings.filterwarnings('ignore')"
   ]
  },
  {
   "cell_type": "code",
   "execution_count": 2,
   "metadata": {
    "ExecuteTime": {
     "end_time": "2022-02-14T12:37:15.178549Z",
     "start_time": "2022-02-14T12:37:15.074799Z"
    }
   },
   "outputs": [],
   "source": [
    "user_df = pd.read_csv('./user_window.csv', encoding='CP949')"
   ]
  },
  {
   "cell_type": "markdown",
   "metadata": {},
   "source": [
    "# 컬럼별 데이터 확인"
   ]
  },
  {
   "cell_type": "markdown",
   "metadata": {},
   "source": [
    "## user table"
   ]
  },
  {
   "cell_type": "code",
   "execution_count": 3,
   "metadata": {
    "ExecuteTime": {
     "end_time": "2022-02-14T12:37:15.223427Z",
     "start_time": "2022-02-14T12:37:15.209443Z"
    }
   },
   "outputs": [
    {
     "data": {
      "text/plain": [
       "Unnamed: 0                   0\n",
       "user_idx                     0\n",
       "status                       0\n",
       "third_party_join_type    21351\n",
       "joined_date                  0\n",
       "dtype: int64"
      ]
     },
     "execution_count": 3,
     "metadata": {},
     "output_type": "execute_result"
    }
   ],
   "source": [
    "user_df.isnull().sum()"
   ]
  },
  {
   "cell_type": "code",
   "execution_count": 4,
   "metadata": {
    "ExecuteTime": {
     "end_time": "2022-02-14T12:37:15.268287Z",
     "start_time": "2022-02-14T12:37:15.254323Z"
    }
   },
   "outputs": [
    {
     "data": {
      "text/plain": [
       "a7e2ede7f71331bc36e67997c7fc258b14be5e9c3c5c964fc0a1bbba8cd5a80d    2\n",
       "a0ec0b63d8417c620253e2183f6b9387761482e9b0fed2ca67f94b924a5d5f15    2\n",
       "11171698d229b357fd2a20cb9fc3bae1887b49170a455c4c8fa11ead65203d10    2\n",
       "45f0c7852b74b103709980820914bcec3e8f1763d35c7666afcd4a234d67f778    2\n",
       "97958f037a0201f0315ba44a51d9de3e74c3f217833b98a34a6d0e9620392b9a    2\n",
       "                                                                   ..\n",
       "5c03e9cce6fa7cc97beb070672fdd6ba9ea16e9d6b65fbf000aa6f8ff3cfe9a1    1\n",
       "aecfe9133f5151e2248e14863491effb0004156bcce51cf508141e10be49f2a6    1\n",
       "669f001fd7d30417a6ce565db4308545693c60fb153af5c3cf2eb2eebf2dcbbc    1\n",
       "2cac4b811d0830b8c9860eb67865f59d6c8518e92695134cc5cf3d6bba3523ed    1\n",
       "df4325b5bc30886f1aafb94efcab077c53bc5c96cb8fa56b6d46f0d5c4285b7c    1\n",
       "Name: third_party_join_type, Length: 2331, dtype: int64"
      ]
     },
     "execution_count": 4,
     "metadata": {},
     "output_type": "execute_result"
    }
   ],
   "source": [
    "user_df['third_party_join_type'].value_counts()"
   ]
  },
  {
   "cell_type": "code",
   "execution_count": 5,
   "metadata": {
    "ExecuteTime": {
     "end_time": "2022-02-14T12:37:15.313350Z",
     "start_time": "2022-02-14T12:37:15.300386Z"
    }
   },
   "outputs": [],
   "source": [
    "user_df['third_party_join_type'] = user_df['third_party_join_type'].fillna('X')\n",
    "user_df['third_party_join_type'][user_df['third_party_join_type'] != 'X'] = 'O'"
   ]
  },
  {
   "cell_type": "code",
   "execution_count": 6,
   "metadata": {
    "ExecuteTime": {
     "end_time": "2022-02-14T12:37:15.358752Z",
     "start_time": "2022-02-14T12:37:15.344788Z"
    }
   },
   "outputs": [
    {
     "data": {
      "text/plain": [
       "Unnamed: 0               0\n",
       "user_idx                 0\n",
       "status                   0\n",
       "third_party_join_type    0\n",
       "joined_date              0\n",
       "dtype: int64"
      ]
     },
     "execution_count": 6,
     "metadata": {},
     "output_type": "execute_result"
    }
   ],
   "source": [
    "user_df.isnull().sum()"
   ]
  },
  {
   "cell_type": "markdown",
   "metadata": {},
   "source": [
    "## payment table"
   ]
  },
  {
   "cell_type": "code",
   "execution_count": 7,
   "metadata": {
    "ExecuteTime": {
     "end_time": "2022-02-14T12:37:15.433604Z",
     "start_time": "2022-02-14T12:37:15.390667Z"
    }
   },
   "outputs": [],
   "source": [
    "payment_df = pd.read_csv('./payment_window.csv', encoding='CP949')"
   ]
  },
  {
   "cell_type": "code",
   "execution_count": 8,
   "metadata": {
    "ExecuteTime": {
     "end_time": "2022-02-14T12:37:15.478556Z",
     "start_time": "2022-02-14T12:37:15.465519Z"
    }
   },
   "outputs": [
    {
     "data": {
      "text/plain": [
       "Unnamed: 0               0\n",
       "user_idx                 0\n",
       "subscription_type       31\n",
       "cart_discount_price      0\n",
       "order_shipping_price     0\n",
       "order_total_price        0\n",
       "paid_date                0\n",
       "dtype: int64"
      ]
     },
     "execution_count": 8,
     "metadata": {},
     "output_type": "execute_result"
    }
   ],
   "source": [
    "payment_df.isnull().sum()"
   ]
  },
  {
   "cell_type": "code",
   "execution_count": 9,
   "metadata": {
    "ExecuteTime": {
     "end_time": "2022-02-14T12:37:15.523465Z",
     "start_time": "2022-02-14T12:37:15.510476Z"
    }
   },
   "outputs": [
    {
     "data": {
      "text/plain": [
       "구독    7277\n",
       "Name: subscription_type, dtype: int64"
      ]
     },
     "execution_count": 9,
     "metadata": {},
     "output_type": "execute_result"
    }
   ],
   "source": [
    "payment_df['subscription_type'].value_counts()"
   ]
  },
  {
   "cell_type": "code",
   "execution_count": 10,
   "metadata": {
    "ExecuteTime": {
     "end_time": "2022-02-14T12:37:15.929020Z",
     "start_time": "2022-02-14T12:37:15.914060Z"
    }
   },
   "outputs": [],
   "source": [
    "payment_df['subscription_type'] = payment_df['subscription_type'].fillna('O')\n",
    "payment_df['subscription_type'][payment_df['subscription_type'] != 'O'] = 'X'"
   ]
  },
  {
   "cell_type": "code",
   "execution_count": 11,
   "metadata": {
    "ExecuteTime": {
     "end_time": "2022-02-14T12:37:16.336395Z",
     "start_time": "2022-02-14T12:37:16.327395Z"
    }
   },
   "outputs": [
    {
     "data": {
      "text/plain": [
       "Unnamed: 0              0\n",
       "user_idx                0\n",
       "subscription_type       0\n",
       "cart_discount_price     0\n",
       "order_shipping_price    0\n",
       "order_total_price       0\n",
       "paid_date               0\n",
       "dtype: int64"
      ]
     },
     "execution_count": 11,
     "metadata": {},
     "output_type": "execute_result"
    }
   ],
   "source": [
    "payment_df.isnull().sum()"
   ]
  },
  {
   "cell_type": "markdown",
   "metadata": {},
   "source": [
    "## bra table"
   ]
  },
  {
   "cell_type": "code",
   "execution_count": 12,
   "metadata": {
    "ExecuteTime": {
     "end_time": "2022-02-14T12:37:17.418867Z",
     "start_time": "2022-02-14T12:37:17.348092Z"
    }
   },
   "outputs": [],
   "source": [
    "bra_df = pd.read_csv('./bra_size_window.csv', encoding='CP949')"
   ]
  },
  {
   "cell_type": "code",
   "execution_count": 13,
   "metadata": {
    "ExecuteTime": {
     "end_time": "2022-02-14T12:37:19.011933Z",
     "start_time": "2022-02-14T12:37:18.993956Z"
    }
   },
   "outputs": [
    {
     "data": {
      "text/plain": [
       "Unnamed: 0       0\n",
       "user_idx         0\n",
       "size            12\n",
       "created_date     0\n",
       "dtype: int64"
      ]
     },
     "execution_count": 13,
     "metadata": {},
     "output_type": "execute_result"
    }
   ],
   "source": [
    "bra_df.isnull().sum()"
   ]
  },
  {
   "cell_type": "code",
   "execution_count": 14,
   "metadata": {
    "ExecuteTime": {
     "end_time": "2022-02-14T12:37:19.419772Z",
     "start_time": "2022-02-14T12:37:19.412791Z"
    }
   },
   "outputs": [
    {
     "data": {
      "text/plain": [
       "75A           2529\n",
       "75B           2418\n",
       "75C           1577\n",
       "80B           1409\n",
       "80A           1294\n",
       "              ... \n",
       "82/11            1\n",
       "3.2              1\n",
       "90AA             1\n",
       "알수없음(67/7)       1\n",
       "밑가슴둘레가 더 큼       1\n",
       "Name: size, Length: 67, dtype: int64"
      ]
     },
     "execution_count": 14,
     "metadata": {},
     "output_type": "execute_result"
    }
   ],
   "source": [
    "bra_df['size'].value_counts()"
   ]
  },
  {
   "cell_type": "code",
   "execution_count": 15,
   "metadata": {
    "ExecuteTime": {
     "end_time": "2022-02-14T12:37:19.767003Z",
     "start_time": "2022-02-14T12:37:19.762025Z"
    }
   },
   "outputs": [],
   "source": [
    "bra_df['size'] = bra_df['size'].fillna('X')"
   ]
  },
  {
   "cell_type": "code",
   "execution_count": 16,
   "metadata": {
    "ExecuteTime": {
     "end_time": "2022-02-14T12:37:20.262618Z",
     "start_time": "2022-02-14T12:37:20.245664Z"
    }
   },
   "outputs": [
    {
     "data": {
      "text/plain": [
       "Unnamed: 0      0\n",
       "user_idx        0\n",
       "size            0\n",
       "created_date    0\n",
       "dtype: int64"
      ]
     },
     "execution_count": 16,
     "metadata": {},
     "output_type": "execute_result"
    }
   ],
   "source": [
    "bra_df.isnull().sum()"
   ]
  },
  {
   "cell_type": "markdown",
   "metadata": {},
   "source": [
    "## 통합"
   ]
  },
  {
   "cell_type": "code",
   "execution_count": 17,
   "metadata": {
    "ExecuteTime": {
     "end_time": "2022-02-14T12:37:21.088816Z",
     "start_time": "2022-02-14T12:37:20.908137Z"
    }
   },
   "outputs": [],
   "source": [
    "total_inner_df = pd.DataFrame()\n",
    "pay_bra_df = pd.merge(payment_df, bra_df, how='inner', on='user_idx')\n",
    "total_inner_df = pd.merge(pay_bra_df, user_df, how='inner', on='user_idx')\n",
    "drop_cols = ['Unnamed: 0_x', 'Unnamed: 0', 'Unnamed: 0_y']\n",
    "total_inner_df.drop(drop_cols, axis=1, inplace=True)\n",
    "total_inner_df.reset_index(drop=True, inplace=True)\n",
    "\n",
    "total_inner_df['paid_date'] = pd.to_datetime(total_inner_df['paid_date'])\n",
    "total_inner_df['joined_date'] = pd.to_datetime(total_inner_df['joined_date'])\n",
    "total_inner_df['created_date'] = pd.to_datetime(total_inner_df['created_date'])"
   ]
  },
  {
   "cell_type": "code",
   "execution_count": 18,
   "metadata": {
    "ExecuteTime": {
     "end_time": "2022-02-14T12:37:21.329601Z",
     "start_time": "2022-02-14T12:37:21.315614Z"
    }
   },
   "outputs": [
    {
     "data": {
      "text/plain": [
       "(6711, 11)"
      ]
     },
     "execution_count": 18,
     "metadata": {},
     "output_type": "execute_result"
    }
   ],
   "source": [
    "total_inner_df.shape"
   ]
  },
  {
   "cell_type": "code",
   "execution_count": 19,
   "metadata": {
    "ExecuteTime": {
     "end_time": "2022-02-14T12:37:22.257964Z",
     "start_time": "2022-02-14T12:37:21.762228Z"
    }
   },
   "outputs": [],
   "source": [
    "total_outer_df = pd.DataFrame()\n",
    "pay_bra_df = pd.merge(payment_df, bra_df, how='outer', on='user_idx')\n",
    "total_outer_df = pd.merge(pay_bra_df, user_df, on='user_idx')\n",
    "drop_cols = ['Unnamed: 0_x', 'Unnamed: 0', 'Unnamed: 0_y']\n",
    "total_outer_df.drop(drop_cols, axis=1, inplace=True)\n",
    "total_outer_df.reset_index(drop=True, inplace=True)\n",
    "\n",
    "total_outer_df['paid_date'] = pd.to_datetime(total_outer_df['paid_date'])\n",
    "total_outer_df['joined_date'] = pd.to_datetime(total_outer_df['joined_date'])\n",
    "total_outer_df['created_date'] = pd.to_datetime(total_outer_df['created_date'])"
   ]
  },
  {
   "cell_type": "code",
   "execution_count": 20,
   "metadata": {
    "ExecuteTime": {
     "end_time": "2022-02-14T12:37:22.362694Z",
     "start_time": "2022-02-14T12:37:22.349721Z"
    }
   },
   "outputs": [
    {
     "data": {
      "text/plain": [
       "(17199, 11)"
      ]
     },
     "execution_count": 20,
     "metadata": {},
     "output_type": "execute_result"
    }
   ],
   "source": [
    "total_outer_df.shape"
   ]
  },
  {
   "cell_type": "markdown",
   "metadata": {},
   "source": [
    "## user_id 번호로 바꾸기"
   ]
  },
  {
   "cell_type": "code",
   "execution_count": 44,
   "metadata": {
    "ExecuteTime": {
     "end_time": "2022-02-14T13:01:42.090332Z",
     "start_time": "2022-02-14T13:01:42.058417Z"
    }
   },
   "outputs": [],
   "source": [
    "total_inner_not_duplicate = total_inner_df.drop_duplicates(keep='first').reset_index().reset_index().rename(columns={'level_0':'user_id'})\n",
    "total_inner_df = total_inner_df.merge(total_inner_not_duplicate[['user_id', 'user_idx']], how='left', on='user_idx')"
   ]
  },
  {
   "cell_type": "code",
   "execution_count": 45,
   "metadata": {
    "ExecuteTime": {
     "end_time": "2022-02-14T13:01:49.518334Z",
     "start_time": "2022-02-14T13:01:49.501356Z"
    }
   },
   "outputs": [
    {
     "data": {
      "text/plain": [
       "user_idx                 0\n",
       "subscription_type        0\n",
       "cart_discount_price      0\n",
       "order_shipping_price     0\n",
       "order_total_price        0\n",
       "paid_date                0\n",
       "size                     0\n",
       "created_date             0\n",
       "status                   0\n",
       "third_party_join_type    0\n",
       "joined_date              0\n",
       "user_id                  0\n",
       "dtype: int64"
      ]
     },
     "execution_count": 45,
     "metadata": {},
     "output_type": "execute_result"
    }
   ],
   "source": [
    "total_inner_df.isnull().sum()"
   ]
  },
  {
   "cell_type": "markdown",
   "metadata": {},
   "source": [
    "## 그래프로 보기"
   ]
  },
  {
   "cell_type": "code",
   "execution_count": 46,
   "metadata": {
    "ExecuteTime": {
     "end_time": "2022-02-14T13:02:06.942176Z",
     "start_time": "2022-02-14T13:02:06.929189Z"
    }
   },
   "outputs": [
    {
     "data": {
      "text/html": [
       "<div>\n",
       "<style scoped>\n",
       "    .dataframe tbody tr th:only-of-type {\n",
       "        vertical-align: middle;\n",
       "    }\n",
       "\n",
       "    .dataframe tbody tr th {\n",
       "        vertical-align: top;\n",
       "    }\n",
       "\n",
       "    .dataframe thead th {\n",
       "        text-align: right;\n",
       "    }\n",
       "</style>\n",
       "<table border=\"1\" class=\"dataframe\">\n",
       "  <thead>\n",
       "    <tr style=\"text-align: right;\">\n",
       "      <th></th>\n",
       "      <th>cart_discount_price</th>\n",
       "      <th>order_shipping_price</th>\n",
       "      <th>order_total_price</th>\n",
       "      <th>status</th>\n",
       "      <th>user_id</th>\n",
       "    </tr>\n",
       "    <tr>\n",
       "      <th>paid_date</th>\n",
       "      <th></th>\n",
       "      <th></th>\n",
       "      <th></th>\n",
       "      <th></th>\n",
       "      <th></th>\n",
       "    </tr>\n",
       "  </thead>\n",
       "  <tbody>\n",
       "    <tr>\n",
       "      <th>2020-08-31</th>\n",
       "      <td>0</td>\n",
       "      <td>3000</td>\n",
       "      <td>18000</td>\n",
       "      <td>0</td>\n",
       "      <td>1518</td>\n",
       "    </tr>\n",
       "    <tr>\n",
       "      <th>2020-09-07</th>\n",
       "      <td>5100</td>\n",
       "      <td>3000</td>\n",
       "      <td>12900</td>\n",
       "      <td>0</td>\n",
       "      <td>4790</td>\n",
       "    </tr>\n",
       "    <tr>\n",
       "      <th>2020-09-09</th>\n",
       "      <td>40200</td>\n",
       "      <td>6000</td>\n",
       "      <td>25800</td>\n",
       "      <td>0</td>\n",
       "      <td>12612</td>\n",
       "    </tr>\n",
       "    <tr>\n",
       "      <th>2020-09-10</th>\n",
       "      <td>10200</td>\n",
       "      <td>6000</td>\n",
       "      <td>25800</td>\n",
       "      <td>0</td>\n",
       "      <td>3793</td>\n",
       "    </tr>\n",
       "    <tr>\n",
       "      <th>2020-09-11</th>\n",
       "      <td>30000</td>\n",
       "      <td>0</td>\n",
       "      <td>0</td>\n",
       "      <td>0</td>\n",
       "      <td>1793</td>\n",
       "    </tr>\n",
       "  </tbody>\n",
       "</table>\n",
       "</div>"
      ],
      "text/plain": [
       "            cart_discount_price  order_shipping_price  order_total_price  \\\n",
       "paid_date                                                                  \n",
       "2020-08-31                    0                  3000              18000   \n",
       "2020-09-07                 5100                  3000              12900   \n",
       "2020-09-09                40200                  6000              25800   \n",
       "2020-09-10                10200                  6000              25800   \n",
       "2020-09-11                30000                     0                  0   \n",
       "\n",
       "            status  user_id  \n",
       "paid_date                    \n",
       "2020-08-31       0     1518  \n",
       "2020-09-07       0     4790  \n",
       "2020-09-09       0    12612  \n",
       "2020-09-10       0     3793  \n",
       "2020-09-11       0     1793  "
      ]
     },
     "execution_count": 46,
     "metadata": {},
     "output_type": "execute_result"
    }
   ],
   "source": [
    "total_inner_df.groupby('paid_date').sum().head()"
   ]
  },
  {
   "cell_type": "code",
   "execution_count": 47,
   "metadata": {
    "ExecuteTime": {
     "end_time": "2022-02-14T13:02:15.275773Z",
     "start_time": "2022-02-14T13:02:15.103983Z"
    }
   },
   "outputs": [
    {
     "data": {
      "image/png": "[encoded data removed]",
      "text/plain": [
       "<Figure size 1008x504 with 1 Axes>"
      ]
     },
     "metadata": {
      "needs_background": "light"
     },
     "output_type": "display_data"
    }
   ],
   "source": [
    "plt.figure(figsize=(14,7))\n",
    "total_inner_df.groupby('paid_date').sum()['order_total_price'].plot()\n",
    "total_inner_df.groupby('paid_date').sum()['order_shipping_price'].plot()\n",
    "total_inner_df.groupby('paid_date').sum()['cart_discount_price'].plot()\n",
    "plt.show()"
   ]
  },
  {
   "cell_type": "code",
   "execution_count": 24,
   "metadata": {
    "ExecuteTime": {
     "end_time": "2022-02-14T12:37:39.549413Z",
     "start_time": "2022-02-14T12:37:39.528469Z"
    }
   },
   "outputs": [
    {
     "data": {
      "text/html": [
       "<style  type=\"text/css\" >\n",
       "    #T_e56bb03c_8d92_11ec_bf75_001a7dda7113row0_col0 {\n",
       "            background-color:  #0000ff;\n",
       "            color:  #f1f1f1;\n",
       "        }    #T_e56bb03c_8d92_11ec_bf75_001a7dda7113row0_col1 {\n",
       "            background-color:  #0005fc;\n",
       "            color:  #f1f1f1;\n",
       "        }    #T_e56bb03c_8d92_11ec_bf75_001a7dda7113row0_col2 {\n",
       "            background-color:  #0008fb;\n",
       "            color:  #f1f1f1;\n",
       "        }    #T_e56bb03c_8d92_11ec_bf75_001a7dda7113row0_col3 {\n",
       "            background-color:  #00eb8a;\n",
       "            color:  #000000;\n",
       "        }    #T_e56bb03c_8d92_11ec_bf75_001a7dda7113row1_col0 {\n",
       "            background-color:  #0006fc;\n",
       "            color:  #f1f1f1;\n",
       "        }    #T_e56bb03c_8d92_11ec_bf75_001a7dda7113row1_col1 {\n",
       "            background-color:  #0000ff;\n",
       "            color:  #f1f1f1;\n",
       "        }    #T_e56bb03c_8d92_11ec_bf75_001a7dda7113row1_col2 {\n",
       "            background-color:  #0000ff;\n",
       "            color:  #f1f1f1;\n",
       "        }    #T_e56bb03c_8d92_11ec_bf75_001a7dda7113row1_col3 {\n",
       "            background-color:  #00fa82;\n",
       "            color:  #000000;\n",
       "        }    #T_e56bb03c_8d92_11ec_bf75_001a7dda7113row2_col0 {\n",
       "            background-color:  #0009fb;\n",
       "            color:  #f1f1f1;\n",
       "        }    #T_e56bb03c_8d92_11ec_bf75_001a7dda7113row2_col1 {\n",
       "            background-color:  #0000ff;\n",
       "            color:  #f1f1f1;\n",
       "        }    #T_e56bb03c_8d92_11ec_bf75_001a7dda7113row2_col2 {\n",
       "            background-color:  #0000ff;\n",
       "            color:  #f1f1f1;\n",
       "        }    #T_e56bb03c_8d92_11ec_bf75_001a7dda7113row2_col3 {\n",
       "            background-color:  #00ff80;\n",
       "            color:  #000000;\n",
       "        }    #T_e56bb03c_8d92_11ec_bf75_001a7dda7113row3_col0 {\n",
       "            background-color:  #00ff80;\n",
       "            color:  #000000;\n",
       "        }    #T_e56bb03c_8d92_11ec_bf75_001a7dda7113row3_col1 {\n",
       "            background-color:  #00ff80;\n",
       "            color:  #000000;\n",
       "        }    #T_e56bb03c_8d92_11ec_bf75_001a7dda7113row3_col2 {\n",
       "            background-color:  #00ff80;\n",
       "            color:  #000000;\n",
       "        }    #T_e56bb03c_8d92_11ec_bf75_001a7dda7113row3_col3 {\n",
       "            background-color:  #0000ff;\n",
       "            color:  #f1f1f1;\n",
       "        }</style><table id=\"T_e56bb03c_8d92_11ec_bf75_001a7dda7113\" ><thead>    <tr>        <th class=\"blank level0\" ></th>        <th class=\"col_heading level0 col0\" >cart_discount_price</th>        <th class=\"col_heading level0 col1\" >order_shipping_price</th>        <th class=\"col_heading level0 col2\" >order_total_price</th>        <th class=\"col_heading level0 col3\" >status</th>    </tr></thead><tbody>\n",
       "                <tr>\n",
       "                        <th id=\"T_e56bb03c_8d92_11ec_bf75_001a7dda7113level0_row0\" class=\"row_heading level0 row0\" >cart_discount_price</th>\n",
       "                        <td id=\"T_e56bb03c_8d92_11ec_bf75_001a7dda7113row0_col0\" class=\"data row0 col0\" >1.000000</td>\n",
       "                        <td id=\"T_e56bb03c_8d92_11ec_bf75_001a7dda7113row0_col1\" class=\"data row0 col1\" >0.986376</td>\n",
       "                        <td id=\"T_e56bb03c_8d92_11ec_bf75_001a7dda7113row0_col2\" class=\"data row0 col2\" >0.980447</td>\n",
       "                        <td id=\"T_e56bb03c_8d92_11ec_bf75_001a7dda7113row0_col3\" class=\"data row0 col3\" >0.447311</td>\n",
       "            </tr>\n",
       "            <tr>\n",
       "                        <th id=\"T_e56bb03c_8d92_11ec_bf75_001a7dda7113level0_row1\" class=\"row_heading level0 row1\" >order_shipping_price</th>\n",
       "                        <td id=\"T_e56bb03c_8d92_11ec_bf75_001a7dda7113row1_col0\" class=\"data row1 col0\" >0.986376</td>\n",
       "                        <td id=\"T_e56bb03c_8d92_11ec_bf75_001a7dda7113row1_col1\" class=\"data row1 col1\" >1.000000</td>\n",
       "                        <td id=\"T_e56bb03c_8d92_11ec_bf75_001a7dda7113row1_col2\" class=\"data row1 col2\" >0.999310</td>\n",
       "                        <td id=\"T_e56bb03c_8d92_11ec_bf75_001a7dda7113row1_col3\" class=\"data row1 col3\" >0.412141</td>\n",
       "            </tr>\n",
       "            <tr>\n",
       "                        <th id=\"T_e56bb03c_8d92_11ec_bf75_001a7dda7113level0_row2\" class=\"row_heading level0 row2\" >order_total_price</th>\n",
       "                        <td id=\"T_e56bb03c_8d92_11ec_bf75_001a7dda7113row2_col0\" class=\"data row2 col0\" >0.980447</td>\n",
       "                        <td id=\"T_e56bb03c_8d92_11ec_bf75_001a7dda7113row2_col1\" class=\"data row2 col1\" >0.999310</td>\n",
       "                        <td id=\"T_e56bb03c_8d92_11ec_bf75_001a7dda7113row2_col2\" class=\"data row2 col2\" >1.000000</td>\n",
       "                        <td id=\"T_e56bb03c_8d92_11ec_bf75_001a7dda7113row2_col3\" class=\"data row2 col3\" >0.398257</td>\n",
       "            </tr>\n",
       "            <tr>\n",
       "                        <th id=\"T_e56bb03c_8d92_11ec_bf75_001a7dda7113level0_row3\" class=\"row_heading level0 row3\" >status</th>\n",
       "                        <td id=\"T_e56bb03c_8d92_11ec_bf75_001a7dda7113row3_col0\" class=\"data row3 col0\" >0.447311</td>\n",
       "                        <td id=\"T_e56bb03c_8d92_11ec_bf75_001a7dda7113row3_col1\" class=\"data row3 col1\" >0.412141</td>\n",
       "                        <td id=\"T_e56bb03c_8d92_11ec_bf75_001a7dda7113row3_col2\" class=\"data row3 col2\" >0.398257</td>\n",
       "                        <td id=\"T_e56bb03c_8d92_11ec_bf75_001a7dda7113row3_col3\" class=\"data row3 col3\" >1.000000</td>\n",
       "            </tr>\n",
       "    </tbody></table>"
      ],
      "text/plain": [
       "<pandas.io.formats.style.Styler at 0x1a9ded10130>"
      ]
     },
     "execution_count": 24,
     "metadata": {},
     "output_type": "execute_result"
    }
   ],
   "source": [
    "total_inner_df.groupby('paid_date').sum().corr().style.background_gradient(cmap='winter_r')"
   ]
  },
  {
   "cell_type": "markdown",
   "metadata": {},
   "source": [
    "# AARRR"
   ]
  },
  {
   "cell_type": "markdown",
   "metadata": {},
   "source": [
    "## A(Acquisition)"
   ]
  },
  {
   "cell_type": "code",
   "execution_count": 125,
   "metadata": {
    "ExecuteTime": {
     "end_time": "2022-02-14T14:24:15.069702Z",
     "start_time": "2022-02-14T14:24:15.048733Z"
    }
   },
   "outputs": [],
   "source": [
    "total_inner_df['joined_date_date'] = total_inner_df['joined_date'].dt.date\n",
    "total_inner_df['created_date_date'] = total_inner_df['created_date'].dt.date\n",
    "total_inner_df['paid_date_date'] = total_inner_df['paid_date'].dt.date\n",
    "\n",
    "\n",
    "\n",
    "total_inner_df['joined_date_month'] = total_inner_df['joined_date'].dt.month\n",
    "total_inner_df['created_date_month'] = total_inner_df['created_date'].dt.month\n",
    "total_inner_df['paid_date_month'] = total_inner_df['paid_date'].dt.month"
   ]
  },
  {
   "cell_type": "code",
   "execution_count": 126,
   "metadata": {
    "ExecuteTime": {
     "end_time": "2022-02-14T14:24:15.489987Z",
     "start_time": "2022-02-14T14:24:15.425044Z"
    }
   },
   "outputs": [],
   "source": [
    "# joined_date 기준\n",
    "joined_dt = total_inner_df.groupby('joined_date_date').sum()\n",
    "user_id_count_df = total_inner_df.groupby('joined_date_date')[['user_id']].count().rename(columns={'user_id':'user_id_count'})\n",
    "joined_dt = joined_dt.drop('user_id', axis=1)\n",
    "joined_dt = joined_dt.merge(user_id_count_df, left_index=True, right_index=True)\n",
    "# month\n",
    "joined_month_dt = total_inner_df.groupby('joined_date_month').sum()\n",
    "user_id_count_df = total_inner_df.groupby('joined_date_month')[['user_id']].count().rename(columns={'user_id':'user_id_count'})\n",
    "joined_month_dt = joined_month_dt.merge(user_id_count_df, left_index=True, right_index=True)\n",
    "\n",
    "# created_date 기준\n",
    "created_dt = total_inner_df.groupby('created_date_date').sum()\n",
    "user_id_count_df = total_inner_df.groupby('created_date_date')[['user_id']].count().rename(columns={'user_id':'user_id_count'})\n",
    "created_dt = created_dt.drop('user_id', axis=1)\n",
    "created_dt = created_dt.merge(user_id_count_df, left_index=True, right_index=True)\n",
    "# month\n",
    "created_month_dt = total_inner_df.groupby('created_date_month').sum()\n",
    "user_id_count_df = total_inner_df.groupby('created_date_month')[['user_id']].count().rename(columns={'user_id':'user_id_count'})\n",
    "created_month_dt = created_month_dt.merge(user_id_count_df, left_index=True, right_index=True)\n",
    "\n",
    "# paid_date 기준\n",
    "paid_dt = total_inner_df.groupby('paid_date_date').sum()\n",
    "paid_id_count_df = total_inner_df.groupby('paid_date_date')[['user_id']].count().rename(columns={'user_id':'user_id_count'})\n",
    "paid_dt = paid_dt.drop('user_id', axis=1)\n",
    "paid_dt = paid_dt.merge(user_id_count_df, left_index=True, right_index=True)\n",
    "# month\n",
    "paid_month_dt = total_inner_df.groupby('paid_date_month').sum()\n",
    "paid_id_count_df = total_inner_df.groupby('paid_date_month')[['user_id']].count().rename(columns={'user_id':'user_id_count'})\n",
    "paid_month_dt = paid_month_dt.merge(user_id_count_df, left_index=True, right_index=True)"
   ]
  },
  {
   "cell_type": "code",
   "execution_count": 133,
   "metadata": {
    "ExecuteTime": {
     "end_time": "2022-02-14T14:24:38.427595Z",
     "start_time": "2022-02-14T14:24:38.418619Z"
    }
   },
   "outputs": [
    {
     "data": {
      "text/html": [
       "<div>\n",
       "<style scoped>\n",
       "    .dataframe tbody tr th:only-of-type {\n",
       "        vertical-align: middle;\n",
       "    }\n",
       "\n",
       "    .dataframe tbody tr th {\n",
       "        vertical-align: top;\n",
       "    }\n",
       "\n",
       "    .dataframe thead th {\n",
       "        text-align: right;\n",
       "    }\n",
       "</style>\n",
       "<table border=\"1\" class=\"dataframe\">\n",
       "  <thead>\n",
       "    <tr style=\"text-align: right;\">\n",
       "      <th></th>\n",
       "      <th>cart_discount_price</th>\n",
       "      <th>order_shipping_price</th>\n",
       "      <th>order_total_price</th>\n",
       "      <th>status</th>\n",
       "      <th>joined_date_month</th>\n",
       "      <th>created_date_month</th>\n",
       "      <th>paid_date_month</th>\n",
       "      <th>user_id_count</th>\n",
       "    </tr>\n",
       "  </thead>\n",
       "  <tbody>\n",
       "  </tbody>\n",
       "</table>\n",
       "</div>"
      ],
      "text/plain": [
       "Empty DataFrame\n",
       "Columns: [cart_discount_price, order_shipping_price, order_total_price, status, joined_date_month, created_date_month, paid_date_month, user_id_count]\n",
       "Index: []"
      ]
     },
     "execution_count": 133,
     "metadata": {},
     "output_type": "execute_result"
    }
   ],
   "source": [
    "paid_dt"
   ]
  },
  {
   "cell_type": "markdown",
   "metadata": {},
   "source": [
    "### 일별 가입자 수"
   ]
  },
  {
   "cell_type": "code",
   "execution_count": 127,
   "metadata": {
    "ExecuteTime": {
     "end_time": "2022-02-14T14:24:16.527329Z",
     "start_time": "2022-02-14T14:24:16.385583Z"
    }
   },
   "outputs": [
    {
     "data": {
      "image/png": "[encoded data removed]",
      "text/plain": [
       "<Figure size 1008x504 with 1 Axes>"
      ]
     },
     "metadata": {
      "needs_background": "light"
     },
     "output_type": "display_data"
    }
   ],
   "source": [
    "plt.figure(figsize=(14,7))\n",
    "joined_dt['user_id_count'].plot()\n",
    "plt.show()"
   ]
  },
  {
   "cell_type": "code",
   "execution_count": 128,
   "metadata": {
    "ExecuteTime": {
     "end_time": "2022-02-14T14:24:16.977413Z",
     "start_time": "2022-02-14T14:24:16.848912Z"
    }
   },
   "outputs": [
    {
     "data": {
      "image/png": "[encoded data removed]",
      "text/plain": [
       "<Figure size 1008x504 with 1 Axes>"
      ]
     },
     "metadata": {
      "needs_background": "light"
     },
     "output_type": "display_data"
    }
   ],
   "source": [
    "plt.figure(figsize=(14,7))\n",
    "joined_month_dt['user_id_count'].plot(kind='bar')\n",
    "plt.show()"
   ]
  },
  {
   "cell_type": "markdown",
   "metadata": {},
   "source": [
    "### 일별 가슴사이즈 입력 수"
   ]
  },
  {
   "cell_type": "code",
   "execution_count": 129,
   "metadata": {
    "ExecuteTime": {
     "end_time": "2022-02-14T14:24:18.921644Z",
     "start_time": "2022-02-14T14:24:18.789984Z"
    }
   },
   "outputs": [
    {
     "data": {
      "image/png": "[encoded data removed]",
      "text/plain": [
       "<Figure size 1008x504 with 1 Axes>"
      ]
     },
     "metadata": {
      "needs_background": "light"
     },
     "output_type": "display_data"
    }
   ],
   "source": [
    "plt.figure(figsize=(14,7))\n",
    "created_dt['user_id_count'].plot()\n",
    "plt.show()"
   ]
  },
  {
   "cell_type": "code",
   "execution_count": 130,
   "metadata": {
    "ExecuteTime": {
     "end_time": "2022-02-14T14:24:19.522129Z",
     "start_time": "2022-02-14T14:24:19.386633Z"
    }
   },
   "outputs": [
    {
     "data": {
      "image/png": "[encoded data removed]",
      "text/plain": [
       "<Figure size 1008x504 with 1 Axes>"
      ]
     },
     "metadata": {
      "needs_background": "light"
     },
     "output_type": "display_data"
    }
   ],
   "source": [
    "plt.figure(figsize=(14,7))\n",
    "created_month_dt['user_id_count'].plot(kind='bar')\n",
    "plt.show()"
   ]
  },
  {
   "cell_type": "markdown",
   "metadata": {},
   "source": [
    "### 일별 매출액"
   ]
  },
  {
   "cell_type": "code",
   "execution_count": 134,
   "metadata": {
    "ExecuteTime": {
     "end_time": "2022-02-14T14:27:32.599290Z",
     "start_time": "2022-02-14T14:27:32.492576Z"
    }
   },
   "outputs": [
    {
     "data": {
      "image/png": "[encoded data removed]",
      "text/plain": [
       "<Figure size 1008x504 with 1 Axes>"
      ]
     },
     "metadata": {
      "needs_background": "light"
     },
     "output_type": "display_data"
    }
   ],
   "source": [
    "plt.figure(figsize=(14,7))\n",
    "paid_dt['user_id_count'].plot()\n",
    "plt.show()"
   ]
  },
  {
   "cell_type": "code",
   "execution_count": 132,
   "metadata": {
    "ExecuteTime": {
     "end_time": "2022-02-14T14:24:23.452394Z",
     "start_time": "2022-02-14T14:24:23.353482Z"
    }
   },
   "outputs": [
    {
     "data": {
      "image/png": "[encoded data removed]",
      "text/plain": [
       "<Figure size 1008x504 with 1 Axes>"
      ]
     },
     "metadata": {
      "needs_background": "light"
     },
     "output_type": "display_data"
    }
   ],
   "source": [
    "plt.figure(figsize=(14,7))\n",
    "paid_month_dt['user_id_count'].plot(kind='bar')\n",
    "plt.show()"
   ]
  },
  {
   "cell_type": "code",
   "execution_count": null,
   "metadata": {},
   "outputs": [],
   "source": [
    "###"
   ]
  },
  {
   "cell_type": "code",
   "execution_count": null,
   "metadata": {},
   "outputs": [],
   "source": []
  },
  {
   "cell_type": "code",
   "execution_count": null,
   "metadata": {},
   "outputs": [],
   "source": []
  },
  {
   "cell_type": "code",
   "execution_count": null,
   "metadata": {},
   "outputs": [],
   "source": []
  },
  {
   "cell_type": "code",
   "execution_count": null,
   "metadata": {},
   "outputs": [],
   "source": []
  },
  {
   "cell_type": "code",
   "execution_count": null,
   "metadata": {},
   "outputs": [],
   "source": []
  },
  {
   "cell_type": "code",
   "execution_count": null,
   "metadata": {},
   "outputs": [],
   "source": []
  },
  {
   "cell_type": "code",
   "execution_count": null,
   "metadata": {},
   "outputs": [],
   "source": []
  },
  {
   "cell_type": "code",
   "execution_count": null,
   "metadata": {},
   "outputs": [],
   "source": []
  },
  {
   "cell_type": "code",
   "execution_count": null,
   "metadata": {},
   "outputs": [],
   "source": []
  },
  {
   "cell_type": "code",
   "execution_count": null,
   "metadata": {},
   "outputs": [],
   "source": []
  },
  {
   "cell_type": "code",
   "execution_count": null,
   "metadata": {},
   "outputs": [],
   "source": []
  },
  {
   "cell_type": "code",
   "execution_count": null,
   "metadata": {},
   "outputs": [],
   "source": []
  },
  {
   "cell_type": "code",
   "execution_count": null,
   "metadata": {},
   "outputs": [],
   "source": []
  },
  {
   "cell_type": "code",
   "execution_count": null,
   "metadata": {},
   "outputs": [],
   "source": []
  },
  {
   "cell_type": "code",
   "execution_count": null,
   "metadata": {},
   "outputs": [],
   "source": []
  },
  {
   "cell_type": "code",
   "execution_count": null,
   "metadata": {},
   "outputs": [],
   "source": []
  },
  {
   "cell_type": "code",
   "execution_count": null,
   "metadata": {},
   "outputs": [],
   "source": []
  },
  {
   "cell_type": "code",
   "execution_count": null,
   "metadata": {},
   "outputs": [],
   "source": []
  },
  {
   "cell_type": "code",
   "execution_count": null,
   "metadata": {},
   "outputs": [],
   "source": []
  },
  {
   "cell_type": "code",
   "execution_count": null,
   "metadata": {},
   "outputs": [],
   "source": []
  }
 ],
 "metadata": {
  "hide_input": false,
  "kernelspec": {
   "display_name": "Python 3",
   "language": "python",
   "name": "python3"
  },
  "language_info": {
   "codemirror_mode": {
    "name": "ipython",
    "version": 3
   },
   "file_extension": ".py",
   "mimetype": "text/x-python",
   "name": "python",
   "nbconvert_exporter": "python",
   "pygments_lexer": "ipython3",
   "version": "3.8.3"
  },
  "toc": {
   "base_numbering": 1,
   "nav_menu": {},
   "number_sections": true,
   "sideBar": true,
   "skip_h1_title": false,
   "title_cell": "Table of Contents",
   "title_sidebar": "Contents",
   "toc_cell": false,
   "toc_position": {
    "height": "calc(100% - 180px)",
    "left": "10px",
    "top": "150px",
    "width": "255.865px"
   },
   "toc_section_display": true,
   "toc_window_display": true
  },
  "varInspector": {
   "cols": {
    "lenName": 16,
    "lenType": 16,
    "lenVar": 40
   },
   "kernels_config": {
    "python": {
     "delete_cmd_postfix": "",
     "delete_cmd_prefix": "del ",
     "library": "var_list.py",
     "varRefreshCmd": "print(var_dic_list())"
    },
    "r": {
     "delete_cmd_postfix": ") ",
     "delete_cmd_prefix": "rm(",
     "library": "var_list.r",
     "varRefreshCmd": "cat(var_dic_list()) "
    }
   },
   "types_to_exclude": [
    "module",
    "function",
    "builtin_function_or_method",
    "instance",
    "_Feature"
   ],
   "window_display": false
  }
 },
 "nbformat": 4,
 "nbformat_minor": 4
}
