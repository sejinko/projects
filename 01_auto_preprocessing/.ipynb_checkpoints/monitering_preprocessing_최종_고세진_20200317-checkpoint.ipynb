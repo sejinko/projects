{
 "cells": [
  {
   "cell_type": "code",
   "execution_count": 1,
   "metadata": {},
   "outputs": [],
   "source": [
    "import numpy as np\n",
    "import pandas as pd\n",
    "import os\n",
    "import openpyxl\n",
    "from openpyxl.styles import Font, Alignment, PatternFill, Color, Border, Side\n",
    "\n",
    "import warnings\n",
    "warnings.filterwarnings('ignore')"
   ]
  },
  {
   "cell_type": "markdown",
   "metadata": {},
   "source": [
    "## 매뉴얼\n",
    "\n",
    "1. 경로 설정의 # 변경해야 하는 경로의 month_address, month_num, gather_month를 해당 월에 맞게 변경\n",
    "(반기별 정보가 필요한 경우 ‘나라별 Raw 데이터 정리(반기별)’, ‘모니터링 데이터 수집 관리 대장(반기별), 각 파일    -> 관리대장’ 코드를 영역지정 후 ctrl + / 를 눌러 코드를 활성화 시킨후 실행)\n",
    "2. 해당 번호 프로그램 별 raw파일 경로를 설정해줘야 함\n",
    "3. 메뉴바의 Kernel → Restart & Run All 클릭 후 Restart and Run All Cells 클릭하여 실행 \n"
   ]
  },
  {
   "cell_type": "markdown",
   "metadata": {},
   "source": [
    "## 경로 설정"
   ]
  },
  {
   "cell_type": "code",
   "execution_count": 27,
   "metadata": {},
   "outputs": [],
   "source": [
    "# 변경해야 하는 경로(해당 월로 변경)\n",
    "month_address = \"02. February\"\n",
    "month_num = \"2월\"\n",
    "gather_month = 2 # 10월달 관리대장 6.Device 수식 변경해 줘야 함\n",
    "\n",
    "# 고정 경로\n",
    "global_address = \"c:/Dropbox (Ascent)/Ascent/2020/KIA/1. 모니터링/RAW/2020 Raw\"\n",
    "countrys =['Aruba (AW)', 'Australia (AU)', 'Azerbaijan (AZ)', 'British Dominica (DM)', 'Brunei (BN)', 'Chile (CL)',\n",
    "           'Colombia (CO)', 'Costa Rica (CR)', 'Ecuador (EC)','Fiji (FJ)','Georgia (GE)','Honduras (HN)',\n",
    "           'Hong Kong (HK)','Indonesia (ID)','Kuwait (KW)','Laos (LA)','Lebanon (LB)','Malaysia (MY)',\n",
    "           'Mauritius (MU)'. \"Mexico (MX)\",\"Mongolia (MN)\",\"Morocco (MA)\", \"Oman (OM-ar)\", \"Pakistan (PK)\",\n",
    "           \"Panama (PA)\",\"Peru (PE)\", \"Philippines (PH)\",\"Puerto Rico (PR)\", \"Saudi Arabia (SA-ar)\", \"Singapore (SG)\",\n",
    "           \"Sudan (SD-en)\", \"Thailand (TH)\",\"Turkey (TR)\", \"Ukraine (UA)\"]\n",
    "as_countrys = ['aw','au','az','dm','bn','cl','co','cr','ec','fj','ge','hn','hk','id','kw','la','lb','my','mu',\n",
    "               'mx','mn','ma','om/ar','pk','pa','pe','ph','pr','sa/ar','sg','sd/en','th','tr','ua']\n",
    "gather_countrys = ['Aruba (AW)', 'Australia (AU)','Azerbaijan.xlsx','British Dominica','Brunei','Chile',\n",
    "                      'Colombia','Costa Rica','Ecuador','Fiji','Gerogia','Honduras','HongKong','Indonesia',\n",
    "                      'Kuwait','Laos','Lebanon','Malaysia','Mauritius','Mexico','Mongolia','Morocco',\n",
    "                      'Oman (ar)','Pakistan','Panama','Peru','Philippines','Puerto Rico','Saudi Arabia (SA-ar)',\n",
    "                      'Singapore','Sudan (en)','Thailand','Turkey','Ukraine']\n",
    "column_address = ['A','B','C','D','E','F','G','H','I','J','K','L','M',\n",
    "                  'N','O','P','Q','R','S','T','U','V','W','X','Y','Z']"
   ]
  },
  {
   "cell_type": "markdown",
   "metadata": {},
   "source": [
    "## 🚫파일 삭제 메소드(왠만하면 사용하지 말것)"
   ]
  },
  {
   "cell_type": "code",
   "execution_count": 3,
   "metadata": {},
   "outputs": [],
   "source": [
    "# 삭제 메소드(파일 명만 교체해서 사용)\n",
    "# for country in countrys:\n",
    "#     os.remove(r\"F:/OneDrive/2020 Raw\"+\"/\"+country+\"/\"+month_address+\"/\"+\n",
    "#               \"1. On-page(Title, Description)1.xlsx\")\n",
    "# # 1번 파일명\n",
    "# \"1. On-page(Title, Description).xlsx\"\n",
    "# # 2번 파일명\n",
    "# \"2. Off-page(Total Backlinks).xlsx\"\n",
    "# # 2-1번 파일\n",
    "# \"2-1. Off-page(New Backlinks).xlsx\"\n",
    "# # 3번 파일명\n",
    "# \"3. Response Codes.xlsx\"\n",
    "# # 4번 파일명\n",
    "# \"4. Indexing HTTPS.xlsx\"\n",
    "# # 5번 파일명\n",
    "# \"5. Organic Traffic.xlsx\"\n",
    "# # 6번 파일명\n",
    "# \"6. Device Channel Traffic.xlsx\"\n",
    "# # 7번 파일명\n",
    "# \"7. Bounce Rate, Average Time Spent.xlsx\"\n",
    "# # 8번 파일명\n",
    "# \"8. Organic Keywords.xlsx\""
   ]
  },
  {
   "cell_type": "markdown",
   "metadata": {},
   "source": [
    "## 1. On-page(Title, Description) - Title"
   ]
  },
  {
   "cell_type": "code",
   "execution_count": 28,
   "metadata": {},
   "outputs": [
    {
     "name": "stdout",
     "output_type": "stream",
     "text": [
      "1 . Chile (CL) 나라의 02. February, 1. On-page(Title, Description) Title 작업이 완료되었습니다.\n"
     ]
    }
   ],
   "source": [
    "count_num = 0\n",
    "\n",
    "for as_country, country in zip(as_countrys, countrys):\n",
    "    \n",
    "    # 1차 불러오기\n",
    "    title = pd.read_excel(global_address+\"/\"+country+\"/\"+month_address+\"/\"+\"raw\"+\"/\"+\n",
    "                          \"page_titles_all.xlsx\", sheet_name = \"1 - All\")\n",
    "\n",
    "    # 이상 URL 제거\n",
    "    title_boolean_values = title[\"Address\"].str.contains(pat=\"www.kia.com/\"+as_country, regex=False)\n",
    "    title_false_values = title[\"Address\"][title_boolean_values == False]\n",
    "    title.drop(title_false_values.index, inplace=True)\n",
    "    \n",
    "    # Total, Missing, Duplicate, Over 65, Below 30 변수 생성\n",
    "    title_total = title['Address'].count()\n",
    "    title_missing = title[\"Title 1\"].isnull().sum()\n",
    "    title_duplicate = title[\"Title 1\"][title[\"Title 1\"].duplicated(keep=False) == True].count()\n",
    "    title_over = title[\"Title 1 Length\"][title[\"Title 1 Length\"]  > 65].count()\n",
    "    title_below = title[\"Title 1 Length\"][title[\"Title 1 Length\"] < 30].count() - title_missing\n",
    "\n",
    "    # 1차 저장\n",
    "    with pd.ExcelWriter(global_address+\"/\"+country+\"/\"+month_address+\"/\"+\n",
    "                        \"1. On-page(Title, Description).xlsx\",mode='a', engine='openpyxl') as writer:\n",
    "        title.to_excel(writer, sheet_name = 'Title', index=False)\n",
    "\n",
    "    # 2차 불러오기\n",
    "    title_wb = openpyxl.load_workbook(global_address+\"/\"+country+\"/\"+month_address+\"/\"+\n",
    "                                          \"1. On-page(Title, Description).xlsx\")\n",
    "    title_ws = title_wb['Title']\n",
    "    \n",
    "    # 행 삽입\n",
    "    title_ws.insert_rows(1)\n",
    "    title_ws.insert_rows(1)\n",
    "    title_ws.insert_rows(1)\n",
    "    \n",
    "    # total name, Missing name, Duplicate name, Over 156, Below 70 값 추가\n",
    "    title_ws['A1'] = 'Total'\n",
    "    title_ws['A1'].font = Font(bold=True)\n",
    "    title_ws['A2'] = title_total\n",
    "    \n",
    "    title_ws['B1'] = 'Missing'\n",
    "    title_ws['B1'].font = Font(bold=True)\n",
    "    title_ws['B2'] = title_missing\n",
    "    \n",
    "    title_ws['C1'] = 'Duplicate'\n",
    "    title_ws['C1'].font = Font(bold=True)\n",
    "    title_ws['C2'] = title_duplicate\n",
    "    \n",
    "    title_ws['D1'] = 'Over 65'\n",
    "    title_ws['D1'].font = Font(bold=True)\n",
    "    title_ws['D2'] = title_over\n",
    "    \n",
    "    title_ws['E1'] = 'Below 30'\n",
    "    title_ws['E1'].font = Font(bold=True)\n",
    "    title_ws['E2'] = title_below\n",
    "    \n",
    "    # 2차 저장\n",
    "    title_wb.save(global_address+\"/\"+country+\"/\"+month_address+\"/\"+\"1. On-page(Title, Description).xlsx\")\n",
    "    \n",
    "    # 결과\n",
    "    count_num += 1\n",
    "    print(count_num,\". {} 나라의 {}, 1. On-page(Title, Description) Title 작업이 완료되었습니다.\".format(country, month_address))"
   ]
  },
  {
   "cell_type": "markdown",
   "metadata": {},
   "source": [
    "## 1. On-page(Title, Description) - Meta Description"
   ]
  },
  {
   "cell_type": "code",
   "execution_count": 29,
   "metadata": {
    "scrolled": true
   },
   "outputs": [
    {
     "name": "stdout",
     "output_type": "stream",
     "text": [
      "1 . Chile (CL) 나라의 02. February, 1. On-page(Title, Description) Description 작업이 완료되었습니다.\n"
     ]
    }
   ],
   "source": [
    "count_num = 0\n",
    "\n",
    "for as_country, country in zip(as_countrys, countrys):\n",
    "    \n",
    "    # 1차 불러오기\n",
    "    meta = pd.read_excel(global_address+\"/\"+country+\"/\"+month_address+\"/\"+\"raw\"+\"/\"+\"meta_description_all.xlsx\",\n",
    "                         sheet_name = \"1 - All\")\n",
    "\n",
    "    # 이상 URL 제거\n",
    "    meta_boolean_values = meta[\"Address\"].str.contains(pat=\"www.kia.com/\"+as_country, regex=False)\n",
    "    meta_false_values = meta[\"Address\"][meta_boolean_values == False]\n",
    "    meta.drop(index = meta_false_values.index, inplace=True)\n",
    "\n",
    "    # Total, Missing, Duplicate, Over 156, Below70 변수 생성\n",
    "    meta_total = meta['Address'].count()\n",
    "    meta_missing = meta[\"Meta Description 1\"].isnull().sum()\n",
    "    meta_duplicate = meta[\"Meta Description 1\"][meta[\"Meta Description 1\"].duplicated(keep=False) == True].count()\n",
    "    meta_over = meta[\"Meta Description 1 Length\"][meta[\"Meta Description 1 Length\"]  > 156].count()\n",
    "    meta_below = meta[\"Meta Description 1 Length\"][meta[\"Meta Description 1 Length\"] < 70].count() - meta_missing\n",
    "\n",
    "    # 1차 저장\n",
    "    with pd.ExcelWriter(global_address+\"/\"+country+\"/\"+month_address+\"/\"+\n",
    "                        \"1. On-page(Title, Description).xlsx\",mode='a', engine='openpyxl') as writer:\n",
    "        meta.to_excel(writer, sheet_name = 'Meta', index=False)\n",
    "\n",
    "    # 2차 불러오기\n",
    "    meta_wb = openpyxl.load_workbook(global_address+\"/\"+country+\"/\"+month_address+\"/\"+\n",
    "                                          \"1. On-page(Title, Description).xlsx\")\n",
    "    meta_ws = meta_wb['Meta']\n",
    "    \n",
    "    # 행 삽입\n",
    "    meta_ws.insert_rows(1)\n",
    "    meta_ws.insert_rows(1)\n",
    "    meta_ws.insert_rows(1)\n",
    "    \n",
    "    # total name, Missing name, Duplicate name, Over 156, Below 70 값 추가\n",
    "    meta_ws['A1'] = 'Total'\n",
    "    meta_ws['A1'].font = Font(bold=True)\n",
    "    meta_ws['A2'] = meta_total\n",
    "    \n",
    "    meta_ws['B1'] = 'Missing'\n",
    "    meta_ws['B1'].font = Font(bold=True)\n",
    "    meta_ws['B2'] = meta_missing\n",
    "    \n",
    "    meta_ws['C1'] = 'Duplicate'\n",
    "    meta_ws['C1'].font = Font(bold=True)\n",
    "    meta_ws['C2'] = meta_duplicate\n",
    "    \n",
    "    meta_ws['D1'] = 'Over 156'\n",
    "    meta_ws['D1'].font = Font(bold=True)\n",
    "    meta_ws['D2'] = meta_over\n",
    "    \n",
    "    meta_ws['E1'] = 'Below 70'\n",
    "    meta_ws['E1'].font = Font(bold=True)\n",
    "    meta_ws['E2'] = meta_below\n",
    "    \n",
    "    # 2차 저장\n",
    "    meta_wb.save(global_address+\"/\"+country+\"/\"+month_address+\"/\"+\"1. On-page(Title, Description).xlsx\")\n",
    "    \n",
    "    # 결과\n",
    "    count_num += 1\n",
    "    print(count_num,\". {} 나라의 {}, 1. On-page(Title, Description) Description 작업이 완료되었습니다.\"\n",
    "          .format(country, month_address))"
   ]
  },
  {
   "cell_type": "markdown",
   "metadata": {},
   "source": [
    "## 1. On-page(Title, Description) - Summary"
   ]
  },
  {
   "cell_type": "code",
   "execution_count": 30,
   "metadata": {},
   "outputs": [
    {
     "name": "stdout",
     "output_type": "stream",
     "text": [
      "1 . Chile (CL) 나라의 02. February, 1. On-page(Title, Description) On-Page SEO 작업이 완료되었습니다.\n"
     ]
    }
   ],
   "source": [
    "count_num = 0\n",
    "\n",
    "for country in countrys:\n",
    "    # 불러오기\n",
    "    onpage_wb = openpyxl.load_workbook(global_address+\"/\"+country+\"/\"+month_address+\"/\"+\n",
    "                                       \"1. On-page(Title, Description).xlsx\")\n",
    "    onpage_ws = onpage_wb['On-Page SEO']\n",
    "    title_ws = onpage_wb['Title']\n",
    "    meta_ws = onpage_wb['Meta']\n",
    "    \n",
    "    # 도표 채우기\n",
    "    onpage_ws['B2'] = country\n",
    "    onpage_ws['B2'].font = Font(size=14, bold=True)\n",
    "    \n",
    "    onpage_ws['C6'] = title_ws.cell(row=2, column=1).value\n",
    "    onpage_ws['C7'] = title_ws.cell(row=2, column=2).value\n",
    "    onpage_ws['C8'] = title_ws.cell(row=2, column=3).value\n",
    "    onpage_ws['C9'] = title_ws.cell(row=2, column=4).value\n",
    "    onpage_ws['C10'] = title_ws.cell(row=2, column=5).value\n",
    "    \n",
    "    onpage_ws['C14'] = meta_ws.cell(row=2, column=1).value\n",
    "    onpage_ws['C15'] = meta_ws.cell(row=2, column=2).value\n",
    "    onpage_ws['C16'] = meta_ws.cell(row=2, column=3).value\n",
    "    onpage_ws['C17'] = meta_ws.cell(row=2, column=4).value\n",
    "    onpage_ws['C18'] = meta_ws.cell(row=2, column=5).value\n",
    "    \n",
    "    # 저장\n",
    "    onpage_wb.save(global_address+\"/\"+country+\"/\"+month_address+\"/\"+\"1. On-page(Title, Description).xlsx\")\n",
    "    \n",
    "    # 결과\n",
    "    count_num += 1\n",
    "    print(count_num,\". {} 나라의 {}, 1. On-page(Title, Description) On-Page SEO 작업이 완료되었습니다.\"\n",
    "          .format(country, month_address))"
   ]
  },
  {
   "cell_type": "markdown",
   "metadata": {},
   "source": [
    "## 2. Off-page(Total Backlinks)"
   ]
  },
  {
   "cell_type": "code",
   "execution_count": 13,
   "metadata": {
    "scrolled": false
   },
   "outputs": [
    {
     "name": "stdout",
     "output_type": "stream",
     "text": [
      "1 . Mexico (MX) 나라의 02. February, 2. Off-page(Total Backlinks) 작업이 완료되었습니다.\n",
      "2 . Mongolia (MN) 나라의 02. February, 2. Off-page(Total Backlinks) 작업이 완료되었습니다.\n"
     ]
    }
   ],
   "source": [
    "count_num = 0\n",
    "\n",
    "for country in countrys:\n",
    "    # 1차 불러오기(utf-16은 인코딩이 안됨)\n",
    "#     total_backlinks = pd.read_csv(global_address+\"/\"+country+\"/\"+month_address+\"/\"+\n",
    "#                                   \"total_backlinks.csv\" , encoding='utf-8')\n",
    "    total_backlinks = pd.read_excel(global_address+\"/\"+country+\"/\"+month_address+\"/\"+\"raw\"+\"/\"+\n",
    "                                  \"2. total_backlinks_raw.xlsx\")\n",
    "    # total 합계 변수 생성\n",
    "    total_backlinks_sum = total_backlinks['Total Backlinks'].sum()\n",
    "\n",
    "    # 출력\n",
    "    total_backlinks.to_excel(global_address+\"/\"+country+\"/\"+month_address+\"/\"+\n",
    "                             \"2. Off-page(Total Backlinks).xlsx\", sheet_name = 'Off-page(Total Backlinks)', index=False)\n",
    "    \n",
    "    # 2차 불러오기\n",
    "    total_backlinks_wb = openpyxl.load_workbook(global_address+\"/\"+country+\"/\"+month_address+\"/\"+\n",
    "                                          \"2. Off-page(Total Backlinks).xlsx\")\n",
    "    total_backlinks_ws = total_backlinks_wb['Off-page(Total Backlinks)']\n",
    "    \n",
    "    # 행 삽입\n",
    "    total_backlinks_ws.insert_rows(1)\n",
    "    total_backlinks_ws.insert_rows(1)\n",
    "    total_backlinks_ws.insert_rows(1)\n",
    "    \n",
    "    # total name, 값 추가\n",
    "    total_backlinks_ws['A1'] = 'Total'\n",
    "    total_backlinks_ws['A1'].font = Font(bold=True)\n",
    "    total_backlinks_ws['A2'] = total_backlinks_sum\n",
    "    \n",
    "    # 저장\n",
    "    total_backlinks_wb.save(global_address+\"/\"+country+\"/\"+month_address+\"/\"+\"2. Off-page(Total Backlinks).xlsx\")\n",
    "    \n",
    "    # 결과\n",
    "    count_num += 1\n",
    "    print(count_num,\". {} 나라의 {}, 2. Off-page(Total Backlinks) 작업이 완료되었습니다.\".format(country, month_address))\n"
   ]
  },
  {
   "cell_type": "markdown",
   "metadata": {},
   "source": [
    "## 2-1. Off-page(New Backlinks)\n",
    "(csv 자체로 거르고 싶으면 utf-8로 다운 받아야 함)"
   ]
  },
  {
   "cell_type": "code",
   "execution_count": 14,
   "metadata": {},
   "outputs": [
    {
     "name": "stdout",
     "output_type": "stream",
     "text": [
      "1 . Mexico (MX) 나라의 02. February, 2. Off-page(New Backlinks) 작업이 완료되었습니다.\n",
      "2 . Mongolia (MN) 나라의 02. February, 2. Off-page(New Backlinks) 작업이 완료되었습니다.\n"
     ]
    }
   ],
   "source": [
    "count_num = 0\n",
    "\n",
    "for country in countrys:\n",
    "    # 1차 불러오기\n",
    "    new_backlinks = pd.read_excel(global_address+\"/\"+country+\"/\"+month_address+\"/\"+\"raw\"+\"/\"+\n",
    "                                  \"2-1. new_backlinks.xlsx\")\n",
    "    \n",
    "    # total 합계 변수 생성\n",
    "    new_backlinks_sum = new_backlinks['Total Backlinks'].sum()\n",
    "\n",
    "    # 1차 저장\n",
    "    new_backlinks.to_excel(global_address+\"/\"+country+\"/\"+month_address+\"/\"+\"2-1. Off-page(New Backlinks).xlsx\",\n",
    "                           sheet_name = '2-1. Off-page(New Backlinks)', index=False)\n",
    "    # 2차 불러오기\n",
    "    new_backlinks_wb = openpyxl.load_workbook(global_address+\"/\"+country+\"/\"+month_address+\"/\"+\n",
    "                                              \"2-1. Off-page(New Backlinks).xlsx\")\n",
    "    new_backlinks_ws = new_backlinks_wb['2-1. Off-page(New Backlinks)']\n",
    "\n",
    "    # 행 삽입\n",
    "    new_backlinks_ws.insert_rows(1)\n",
    "    new_backlinks_ws.insert_rows(1)\n",
    "    new_backlinks_ws.insert_rows(1)\n",
    "\n",
    "    # total name, 값 추가\n",
    "    new_backlinks_ws['A1'] = 'Total'\n",
    "    new_backlinks_ws['A1'].font = Font(bold=True)\n",
    "    new_backlinks_ws['A2'] = new_backlinks_sum\n",
    "\n",
    "    # 2차 저장\n",
    "    new_backlinks_wb.save(global_address+\"/\"+country+\"/\"+month_address+\"/\"+\"2-1. Off-page(New Backlinks).xlsx\")\n",
    "\n",
    "    # 결과\n",
    "    count_num += 1\n",
    "    print(count_num,\". {} 나라의 {}, 2. Off-page(New Backlinks) 작업이 완료되었습니다.\"\n",
    "          .format(country, month_address))"
   ]
  },
  {
   "cell_type": "markdown",
   "metadata": {},
   "source": [
    "## 3. Response Codes"
   ]
  },
  {
   "cell_type": "code",
   "execution_count": 15,
   "metadata": {
    "scrolled": true
   },
   "outputs": [
    {
     "name": "stdout",
     "output_type": "stream",
     "text": [
      "1 . Mexico (MX) 나라의 02. February, 3. Response Codes 작업이 완료되었습니다.\n",
      "2 . Mongolia (MN) 나라의 02. February, 3. Response Codes 작업이 완료되었습니다.\n"
     ]
    }
   ],
   "source": [
    "count_num = 0\n",
    "\n",
    "for country, as_country in zip(countrys, as_countrys):\n",
    "    # Response Codes 불러오기\n",
    "    response = pd.read_excel(global_address+\"/\"+country+\"/\"+month_address+\"/\"+\"raw\"+\"/\"+\"response_codes_all.xlsx\", \n",
    "                             sheet_name = '1 - All')\n",
    "\n",
    "    # 이상 URL 제거\n",
    "    response_boolean_values = response['Address'].str.contains(pat=\"www.kia.com/\"+as_country, regex=False)\n",
    "    response_false_values = response['Address'][response_boolean_values == False]\n",
    "    response.drop(index = response_false_values.index, inplace=True)\n",
    "\n",
    "    # 피벗 변수 생성 및 저장\n",
    "    response_pivot = response[['Status Code', 'Status', 'Address']].groupby(['Status Code', 'Status']).count()\n",
    "    response_pivot.to_excel(global_address+\"/\"+country+\"/\"+month_address+\"/\"+\n",
    "                            \"3. Response Codes.xlsx\", sheet_name = '피벗')\n",
    "\n",
    "    # Response Codes 저장\n",
    "    with pd.ExcelWriter(global_address+\"/\"+country+\"/\"+month_address+\"/\"+\n",
    "                        \"3. Response Codes.xlsx\", mode='a', engine='openpyxl') as writer:\n",
    "        response.to_excel(writer, sheet_name = 'Response Codes', index=False)\n",
    "\n",
    "    # all_inlinks 불러오고 저장\n",
    "    all_inlinks = pd.read_excel(global_address+\"/\"+country+\"/\"+month_address+\"/\"+\"all_inlinks.xlsx\", \n",
    "                                sheet_name = '1 - All Inlinks')\n",
    "\n",
    "    with pd.ExcelWriter(global_address+\"/\"+country+\"/\"+month_address+\"/\"+\n",
    "                        \"3. Response Codes.xlsx\", mode='a', engine='openpyxl') as writer:\n",
    "        all_inlinks.to_excel(writer, sheet_name = '1 - All Inlinks', index=False)\n",
    "        \n",
    "    # 피벗 테이블 불러오기\n",
    "    response_wb = openpyxl.load_workbook(global_address+\"/\"+country+\"/\"+month_address+\"/\"+\n",
    "                                         \"3. Response Codes.xlsx\")\n",
    "    response_ws = response_wb['피벗']\n",
    "    \n",
    "    # 피벗 셀 너비 설정\n",
    "    response_ws.column_dimensions['A'].width = 12.00\n",
    "    response_ws.column_dimensions['B'].width = 19.00\n",
    "    response_ws.column_dimensions['C'].width = 8.00\n",
    "    \n",
    "    \n",
    "    # 피벗 셀 테두리 설정\n",
    "    border_box = Border(left = Side(border_style='thin', color='FF000000'), \n",
    "                        right = Side(border_style='thin', color='FF000000'), \n",
    "                        top = Side(border_style='thin', color='FF000000'), \n",
    "                        bottom = Side(border_style='thin', color='FF000000'),\n",
    "                        diagonal = Side(border_style='thin', color='FF000000'),\n",
    "                        diagonal_direction=0,\n",
    "                        outline = Side(border_style='thin', color='FF000000'),\n",
    "                        vertical = Side(border_style='thin', color='FF000000'),\n",
    "                        horizontal = Side(border_style='thin', color='FF000000'))\n",
    "    \n",
    "    for sheet_column in range(1, response_pivot['Address'].count()+2):\n",
    "        response_ws['C'+str(sheet_column)].border = border_box\n",
    "    \n",
    "    # 피벗 테이블 저장\n",
    "    response_wb.save(global_address+\"/\"+country+\"/\"+month_address+\"/\"+\"3. Response Codes.xlsx\")\n",
    "    \n",
    "    # 결과\n",
    "    count_num += 1\n",
    "    print(count_num,\". {} 나라의 {}, 3. Response Codes 작업이 완료되었습니다.\".format(country, month_address))"
   ]
  },
  {
   "cell_type": "markdown",
   "metadata": {},
   "source": [
    "## 4. Indexing HTTPS\n",
    "(csv확장자에서 xlsx로 바뀜)"
   ]
  },
  {
   "cell_type": "code",
   "execution_count": 16,
   "metadata": {
    "scrolled": false
   },
   "outputs": [
    {
     "name": "stdout",
     "output_type": "stream",
     "text": [
      "1 . Mexico (MX) 나라의 02. February, 4. Indexing HTTPS 작업이 완료되었습니다.\n",
      "2 . Mongolia (MN) 나라의 02. February, 4. Indexing HTTPS 작업이 완료되었습니다.\n"
     ]
    }
   ],
   "source": [
    "count_num = 0\n",
    "\n",
    "for country in countrys:\n",
    "    \n",
    "    # 1차 불러오기\n",
    "    indexing_https = pd.read_csv(global_address+\"/\"+country+\"/\"+month_address+\"/\"+\"raw\"+\"/\"+'Table.csv')\n",
    "    \n",
    "    # 해당 Type별 숫자 계산\n",
    "    string_sort_1 = indexing_https['Pages'][indexing_https['Type'] =='Submitted and indexed'].values[0]\n",
    "    string_sort_2 = indexing_https['Pages'][indexing_https['Type'] =='Indexed, not submitted in sitemap'].values[0]\n",
    "    \n",
    "    # 1차 저장\n",
    "    indexing_https.to_excel(global_address+\"/\"+country+\"/\"+month_address+\"/\"+\"raw\"+\"/\"+'Table.xlsx',\n",
    "                            sheet_name='Table')\n",
    "    \n",
    "    # 2차 불러오기\n",
    "    indexing_wb = openpyxl.load_workbook(global_address+\"/\"+country+\"/\"+month_address+\"/\"+\"raw\"+\"/\"+'Table.xlsx')\n",
    "    indexing_ws = indexing_wb['Table']\n",
    "    \n",
    "    # 가공\n",
    "    indexing_ws['G1'] = 'Total Indexed'\n",
    "    indexing_ws['G2'] = 'Submitted Web Indexed'\n",
    "    \n",
    "    indexing_ws['H1'] = string_sort_1 + string_sort_2\n",
    "    indexing_ws['H2'] = string_sort_1\n",
    "    \n",
    "    # 2차 저장\n",
    "    indexing_wb.save(global_address+\"/\"+country+\"/\"+month_address+\"/\"+'4. Indexing HTTPS.xlsx')\n",
    "    \n",
    "    # 결과\n",
    "    count_num += 1\n",
    "    print(count_num,\". {} 나라의 {}, 4. Indexing HTTPS 작업이 완료되었습니다.\".format(country, month_address))"
   ]
  },
  {
   "cell_type": "markdown",
   "metadata": {},
   "source": [
    "## 5. Organic traffic(preprocessing 1)"
   ]
  },
  {
   "cell_type": "code",
   "execution_count": 17,
   "metadata": {},
   "outputs": [
    {
     "name": "stdout",
     "output_type": "stream",
     "text": [
      "02. February, Organic Traffic Raw 1차 전처리 작업이 완료되었습니다.\n"
     ]
    }
   ],
   "source": [
    "# 불러오기\n",
    "organic_traffic_wb = openpyxl.load_workbook(\"c:/Dropbox (Ascent)/Ascent/2020/KIA/1. 모니터링/RAW\"+\"/\"+\n",
    "                                            \"Organic Traffic Raw.xlsx\")\n",
    "organic_traffic_ws = organic_traffic_wb['Organic Traffic Raw']\n",
    "\n",
    "# 행 삭제\n",
    "for i in range(8):\n",
    "    organic_traffic_ws.delete_rows(114)\n",
    "for i in range(13):\n",
    "    organic_traffic_ws.delete_rows(1)\n",
    "\n",
    "# 컬럼명 만들기\n",
    "organic_traffic_ws['C1'] = 'Visits'\n",
    "organic_traffic_ws['D1'] = 'Search Engines'\n",
    "organic_traffic_ws['E1'] = '[ibank]Paid Marketing_New'\n",
    "organic_traffic_ws['F1'] = '[ibank]Non-Paid Marketing_New'\n",
    "\n",
    "# 저장\n",
    "organic_traffic_wb.save(\"c:/Dropbox (Ascent)/Ascent/2020/KIA/1. 모니터링/RAW/Organic Traffic Raw\"+\"/\"+\n",
    "                                    \"Organic Traffic Raw_\"+month_num+\".xlsx\")\n",
    "\n",
    "# 결과\n",
    "print(\"{}, Organic Traffic Raw 1차 전처리 작업이 완료되었습니다.\".format(month_address))"
   ]
  },
  {
   "cell_type": "markdown",
   "metadata": {},
   "source": [
    "## 5. Organic traffic(preprocessing 2)"
   ]
  },
  {
   "cell_type": "code",
   "execution_count": 18,
   "metadata": {},
   "outputs": [
    {
     "name": "stdout",
     "output_type": "stream",
     "text": [
      "02. February, Organic Traffic Raw 2차 전처리 작업이 완료되었습니다.\n"
     ]
    }
   ],
   "source": [
    "# 불러오기\n",
    "organic_traffic_pre = pd.read_excel(\"c:/Dropbox (Ascent)/Ascent/2020/KIA/1. 모니터링/RAW/Organic Traffic Raw\"+\"/\"+\n",
    "                                    \"Organic Traffic Raw_\"+month_num+\".xlsx\")\n",
    "\n",
    "# Country code 대문자 변환\n",
    "organic_traffic_pre['Country code'] = organic_traffic_pre['Country code'].str.upper()\n",
    "\n",
    "# B2 열 공백 행 삭제\n",
    "duplicate_false_index= organic_traffic_pre['Country code'][organic_traffic_pre['Country code'].\n",
    "                                                           duplicated(keep='last') == True].index\n",
    "organic_traffic_pre.drop(index=duplicate_false_index, inplace=True)\n",
    "\n",
    "# 출력\n",
    "organic_traffic_pre.to_excel(\"c:/Dropbox (Ascent)/Ascent/2020/KIA/1. 모니터링/RAW/Organic Traffic Raw\"+\"/\"+\n",
    "                             \"Organic Traffic Raw_\"+month_num+\".xlsx\", index=False)\n",
    "\n",
    "# 결과\n",
    "print(\"{}, Organic Traffic Raw 2차 전처리 작업이 완료되었습니다.\".format(month_address))"
   ]
  },
  {
   "cell_type": "markdown",
   "metadata": {},
   "source": [
    "## 5. Organic traffic(separate)"
   ]
  },
  {
   "cell_type": "code",
   "execution_count": 19,
   "metadata": {},
   "outputs": [
    {
     "name": "stdout",
     "output_type": "stream",
     "text": [
      "1 .02. February, Mexico (MX) 빈 값 excel 파일 뿌리기 작업이 완료되었습니다.\n",
      "2 .02. February, Mongolia (MN) 빈 값 excel 파일 뿌리기 작업이 완료되었습니다.\n"
     ]
    }
   ],
   "source": [
    "count_num = 0\n",
    "# ws_row = 1 (AW 부터 시작시)\n",
    "ws_row = 21\n",
    "\n",
    "\n",
    "for country in countrys:\n",
    "    # 불러오기\n",
    "    organic_sep_wb = openpyxl.load_workbook(\"c:/Dropbox (Ascent)/Ascent/2020/KIA/1. 모니터링/RAW/Organic Traffic Raw\"+\"/\"+\n",
    "                                            \"Organic Traffic Raw_\"+month_num+\".xlsx\")\n",
    "    organic_sep_ws = organic_sep_wb['Sheet1']\n",
    "\n",
    "    # sheet 이름 변경\n",
    "    organic_sep_ws.title = 'Organic Traffic Raw_'+month_num\n",
    "    \n",
    "    # sheet 생성\n",
    "    organic_sheet = organic_sep_wb.create_sheet('Organic Traffic')\n",
    "\n",
    "    # sheet 내용 작성\n",
    "    organic_sheet['B2'] = 'Country code'\n",
    "    organic_sheet['C2'] = 'Month'\n",
    "    organic_sheet['D2'] = 'Visits'\n",
    "    organic_sheet['E2'] = 'Search Engines Visits Total'\n",
    "    organic_sheet['F2'] = 'Paid Search Engines'\n",
    "    organic_sheet['G2'] = 'Organic Search Engines'\n",
    "\n",
    "    ws_row = ws_row + 1\n",
    "\n",
    "    organic_sheet['B3'] = organic_sep_ws.cell(row=ws_row, column=1).value\n",
    "    organic_sheet['C3'] = str(organic_sep_ws.cell(row=ws_row, column=2).value)[0:7]\n",
    "    organic_sheet['D3'] = organic_sep_ws.cell(row=ws_row, column=3).value\n",
    "    organic_sheet['E3'] = organic_sep_ws.cell(row=ws_row, column=4).value\n",
    "    organic_sheet['F3'] = organic_sep_ws.cell(row=ws_row, column=5).value\n",
    "    organic_sheet['G3'] = organic_sep_ws.cell(row=ws_row, column=6).value\n",
    "\n",
    "    # Organic Traffic Raw_00월 sheet 삭제\n",
    "    organic_sep_wb.remove(organic_sep_wb['Organic Traffic Raw_'+month_num])\n",
    "    \n",
    "    # 셀 색 채우기 \n",
    "    organic_sheet['B2'].fill = PatternFill(patternType='solid', fgColor=Color('FFC000'))\n",
    "    organic_sheet['C2'].fill = PatternFill(patternType='solid', fgColor=Color('FFC000'))\n",
    "    organic_sheet['D2'].fill = PatternFill(patternType='solid', fgColor=Color('FFC000'))\n",
    "    organic_sheet['E2'].fill = PatternFill(patternType='solid', fgColor=Color('FFC000'))\n",
    "    organic_sheet['F2'].fill = PatternFill(patternType='solid', fgColor=Color('FFC000'))\n",
    "    organic_sheet['G2'].fill = PatternFill(patternType='solid', fgColor=Color('FFC000'))\n",
    "    organic_sheet['G3'].fill = PatternFill(patternType='solid', fgColor=Color('D8E4BC'))\n",
    "    \n",
    "    # 글자 진하게\n",
    "    organic_sheet['B2'].font = Font(bold=True)\n",
    "    organic_sheet['C2'].font = Font(bold=True)\n",
    "    organic_sheet['D2'].font = Font(bold=True)\n",
    "    organic_sheet['E2'].font = Font(bold=True)\n",
    "    organic_sheet['F2'].font = Font(bold=True)\n",
    "    organic_sheet['G2'].font = Font(bold=True)\n",
    "    \n",
    "    # 셀 너비 조정\n",
    "    organic_sheet.column_dimensions['B'].width = 13.00\n",
    "    organic_sheet.column_dimensions['C'].width = 17.20\n",
    "    organic_sheet.column_dimensions['D'].width = 15.00\n",
    "    organic_sheet.column_dimensions['E'].width = 25.30\n",
    "    organic_sheet.column_dimensions['F'].width = 19.00\n",
    "    organic_sheet.column_dimensions['G'].width = 22.30\n",
    "    \n",
    "    # 가운데 정렬\n",
    "    organic_sheet['B2'].alignment = Alignment(horizontal='center', vertical='center')\n",
    "    organic_sheet['C2'].alignment = Alignment(horizontal='center', vertical='center')\n",
    "    organic_sheet['D2'].alignment = Alignment(horizontal='center', vertical='center')\n",
    "    organic_sheet['E2'].alignment = Alignment(horizontal='center', vertical='center')\n",
    "    organic_sheet['F2'].alignment = Alignment(horizontal='center', vertical='center')\n",
    "    organic_sheet['G2'].alignment = Alignment(horizontal='center', vertical='center')\n",
    "    \n",
    "    organic_sheet['B3'].alignment = Alignment(horizontal='center', vertical='center')\n",
    "    organic_sheet['C3'].alignment = Alignment(horizontal='center', vertical='center')\n",
    "    organic_sheet['D3'].alignment = Alignment(horizontal='center', vertical='center')\n",
    "    organic_sheet['E3'].alignment = Alignment(horizontal='center', vertical='center')\n",
    "    organic_sheet['F3'].alignment = Alignment(horizontal='center', vertical='center')\n",
    "    organic_sheet['G3'].alignment = Alignment(horizontal='center', vertical='center')\n",
    "    \n",
    "    # 셀 테두리 설정\n",
    "    border_box = Border(left = Side(border_style='thin', color='FF000000'), \n",
    "                        right = Side(border_style='thin', color='FF000000'), \n",
    "                        top = Side(border_style='thin', color='FF000000'), \n",
    "                        bottom = Side(border_style='thin', color='FF000000'),\n",
    "                        diagonal = Side(border_style='thin', color='FF000000'),\n",
    "                        diagonal_direction=0,\n",
    "                        outline = Side(border_style='thin', color='FF000000'),\n",
    "                        vertical = Side(border_style='thin', color='FF000000'),\n",
    "                        horizontal = Side(border_style='thin', color='FF000000'))\n",
    "    \n",
    "    organic_sheet['B2'].border = border_box\n",
    "    organic_sheet['C2'].border = border_box\n",
    "    organic_sheet['D2'].border = border_box\n",
    "    organic_sheet['E2'].border = border_box\n",
    "    organic_sheet['F2'].border = border_box\n",
    "    organic_sheet['G2'].border = border_box\n",
    "    \n",
    "    organic_sheet['B3'].border = border_box\n",
    "    organic_sheet['C3'].border = border_box\n",
    "    organic_sheet['D3'].border = border_box\n",
    "    organic_sheet['E3'].border = border_box\n",
    "    organic_sheet['F3'].border = border_box\n",
    "    organic_sheet['G3'].border = border_box\n",
    "    \n",
    "    # 저장\n",
    "    organic_sep_wb.save(global_address+\"/\"+country+\"/\"+month_address+\"/\"+\"5. Organic Traffic.xlsx\")\n",
    "\n",
    "    # 결과\n",
    "    count_num += 1\n",
    "    print(count_num,\".{}, {} 빈 값 excel 파일 뿌리기 작업이 완료되었습니다.\".format(month_address, country))"
   ]
  },
  {
   "cell_type": "markdown",
   "metadata": {},
   "source": [
    "## 6. Device Channel Traffic\n",
    "(% 뒤의 숫자를 자르지 말아야 함)"
   ]
  },
  {
   "cell_type": "code",
   "execution_count": 20,
   "metadata": {},
   "outputs": [
    {
     "name": "stdout",
     "output_type": "stream",
     "text": [
      "Mexico (MX) 나라의 02. February, 6. Device Channel Traffic 작업이 완료되었습니다.\n",
      "Mongolia (MN) 나라의 02. February, 6. Device Channel Traffic 작업이 완료되었습니다.\n"
     ]
    }
   ],
   "source": [
    "count_num = 0\n",
    "\n",
    "for country in countrys:\n",
    "    \n",
    "    # 불러오기 (xls를 어떻게 불러와서 xlsx로 바꿀지 생각해야 함)\n",
    "    device_wb = openpyxl.load_workbook(global_address+\"/\"+country+\"/\"+month_address+\"/\"+\"raw\"+\"/\"+\n",
    "                                       \"6. device_raw.xlsx\")\n",
    "    device_ws = device_wb['Worksheet']\n",
    "\n",
    "    # sheet 내용 작성\n",
    "    device_ws['F18'] = 'mobile'\n",
    "    device_ws['G18'] = 'desktop'\n",
    "\n",
    "    device_ws['F19'] = \"{}%\".format((device_ws.cell(row=21, column=4).value \n",
    "                                         + device_ws.cell(row=23, column=4).value)*100)\n",
    "    device_ws['G19'] = \"{}%\".format(device_ws.cell(row=22, column=4).value*100)\n",
    "\n",
    "    # sheet 색 변경\n",
    "    for i in range(7,15):\n",
    "        device_ws['A'+str(i)].fill = PatternFill(patternType='solid', fgColor=Color('F2F2F2'))\n",
    "        device_ws['B'+str(i)].fill = PatternFill(patternType='solid', fgColor=Color('F2F2F2'))\n",
    "        device_ws['C'+str(i)].fill = PatternFill(patternType='solid', fgColor=Color('F2F2F2'))\n",
    "        device_ws['D'+str(i)].fill = PatternFill(patternType='solid', fgColor=Color('F2F2F2'))\n",
    "    \n",
    "    # 저장\n",
    "    device_wb.save(global_address+\"/\"+country+\"/\"+month_address+\"/\"+\"6. Device Channel Traffic.xlsx\")\n",
    "    \n",
    "    # 결과\n",
    "    count_num += 1\n",
    "    print(\"{} 나라의 {}, 6. Device Channel Traffic 작업이 완료되었습니다.\".format(country, month_address))"
   ]
  },
  {
   "cell_type": "markdown",
   "metadata": {},
   "source": [
    "## 7. Bounce Rate, Average Time Spent\n",
    "(굳이 실행시킬 필요 없을 것 같음)"
   ]
  },
  {
   "cell_type": "code",
   "execution_count": 21,
   "metadata": {
    "scrolled": true
   },
   "outputs": [
    {
     "name": "stdout",
     "output_type": "stream",
     "text": [
      "1 . Mexico (MX) 나라의 02. February, 7. Bounce Rate, Average Time Spent 작업이 완료되었습니다.\n",
      "2 . Mongolia (MN) 나라의 02. February, 7. Bounce Rate, Average Time Spent 작업이 완료되었습니다.\n"
     ]
    }
   ],
   "source": [
    "count_num = 0\n",
    "\n",
    "for country in countrys:\n",
    "        \n",
    "    # 불러오기(xls를 어떻게 불러와서 xlsx로 바꿀지 생각해야 함)\n",
    "    bounce_wb = openpyxl.load_workbook(global_address+\"/\"+country+\"/\"+month_address+\"/\"+\"raw\"+\"/\"+\n",
    "                                       \"7. bounce_average_raw.xlsx\")\n",
    "    bounce_ws = bounce_wb['Worksheet']\n",
    "    \n",
    "    # sheet 색 변경\n",
    "    for i in range(7,12):\n",
    "        bounce_ws['A'+str(i)].fill = PatternFill(patternType='solid', fgColor=Color('F2F2F2'))\n",
    "        bounce_ws['B'+str(i)].fill = PatternFill(patternType='solid', fgColor=Color('F2F2F2'))\n",
    "        bounce_ws['C'+str(i)].fill = PatternFill(patternType='solid', fgColor=Color('F2F2F2'))\n",
    "        bounce_ws['D'+str(i)].fill = PatternFill(patternType='solid', fgColor=Color('F2F2F2'))\n",
    "        bounce_ws['E'+str(i)].fill = PatternFill(patternType='solid', fgColor=Color('F2F2F2'))\n",
    "        \n",
    "    # 저장하기\n",
    "    bounce_wb.save(global_address+\"/\"+country+\"/\"+month_address+\"/\"+\"7. Bounce Rate, Average Time Spent.xlsx\")\n",
    "    \n",
    "    # 결과\n",
    "    count_num += 1\n",
    "    print(count_num,\". {} 나라의 {}, 7. Bounce Rate, Average Time Spent 작업이 완료되었습니다.\".format(country, month_address))"
   ]
  },
  {
   "cell_type": "markdown",
   "metadata": {},
   "source": [
    "## 8. Organic Keywords\n",
    "(excel 저장은 덮어쓰기가 됨)"
   ]
  },
  {
   "cell_type": "code",
   "execution_count": 22,
   "metadata": {
    "scrolled": true
   },
   "outputs": [
    {
     "name": "stdout",
     "output_type": "stream",
     "text": [
      "1 . Mexico (MX) 나라의 02. February, 8. Organic Keywords 작업이 완료되었습니다.\n",
      "2 . Mongolia (MN) 나라의 02. February, 8. Organic Keywords 작업이 완료되었습니다.\n"
     ]
    }
   ],
   "source": [
    "count_num = 0\n",
    "\n",
    "for country in countrys:\n",
    "    # 불러오기\n",
    "    organic_keywords = pd.read_excel(global_address+\"/\"+country+\"/\"+month_address+\"/\"+\"raw\"+\"/\"+\n",
    "                                     \"8. organic_keywords_raw.xlsx\")\n",
    "    \n",
    "    # Total 개수, Click 0 초과, Click 0 초과 포지션 평균 변수 생성\n",
    "    organic_keywords_total = organic_keywords['Query'].count()\n",
    "    organic_keywords_over = organic_keywords['Clicks'][organic_keywords['Clicks'] > 0].count()\n",
    "    organic_keywords_average = organic_keywords['Position'][organic_keywords['Clicks'] > 0].mean()\n",
    "    \n",
    "    # 2차 불러오기\n",
    "    organic_keywords_wb = openpyxl.load_workbook(global_address+\"/\"+country+\"/\"+month_address+\"/\"+\"raw\"+\"/\"+\n",
    "                                                 \"8. organic_keywords_raw.xlsx\")\n",
    "    organic_keywords_ws = organic_keywords_wb['Sheet1']\n",
    "    \n",
    "    # sheet 이름 변경\n",
    "    organic_keywords_ws.title = 'HTTPS'\n",
    "    \n",
    "    # 행 삽입\n",
    "    organic_keywords_ws.insert_rows(1)\n",
    "    organic_keywords_ws.insert_rows(1)\n",
    "    organic_keywords_ws.insert_rows(1)\n",
    "    \n",
    "    # Total , Click 0 over, Click 0 over Average / name, 값 추가\n",
    "    organic_keywords_ws['A1'] = 'Total'\n",
    "    organic_keywords_ws['A1'].font = Font(bold=True)\n",
    "    organic_keywords_ws['A2'] = organic_keywords_total\n",
    "    \n",
    "    organic_keywords_ws['B1'] = 'Click 0 over'\n",
    "    organic_keywords_ws['B1'].font = Font(bold=True)\n",
    "    organic_keywords_ws['B2'] = organic_keywords_over\n",
    "    \n",
    "    organic_keywords_ws['E1'] = 'Average'\n",
    "    organic_keywords_ws['E1'].font = Font(bold=True)\n",
    "    organic_keywords_ws['E2'] = '{0:.1f}'.format(organic_keywords_average)\n",
    "    organic_keywords_ws['E2'].fill = PatternFill(patternType='solid', fgColor=Color('FFFF00')) \n",
    "    \n",
    "    # 2차 저장\n",
    "    organic_keywords_wb.save(global_address+\"/\"+country+\"/\"+month_address+\"/\"+\"8. Organic Keywords.xlsx\")\n",
    "    \n",
    "    # 결과\n",
    "    count_num += 1\n",
    "    print(count_num,\". {} 나라의 {}, 8. Organic Keywords 작업이 완료되었습니다.\".format(country, month_address))"
   ]
  },
  {
   "cell_type": "markdown",
   "metadata": {},
   "source": [
    "## 나라별 Raw 데이터 정리(월별)"
   ]
  },
  {
   "cell_type": "code",
   "execution_count": 23,
   "metadata": {
    "scrolled": true
   },
   "outputs": [
    {
     "name": "stdout",
     "output_type": "stream",
     "text": [
      "1 . Mexico (MX) 나라의 02. February, 나라별 Raw 데이터 정리 작업이 완료되었습니다.\n",
      "2 . Mongolia (MN) 나라의 02. February, 나라별 Raw 데이터 정리 작업이 완료되었습니다.\n"
     ]
    }
   ],
   "source": [
    "count_num = 0\n",
    "\n",
    "for country, gather_country in zip(countrys, gather_countrys):\n",
    "    \n",
    "    # 가공 파일 불러오기\n",
    "    gather_2_wb = openpyxl.load_workbook(global_address+\"/\"+country+\"/\"+month_address+\"/\"+\n",
    "                                         \"2. Off-page(Total Backlinks).xlsx\")\n",
    "    gather_2_ws = gather_2_wb['Off-page(Total Backlinks)']\n",
    "\n",
    "    gather_2_1_wb = openpyxl.load_workbook(global_address+\"/\"+country+\"/\"+month_address+\"/\"+\n",
    "                                           \"2-1. Off-page(New Backlinks).xlsx\")\n",
    "    gather_2_1_ws = gather_2_1_wb['2-1. Off-page(New Backlinks)']\n",
    "\n",
    "    gather_4_wb = openpyxl.load_workbook(global_address+\"/\"+country+\"/\"+month_address+\"/\"+\n",
    "                                         \"4. Indexing HTTPS.xlsx\")\n",
    "    gather_4_ws = gather_4_wb['Table']\n",
    "\n",
    "    gather_5_wb = openpyxl.load_workbook(global_address+\"/\"+country+\"/\"+month_address+\"/\"+\n",
    "                                         \"5. Organic Traffic.xlsx\")\n",
    "    gather_5_ws = gather_5_wb['Organic Traffic']\n",
    "\n",
    "    gather_6_wb = openpyxl.load_workbook(global_address+\"/\"+country+\"/\"+month_address+\"/\"+\n",
    "                                         \"6. Device Channel Traffic.xlsx\")\n",
    "    gather_6_ws = gather_6_wb['Worksheet']\n",
    "\n",
    "    gather_7_wb = openpyxl.load_workbook(global_address+\"/\"+country+\"/\"+month_address+\"/\"+\n",
    "                                         \"7. Bounce Rate, Average Time Spent.xlsx\")\n",
    "    gather_7_ws = gather_7_wb['Worksheet']\n",
    "\n",
    "    gather_8_wb = openpyxl.load_workbook(global_address+\"/\"+country+\"/\"+month_address+\"/\"+\n",
    "                                         \"8. Organic Keywords.xlsx\")\n",
    "    gather_8_ws = gather_8_wb['HTTPS']\n",
    "    \n",
    "    # Raw 정리 파일 불러오기\n",
    "    gather_workbook = openpyxl.load_workbook(\"c:/Dropbox (Ascent)/Ascent/2020/KIA/1. 모니터링/RAW/2020 Raw 정리\"+\"/\"\n",
    "                                             +gather_country+\".xlsx\")\n",
    "    \n",
    "    gather_2_offpage_sheet = gather_workbook['Off-Page']\n",
    "    gather_4_index_sheet = gather_workbook['Index']\n",
    "    gather_5_organic_sheet = gather_workbook['Organic']\n",
    "    gather_6_device_sheet = gather_workbook['Device']\n",
    "    gather_7_Bounce_sheet = gather_workbook['Bounce&Time']\n",
    "    gather_8_kw_sheet = gather_workbook['KW']\n",
    "    \n",
    "    # 데이터 삽입\n",
    "\n",
    "    gather_2_offpage_sheet['E'+str(gather_month+41)] = gather_2_ws.cell(row=2, column=1).value\n",
    "    gather_2_offpage_sheet['D'+str(gather_month+41)] = gather_2_1_ws.cell(row=2, column=1).value\n",
    "    \n",
    "    gather_4_index_sheet['O'+str(gather_month+41)] =gather_4_ws.cell(row=1, column=8).value\n",
    "    gather_4_index_sheet['T'+str(gather_month+41)] = gather_4_ws.cell(row=2, column=8).value\n",
    "    \n",
    "    gather_5_organic_sheet['D'+str(gather_month+41)] = gather_5_ws.cell(row=3, column=7).value\n",
    "    \n",
    "    gather_6_device_sheet['D'+str(gather_month+41)] = gather_6_ws.cell(row=19, column=6).value\n",
    "    gather_6_device_sheet['E'+str(gather_month+41)] = gather_6_ws.cell(row=19, column=7).value\n",
    "    \n",
    "    gather_7_Bounce_sheet['D'+str(gather_month+41)] = \"{} AM\".format(gather_7_ws.cell(row=17, column=3).value)\n",
    "    gather_7_Bounce_sheet['E'+str(gather_month+41)] = gather_7_ws.cell(row=17, column=4).value\n",
    "    \n",
    "    gather_8_kw_sheet['D'+str(gather_month+41)] = gather_8_ws.cell(row=2, column=1).value\n",
    "    gather_8_kw_sheet['E'+str(gather_month+41)] = gather_8_ws.cell(row=2, column=2).value\n",
    "    gather_8_kw_sheet['I'+str(gather_month+41)] = gather_8_ws.cell(row=2, column=5).value\n",
    "    \n",
    "    # Raw 정리 파일 저장\n",
    "    gather_workbook.save(\"c:/Dropbox (Ascent)/Ascent/2020/KIA/1. 모니터링/RAW/2020 Raw 정리\"+\"/\"+\n",
    "                         +gather_country+\"_\"+month_num+\".xlsx\")\n",
    "    \n",
    "    # 결과\n",
    "    count_num += 1\n",
    "    print(count_num,\". {} 나라의 {}, 나라별 Raw 데이터 정리 작업이 완료되었습니다.\"\n",
    "          .format(country, month_address))\n",
    "\n",
    "\n",
    "    "
   ]
  },
  {
   "cell_type": "markdown",
   "metadata": {},
   "source": [
    "## 모니터링 데이터 수집 관리 대장(월별), 각 파일 -> 관리대장"
   ]
  },
  {
   "cell_type": "code",
   "execution_count": 24,
   "metadata": {
    "scrolled": true
   },
   "outputs": [
    {
     "name": "stdout",
     "output_type": "stream",
     "text": [
      "1 . Mexico (MX) 나라의 02. February, 나라별 관리대장 작업이 완료되었습니다.\n",
      "2 . Mongolia (MN) 나라의 02. February, 나라별 관리대장 작업이 완료되었습니다.\n"
     ]
    }
   ],
   "source": [
    "count_num = 0\n",
    "row_i = 21\n",
    "\n",
    "# 관리대장 파일 불러오기\n",
    "final_workbook = openpyxl.load_workbook(\"c:/Dropbox (Ascent)/Ascent/2020/KIA/1. 모니터링\"+\"/\"+\n",
    "                                        \"KIA 모니터링 데이터 수집 관리 대장_2020.xlsx\")\n",
    "final_2_backlilnks_sheet = final_workbook['2. Backlinks']\n",
    "final_4_total_index_sheet = final_workbook['4. Total Indexed']\n",
    "final_4_web_indexed_sheet = final_workbook['4-1. Submitted Web Indexed']\n",
    "final_5_traffic_sheet = final_workbook['5. Organic Traffic']\n",
    "final_6_device_sheet = final_workbook['6.Device']\n",
    "final_7_bounce_sheet = final_workbook['7-1. Bounce Rate']\n",
    "final_7_average_sheet = final_workbook['7-2. Average Time Spent']\n",
    "final_8_kw_sheet = final_workbook['8-1. Organic KW']\n",
    "final_8_kw_ranking_sheet = final_workbook['8-2. Organic KW Ranking']\n",
    "\n",
    "for country, gather_country in zip(countrys, gather_countrys):\n",
    "    \n",
    "    # 가공 파일 불러오기\n",
    "    gather_2_wb = openpyxl.load_workbook(global_address+\"/\"+country+\"/\"+month_address+\"/\"+\n",
    "                                         \"2. Off-page(Total Backlinks).xlsx\")\n",
    "    gather_2_ws = gather_2_wb['Off-page(Total Backlinks)']\n",
    "\n",
    "    gather_2_1_wb = openpyxl.load_workbook(global_address+\"/\"+country+\"/\"+month_address+\"/\"+\n",
    "                                           \"2-1. Off-page(New Backlinks).xlsx\")\n",
    "    gather_2_1_ws = gather_2_1_wb['2-1. Off-page(New Backlinks)']\n",
    "\n",
    "    gather_4_wb = openpyxl.load_workbook(global_address+\"/\"+country+\"/\"+month_address+\"/\"+\n",
    "                                         \"4. Indexing HTTPS.xlsx\")\n",
    "    gather_4_ws = gather_4_wb['Table']\n",
    "\n",
    "    gather_5_wb = openpyxl.load_workbook(global_address+\"/\"+country+\"/\"+month_address+\"/\"+\n",
    "                                         \"5. Organic Traffic.xlsx\")\n",
    "    gather_5_ws = gather_5_wb['Organic Traffic']\n",
    "\n",
    "    gather_6_wb = openpyxl.load_workbook(global_address+\"/\"+country+\"/\"+month_address+\"/\"+\n",
    "                                         \"6. Device Channel Traffic.xlsx\")\n",
    "    gather_6_ws = gather_6_wb['Worksheet']\n",
    "\n",
    "    gather_7_wb = openpyxl.load_workbook(global_address+\"/\"+country+\"/\"+month_address+\"/\"+\n",
    "                                         \"7. Bounce Rate, Average Time Spent.xlsx\")\n",
    "    gather_7_ws = gather_7_wb['Worksheet']\n",
    "\n",
    "    gather_8_wb = openpyxl.load_workbook(global_address+\"/\"+country+\"/\"+month_address+\"/\"+\n",
    "                                         \"8. Organic Keywords.xlsx\")\n",
    "    gather_8_ws = gather_8_wb['HTTPS']\n",
    "    \n",
    "    # 데이터 삽입\n",
    "    row_i += 1\n",
    "    \n",
    "    if row_i == 7:\n",
    "        row_i = 8\n",
    "    elif row_i == 11:\n",
    "        row_i = 12\n",
    "    \n",
    "    final_2_backlilnks_sheet['B'+column_address[gather_month*2-2]+\n",
    "                             str(row_i+4)] = gather_2_1_ws.cell(row=2, column=1).value\n",
    "    final_2_backlilnks_sheet['B'+column_address[gather_month*2-1]+\n",
    "                             str(row_i+4)] = gather_2_ws.cell(row=2, column=1).value\n",
    "\n",
    "    final_4_total_index_sheet['A'+column_address[gather_month+1]+\n",
    "                              str(row_i+3)] =gather_4_ws.cell(row=1, column=8).value\n",
    "    final_4_web_indexed_sheet['B'+column_address[gather_month*2-1]+\n",
    "                                str(row_i+4)] = gather_4_ws.cell(row=2, column=8).value\n",
    "\n",
    "    final_5_traffic_sheet['A'+column_address[gather_month+1]+\n",
    "                          str(row_i+3)] = gather_5_ws.cell(row=3, column=7).value\n",
    "\n",
    "    final_6_device_sheet['C'+column_address[gather_month*3-5]+\n",
    "                         str(row_i+4)] = gather_6_ws.cell(row=19, column=6).value\n",
    "    final_6_device_sheet['C'+column_address[gather_month*3-4]+\n",
    "                         str(row_i+4)] = gather_6_ws.cell(row=19, column=7).value\n",
    "\n",
    "    final_7_bounce_sheet['A'+column_address[gather_month+1]+\n",
    "                         str(row_i+3)] = gather_7_ws.cell(row=17, column=4).value\n",
    "\n",
    "    final_7_average_sheet['A'+column_address[gather_month+1]+\n",
    "                          str(row_i+3)] = \"{} AM\".format(gather_7_ws.cell(row=17, column=3).value)\n",
    "\n",
    "    final_8_kw_sheet['A'+column_address[gather_month+1]+\n",
    "                     str(row_i+3)] = gather_8_ws.cell(row=2, column=2).value\n",
    "\n",
    "    final_8_kw_ranking_sheet['A'+column_address[gather_month+1]+\n",
    "                             str(row_i+3)] = gather_8_ws.cell(row=2, column=5).value\n",
    "\n",
    "    # Raw 정리 파일 저장\n",
    "    final_workbook.save(\"c:/Dropbox (Ascent)/Ascent/2020/KIA/1. 모니터링\"+\"/\"+\n",
    "                        \"KIA 모니터링 데이터 수집 관리 대장_2020_\"+month_num+\".xlsx\")\n",
    "    \n",
    "    # 결과\n",
    "    count_num += 1\n",
    "    print(count_num,\". {} 나라의 {}, 나라별 관리대장 작업이 완료되었습니다.\"\n",
    "          .format(country, month_address))\n",
    "    \n"
   ]
  },
  {
   "cell_type": "markdown",
   "metadata": {},
   "source": [
    "## 나라별 Raw 데이터 정리(반기별)\n",
    "(반기별로 On_page_column과 response_column 숫자를 바꿔줘야 함)"
   ]
  },
  {
   "cell_type": "code",
   "execution_count": 25,
   "metadata": {},
   "outputs": [],
   "source": [
    "# count_num = 0\n",
    "\n",
    "# for country, gather_country in zip(countrys, gather_countrys):\n",
    "    \n",
    "#     # 가공 파일 불러오기\n",
    "#     gather_1_wb = openpyxl.load_workbook(global_address+\"/\"+country+\"/\"+month_address+\"/\"+\n",
    "#                                      \"1. On-page(Title, Description).xlsx\")\n",
    "#     gather_1_ws = gather_1_wb['On-Page SEO']\n",
    "    \n",
    "#     gather_3_wb = openpyxl.load_workbook(global_address+\"/\"+country+\"/\"+month_address+\"/\"+\n",
    "#                                      \"3. Response Codes.xlsx\")\n",
    "#     gather_3_ws = gather_3_wb['피벗']\n",
    "\n",
    "#     # Raw 정리 파일 불러오기\n",
    "#     gather_workbook = openpyxl.load_workbook(\"c:/Dropbox (Ascent)/Ascent/2020/KIA/1. 모니터링/RAW/2020 Raw 정리\"+\n",
    "#                                              \"/\"+gather_country+\".xlsx\")\n",
    "    \n",
    "#     gather_1_onpage_sheet = gather_workbook['On-Page']\n",
    "#     gather_3_response_sheet = gather_workbook['Response']\n",
    "    \n",
    "#     # 데이터 삽입(반기별로 On_page_column과 response_column 숫자를 바꿔줘야 함)\n",
    "#     On_page_column = 'AG'\n",
    "#     gather_1_onpage_sheet[On_page_column+'4'] = gather_8_ws.cell(row=6, column=3).value\n",
    "#     gather_1_onpage_sheet[On_page_column+'5'] = gather_8_ws.cell(row=7, column=3).value\n",
    "#     gather_1_onpage_sheet[On_page_column+'6'] = gather_8_ws.cell(row=8, column=3).value\n",
    "#     gather_1_onpage_sheet[On_page_column+'7'] = gather_8_ws.cell(row=9, column=3).value\n",
    "#     gather_1_onpage_sheet[On_page_column+'8'] = gather_8_ws.cell(row=10, column=3).value\n",
    "        \n",
    "#     gather_1_onpage_sheet[On_page_column+'14'] = gather_8_ws.cell(row=14, column=3).value\n",
    "#     gather_1_onpage_sheet[On_page_column+'15'] = gather_8_ws.cell(row=15, column=3).value\n",
    "#     gather_1_onpage_sheet[On_page_column+'16'] = gather_8_ws.cell(row=16, column=3).value\n",
    "#     gather_1_onpage_sheet[On_page_column+'17'] = gather_8_ws.cell(row=17, column=3).value\n",
    "#     gather_1_onpage_sheet[On_page_column+'18'] = gather_8_ws.cell(row=18, column=3).value\n",
    "    \n",
    "#     response_column = 'I'\n",
    "#     gather_3_response_sheet[response_column+'4'] = gather_3_ws.cell(row=2, column=3).value\n",
    "#     gather_3_response_sheet[response_column+'5'] = gather_3_ws.cell(row=3, column=3).value\n",
    "#     gather_3_response_sheet[response_column+'6'] = gather_3_ws.cell(row=4, column=3).value\n",
    "#     gather_3_response_sheet[response_column+'7'] = gather_3_ws.cell(row=5, column=3).value\n",
    "#     gather_3_response_sheet[response_column+'8'] = gather_3_ws.cell(row=6, column=3).value\n",
    "    \n",
    "#     # Raw 정리 파일 저장\n",
    "#     gather_workbook.save(\"c:/Dropbox (Ascent)/Ascent/2020/KIA/1. 모니터링/RAW/2020 Raw 정리\"+\"/\"\n",
    "#                          +gather_country+\"_\"+month_num+\"(반기별).xlsx\")\n",
    "    \n",
    "#     # 결과\n",
    "#     count_num += 1\n",
    "#     print(count_num,\". {} 나라의 {}, 나라별 Raw 데이터 정리 작업이 완료되었습니다.\"\n",
    "#           .format(country, month_address))"
   ]
  },
  {
   "cell_type": "markdown",
   "metadata": {},
   "source": [
    "## 모니터링 데이터 수집 관리 대장(반기별), 각 파일 -> 관리대장\n",
    "(반기별로 Response_sheet의 column명을 바꿔줘야 함)"
   ]
  },
  {
   "cell_type": "code",
   "execution_count": 26,
   "metadata": {},
   "outputs": [],
   "source": [
    "# count_num = 0\n",
    "# row_i = 0\n",
    "\n",
    "# # 관리대장 파일 불러오기\n",
    "# final_workbook = openpyxl.load_workbook(\"c:/Dropbox (Ascent)/Ascent/2020/KIA/1. 모니터링\"+\"/\"+\n",
    "#                                         \"KIA 모니터링 데이터 수집 관리 대장_2020.xlsx\")\n",
    "\n",
    "# final_1_title_sheet = final_workbook['1-1. On-page Title']\n",
    "# final_1_description_sheet = final_workbook['1-1. On-page Description']\n",
    "# final_3_response_sheet = final_workbook['3. Response Codes']\n",
    "\n",
    "# for country, gather_country in zip(countrys, gather_countrys):\n",
    "    \n",
    "#     # 가공 파일 불러오기\n",
    "#     gather_1_wb = openpyxl.load_workbook(global_address+\"/\"+country+\"/\"+month_address+\"/\"+\n",
    "#                                      \"1. On-page(Title, Description).xlsx\")\n",
    "#     gather_1_ws = gather_1_wb['On-Page SEO']\n",
    "    \n",
    "#     gather_3_wb = openpyxl.load_workbook(global_address+\"/\"+country+\"/\"+month_address+\"/\"+\n",
    "#                                      \"3. Response Codes.xlsx\")\n",
    "#     gather_3_ws = gather_3_wb['피벗']\n",
    "\n",
    "#     # 데이터 삽입\n",
    "#     row_i += 1\n",
    "    \n",
    "#     if row_i == 7:\n",
    "#         row_i = 8\n",
    "#     elif row_i == 11:\n",
    "#         row_i = 12\n",
    "    \n",
    "#     final_1_title_sheet[column_address[gather_month*3-2]+str(row_i+4)] = gather_1_ws.cell(row=6, column=3).value\n",
    "#     final_1_title_sheet[column_address[gather_month*3-1]+str(row_i+4)] = gather_1_ws.cell(row=7, column=3).value\n",
    "    \n",
    "#     final_1_description_sheet[column_address[gather_month*3-2]+\n",
    "#                               str(row_i+4)] = gather_1_ws.cell(row=14, column=3).value\n",
    "#     final_1_description_sheet[column_address[gather_month*3-1]+\n",
    "#                               str(row_i+4)] = gather_1_ws.cell(row=15, column=3).value\n",
    "    \n",
    "#     final_3_response_sheet['BV'+str(row_i+6)] = gather_3_ws.cell(row=2, column=3).value\n",
    "#     final_3_response_sheet['BW'+str(row_i+6)] = gather_3_ws.cell(row=3, column=3).value\n",
    "#     final_3_response_sheet['BY'+str(row_i+6)] = gather_3_ws.cell(row=4, column=3).value\n",
    "#     final_3_response_sheet['BZ'+str(row_i+6)] = gather_3_ws.cell(row=5, column=3).value\n",
    "#     final_3_response_sheet['CA'+str(row_i+6)] = gather_3_ws.cell(row=6, column=3).value\n",
    "    \n",
    "#     # Raw 정리 파일 저장\n",
    "#     final_workbook.save(\"c:/Dropbox (Ascent)/Ascent/2020/KIA/1. 모니터링\"+\"/\"+\n",
    "#                         \"KIA 모니터링 데이터 수집 관리 대장_2020_\"+month_num+\"(반기별).xlsx\")\n",
    "    \n",
    "#     # 결과\n",
    "#     count_num += 1\n",
    "#     print(count_num,\". {} 나라의 {}, 나라별 Raw 데이터 정리 작업이 완료되었습니다.\"\n",
    "#           .format(country, month_address))"
   ]
  },
  {
   "cell_type": "code",
   "execution_count": null,
   "metadata": {},
   "outputs": [],
   "source": []
  }
 ],
 "metadata": {
  "kernelspec": {
   "display_name": "Python 3",
   "language": "python",
   "name": "python3"
  },
  "language_info": {
   "codemirror_mode": {
    "name": "ipython",
    "version": 3
   },
   "file_extension": ".py",
   "mimetype": "text/x-python",
   "name": "python",
   "nbconvert_exporter": "python",
   "pygments_lexer": "ipython3",
   "version": "3.7.3"
  }
 },
 "nbformat": 4,
 "nbformat_minor": 2
}
