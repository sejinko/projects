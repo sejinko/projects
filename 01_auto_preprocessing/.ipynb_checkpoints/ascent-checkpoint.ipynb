{
 "cells": [
  {
   "cell_type": "code",
   "execution_count": 57,
   "metadata": {},
   "outputs": [],
   "source": [
    "import numpy as np\n",
    "import pandas as pd\n",
    "import openpyxl\n",
    "from openpyxl.styles import Font, Alignment, PatternFill, Color, Border, Side\n",
    "\n",
    "import warnings\n",
    "warnings.filterwarnings('ignore')"
   ]
  },
  {
   "cell_type": "code",
   "execution_count": 2,
   "metadata": {},
   "outputs": [],
   "source": [
    "# months = [\"January\" ,\"February\" ,\"March\", \"April\", \"May\", \"June\",\n",
    "#           \"July\", \"August\", \"September\", \"October\", \"November\", \"December\"]\n",
    "\n",
    "# countrys = [\"Aruba (AW)\", \"Australia (AU)\", \"Azerbaijan (AZ)\", \"British Dominica (DM)\", \"Brunei (BN)\",\n",
    "#             \"Brunei (BN)\", \"Chile (CL)\", \"Colombia (CO)\", \"Costa Rica (CR)\", \"Ecuador (EC)\", \"Fiji (FJ)\",\n",
    "#             \"Georgia (GE)\",\"Honduras (HN)\", \"Hong Kong (HK)\", \"Indonesia (ID)\", \"Kuwait (KW)\",\n",
    "#             \"Laos (LA) Lebanon (LB)\", \"Malaysia (MY)\", \"Mauritius (MU)\", \"Mexico (MX)\",\"Mongolia (MN)\",\n",
    "#             \"Morocco (MA)\", \"Oman (OM-ar)\", \"Pakistan (PK)\", \"Panama (PA)\", \"Peru (PE)\", \"Philippines (PH)\",\n",
    "#             \"Puerto Rico (PR)\", \"Saudi Arabia (SA-ar)\", \"Singapore (SG)\", \"Sudan (SD-en)\", \"Thailand (TH)\",\n",
    "#             \"Turkey (TR)\", \"Ukraine (UA)\"]"
   ]
  },
  {
   "cell_type": "markdown",
   "metadata": {},
   "source": [
    "## 매뉴얼\n",
    "\n",
    "1. 다운받은 데이터를 각 국가 폴더에 넣어야 한다.\n",
    "2. 각 폴더 안에 On-Page SEO sheep가 있는 'On-page(Title, Description).xlsx' 파일이 있어야 한다.\n",
    "2. 다운 받을 시 utf-8로 받아야 한다.\n",
    "3. total backlinks raw 파일명을 'total_backlinks.csv' 로 변경해야 한다.\n",
    "4. new backlinks raw 파일명을 'new_backlinks.csv' 로 변경해야 한다.\n",
    "3. 매월 변경해야 하는 경로를 변경해야 한다."
   ]
  },
  {
   "cell_type": "markdown",
   "metadata": {},
   "source": [
    "## 경로 설정"
   ]
  },
  {
   "cell_type": "code",
   "execution_count": 138,
   "metadata": {},
   "outputs": [],
   "source": [
    "# 고정 경로\n",
    "countrys = [\"Mexico (MX)\",\"Mongolia (MN)\",\"Morocco (MA)\", \"Oman (OM-ar)\", \"Pakistan (PK)\", \"Panama (PA)\",\n",
    "            \"Peru (PE)\", \"Philippines (PH)\",\"Puerto Rico (PR)\", \"Saudi Arabia (SA-ar)\", \"Singapore (SG)\", \n",
    "            \"Sudan (SD-en)\", \"Thailand (TH)\",\"Turkey (TR)\", \"Ukraine (UA)\"]\n",
    "as_countrys = ['mx','mn','ma','om','pk','pa','pe','ph','pr','sa','sg','sd','th','tr','ua']\n",
    "device_bounce_aver_countrys = ['Mexico']\n",
    "device_bounce_aver_months = ['February']\n",
    "\n",
    "# 변경해야 하는 경로\n",
    "global_address = \"F:/Dropbox (Ascent)/Ascent/2020/KIA/1. 모니터링/RAW/2020 Raw\"\n",
    "month_address = \"02. February\" \n",
    "month_num = \"02월\"\n",
    "organic_traffic_xlsx = global_address+\"/\"+country+\"/\"+month_address+\"/\"+\\\n",
    "\"Organic Traffic Raw - Web - Global - Feb 29 2020.xlsx\"\n",
    "\n"
   ]
  },
  {
   "cell_type": "markdown",
   "metadata": {},
   "source": [
    "## 1. On-page(Title, Description) - Title"
   ]
  },
  {
   "cell_type": "code",
   "execution_count": 139,
   "metadata": {},
   "outputs": [
    {
     "name": "stdout",
     "output_type": "stream",
     "text": [
      "Mexico (MX) 나라의 02. February, 1. On-page(Title, Description) Title 작업이 완료되었습니다.\n",
      "Mongolia (MN) 나라의 02. February, 1. On-page(Title, Description) Title 작업이 완료되었습니다.\n",
      "Morocco (MA) 나라의 02. February, 1. On-page(Title, Description) Title 작업이 완료되었습니다.\n",
      "Oman (OM-ar) 나라의 02. February, 1. On-page(Title, Description) Title 작업이 완료되었습니다.\n",
      "Pakistan (PK) 나라의 02. February, 1. On-page(Title, Description) Title 작업이 완료되었습니다.\n",
      "Panama (PA) 나라의 02. February, 1. On-page(Title, Description) Title 작업이 완료되었습니다.\n",
      "Peru (PE) 나라의 02. February, 1. On-page(Title, Description) Title 작업이 완료되었습니다.\n",
      "Philippines (PH) 나라의 02. February, 1. On-page(Title, Description) Title 작업이 완료되었습니다.\n",
      "Puerto Rico (PR) 나라의 02. February, 1. On-page(Title, Description) Title 작업이 완료되었습니다.\n",
      "Saudi Arabia (SA-ar) 나라의 02. February, 1. On-page(Title, Description) Title 작업이 완료되었습니다.\n",
      "Singapore (SG) 나라의 02. February, 1. On-page(Title, Description) Title 작업이 완료되었습니다.\n",
      "Sudan (SD-en) 나라의 02. February, 1. On-page(Title, Description) Title 작업이 완료되었습니다.\n",
      "Thailand (TH) 나라의 02. February, 1. On-page(Title, Description) Title 작업이 완료되었습니다.\n",
      "Turkey (TR) 나라의 02. February, 1. On-page(Title, Description) Title 작업이 완료되었습니다.\n",
      "Ukraine (UA) 나라의 02. February, 1. On-page(Title, Description) Title 작업이 완료되었습니다.\n"
     ]
    }
   ],
   "source": [
    "for as_country, country in zip(as_countrys, countrys):\n",
    "    \n",
    "    # 1차 불러오기\n",
    "    title = pd.read_excel(global_address+\"/\"+country+\"/\"+month_address+\"/\"+\n",
    "                          \"page_titles_all.xlsx\", sheet_name = \"1 - All\")\n",
    "\n",
    "    # 이상 URL 제거\n",
    "    title_boolean_values = title[\"Address\"].str.contains(pat=\"www.kia.com/\"+as_country, regex=False)\n",
    "    title_false_values = title[\"Address\"][title_boolean_values == False]\n",
    "    title.drop(title_false_values.index, inplace=True)\n",
    "    \n",
    "    # Total, Missing, Duplicate, Over 65, Below 30 변수 생성\n",
    "    title_total = title['Address'].count()\n",
    "    title_missing = title[\"Title 1 Length\"][title[\"Title 1 Length\"] == 0].count()\n",
    "    title_duplicate = title[\"Title 1\"][title[\"Title 1\"].duplicated() == True].count() * 2\n",
    "    title_over = title[\"Title 1 Length\"][title[\"Title 1 Length\"]  > 65].count()\n",
    "    title_below = title[\"Title 1 Length\"][title[\"Title 1 Length\"] < 30].count() - title_missing\n",
    "\n",
    "    # 1차 저장\n",
    "    with pd.ExcelWriter(global_address+\"/\"+country+\"/\"+month_address+\"/\"+\n",
    "                        \"1. On-page(Title, Description).xlsx\",mode='a', engine='openpyxl') as writer:\n",
    "        title.to_excel(writer, sheet_name = 'Title', index=False)\n",
    "\n",
    "    # 2차 불러오기\n",
    "    title_wb = openpyxl.load_workbook(global_address+\"/\"+country+\"/\"+month_address+\"/\"+\n",
    "                                          \"1. On-page(Title, Description).xlsx\")\n",
    "    title_ws = title_wb['Title']\n",
    "    \n",
    "    # 행 삽입\n",
    "    title_ws.insert_rows(1)\n",
    "    title_ws.insert_rows(1)\n",
    "    title_ws.insert_rows(1)\n",
    "    \n",
    "    # total name, Missing name, Duplicate name, Over 156, Below 70 값 추가\n",
    "    title_ws['A1'] = 'Total'\n",
    "    title_ws['A1'].font = Font(bold=True)\n",
    "    title_ws['A2'] = title_total\n",
    "    \n",
    "    title_ws['B1'] = 'Missing'\n",
    "    title_ws['B1'].font = Font(bold=True)\n",
    "    title_ws['B2'] = title_missing\n",
    "    \n",
    "    title_ws['C1'] = 'Duplicate'\n",
    "    title_ws['C1'].font = Font(bold=True)\n",
    "    title_ws['C2'] = title_duplicate\n",
    "    \n",
    "    title_ws['D1'] = 'Over 156'\n",
    "    title_ws['D1'].font = Font(bold=True)\n",
    "    title_ws['D2'] = title_over\n",
    "    \n",
    "    title_ws['E1'] = 'Below 70'\n",
    "    title_ws['E1'].font = Font(bold=True)\n",
    "    title_ws['E2'] = title_below\n",
    "    \n",
    "    # 2차 저장\n",
    "    title_wb.save(global_address+\"/\"+country+\"/\"+month_address+\"/\"+\"1. On-page(Title, Description).xlsx\")\n",
    "    \n",
    "    print(\"{} 나라의 {}, 1. On-page(Title, Description) Title 작업이 완료되었습니다.\".format(country, month_address))"
   ]
  },
  {
   "cell_type": "markdown",
   "metadata": {},
   "source": [
    "## 1. On-page(Title, Description) - Meta Description"
   ]
  },
  {
   "cell_type": "code",
   "execution_count": 140,
   "metadata": {
    "scrolled": false
   },
   "outputs": [
    {
     "name": "stdout",
     "output_type": "stream",
     "text": [
      "Mexico (MX) 나라의 02. February, 1. On-page(Title, Description) Description 작업이 완료되었습니다.\n",
      "Mongolia (MN) 나라의 02. February, 1. On-page(Title, Description) Description 작업이 완료되었습니다.\n",
      "Morocco (MA) 나라의 02. February, 1. On-page(Title, Description) Description 작업이 완료되었습니다.\n",
      "Oman (OM-ar) 나라의 02. February, 1. On-page(Title, Description) Description 작업이 완료되었습니다.\n",
      "Pakistan (PK) 나라의 02. February, 1. On-page(Title, Description) Description 작업이 완료되었습니다.\n",
      "Panama (PA) 나라의 02. February, 1. On-page(Title, Description) Description 작업이 완료되었습니다.\n",
      "Peru (PE) 나라의 02. February, 1. On-page(Title, Description) Description 작업이 완료되었습니다.\n",
      "Philippines (PH) 나라의 02. February, 1. On-page(Title, Description) Description 작업이 완료되었습니다.\n",
      "Puerto Rico (PR) 나라의 02. February, 1. On-page(Title, Description) Description 작업이 완료되었습니다.\n",
      "Saudi Arabia (SA-ar) 나라의 02. February, 1. On-page(Title, Description) Description 작업이 완료되었습니다.\n",
      "Singapore (SG) 나라의 02. February, 1. On-page(Title, Description) Description 작업이 완료되었습니다.\n",
      "Sudan (SD-en) 나라의 02. February, 1. On-page(Title, Description) Description 작업이 완료되었습니다.\n",
      "Thailand (TH) 나라의 02. February, 1. On-page(Title, Description) Description 작업이 완료되었습니다.\n",
      "Turkey (TR) 나라의 02. February, 1. On-page(Title, Description) Description 작업이 완료되었습니다.\n",
      "Ukraine (UA) 나라의 02. February, 1. On-page(Title, Description) Description 작업이 완료되었습니다.\n"
     ]
    }
   ],
   "source": [
    "for country in countrys:\n",
    "    \n",
    "    # 1차 불러오기\n",
    "    meta = pd.read_excel(global_address+\"/\"+country+\"/\"+month_address+\"/\"+\"meta_description_all.xlsx\",\n",
    "                         sheet_name = \"1 - All\")\n",
    "\n",
    "    # 이상 URL 제거\n",
    "    meta_boolean_values = meta[\"Address\"].str.contains(pat=\"www.kia.com/\"+as_country, regex=False)\n",
    "    meta_false_values = meta[\"Address\"][meta_boolean_values == False]\n",
    "    meta.drop(index = meta_false_values.index, inplace=True)\n",
    "\n",
    "    # Total, Missing, Duplicate, Over 156, Below70 변수 생성\n",
    "    meta_total = title['Address'].count()\n",
    "    meta_missing = meta[\"Meta Description 1 Length\"][meta[\"Meta Description 1 Length\"] == 0].count()\n",
    "    meta_duplicate = meta[\"Meta Description 1\"][meta[\"Meta Description 1\"].duplicated() == True].count() * 2\n",
    "    meta_over = meta[\"Meta Description 1 Length\"][meta[\"Meta Description 1 Length\"]  > 156].count()\n",
    "    meta_below = meta[\"Meta Description 1 Length\"][meta[\"Meta Description 1 Length\"] < 70].count() - meta_missing\n",
    "\n",
    "    # 1차 저장\n",
    "    with pd.ExcelWriter(global_address+\"/\"+country+\"/\"+month_address+\"/\"+\n",
    "                        \"1. On-page(Title, Description).xlsx\",mode='a', engine='openpyxl') as writer:\n",
    "        meta.to_excel(writer, sheet_name = 'Meta', index=False)\n",
    "\n",
    "    # 2차 불러오기\n",
    "    meta_wb = openpyxl.load_workbook(global_address+\"/\"+country+\"/\"+month_address+\"/\"+\n",
    "                                          \"1. On-page(Title, Description).xlsx\")\n",
    "    meta_ws = meta_wb['Meta']\n",
    "    \n",
    "    # 행 삽입\n",
    "    meta_ws.insert_rows(1)\n",
    "    meta_ws.insert_rows(1)\n",
    "    meta_ws.insert_rows(1)\n",
    "    \n",
    "    # total name, Missing name, Duplicate name, Over 156, Below 70 값 추가\n",
    "    meta_ws['A1'] = 'Total'\n",
    "    meta_ws['A1'].font = Font(bold=True)\n",
    "    meta_ws['A2'] = meta_total\n",
    "    \n",
    "    meta_ws['B1'] = 'Missing'\n",
    "    meta_ws['B1'].font = Font(bold=True)\n",
    "    meta_ws['B2'] = meta_missing\n",
    "    \n",
    "    meta_ws['C1'] = 'Duplicate'\n",
    "    meta_ws['C1'].font = Font(bold=True)\n",
    "    meta_ws['C2'] = meta_duplicate\n",
    "    \n",
    "    meta_ws['D1'] = 'Over 156'\n",
    "    meta_ws['D1'].font = Font(bold=True)\n",
    "    meta_ws['D2'] = meta_over\n",
    "    \n",
    "    meta_ws['E1'] = 'Below 70'\n",
    "    meta_ws['E1'].font = Font(bold=True)\n",
    "    meta_ws['E2'] = meta_below\n",
    "    \n",
    "    # 2차 저장\n",
    "    meta_wb.save(global_address+\"/\"+country+\"/\"+month_address+\"/\"+\"1. On-page(Title, Description).xlsx\")\n",
    "    \n",
    "    \n",
    "    print(\"{} 나라의 {}, 1. On-page(Title, Description) Description 작업이 완료되었습니다.\"\n",
    "          .format(country, month_address))"
   ]
  },
  {
   "cell_type": "markdown",
   "metadata": {},
   "source": [
    "## 1. On-page(Title, Description) - Summary"
   ]
  },
  {
   "cell_type": "code",
   "execution_count": 141,
   "metadata": {},
   "outputs": [
    {
     "name": "stdout",
     "output_type": "stream",
     "text": [
      "Mexico (MX) 나라의 02. February, 1. On-page(Title, Description) On-Page SEO 작업이 완료되었습니다.\n",
      "Mongolia (MN) 나라의 02. February, 1. On-page(Title, Description) On-Page SEO 작업이 완료되었습니다.\n",
      "Morocco (MA) 나라의 02. February, 1. On-page(Title, Description) On-Page SEO 작업이 완료되었습니다.\n",
      "Oman (OM-ar) 나라의 02. February, 1. On-page(Title, Description) On-Page SEO 작업이 완료되었습니다.\n",
      "Pakistan (PK) 나라의 02. February, 1. On-page(Title, Description) On-Page SEO 작업이 완료되었습니다.\n",
      "Panama (PA) 나라의 02. February, 1. On-page(Title, Description) On-Page SEO 작업이 완료되었습니다.\n",
      "Peru (PE) 나라의 02. February, 1. On-page(Title, Description) On-Page SEO 작업이 완료되었습니다.\n",
      "Philippines (PH) 나라의 02. February, 1. On-page(Title, Description) On-Page SEO 작업이 완료되었습니다.\n",
      "Puerto Rico (PR) 나라의 02. February, 1. On-page(Title, Description) On-Page SEO 작업이 완료되었습니다.\n",
      "Saudi Arabia (SA-ar) 나라의 02. February, 1. On-page(Title, Description) On-Page SEO 작업이 완료되었습니다.\n",
      "Singapore (SG) 나라의 02. February, 1. On-page(Title, Description) On-Page SEO 작업이 완료되었습니다.\n",
      "Sudan (SD-en) 나라의 02. February, 1. On-page(Title, Description) On-Page SEO 작업이 완료되었습니다.\n",
      "Thailand (TH) 나라의 02. February, 1. On-page(Title, Description) On-Page SEO 작업이 완료되었습니다.\n",
      "Turkey (TR) 나라의 02. February, 1. On-page(Title, Description) On-Page SEO 작업이 완료되었습니다.\n",
      "Ukraine (UA) 나라의 02. February, 1. On-page(Title, Description) On-Page SEO 작업이 완료되었습니다.\n"
     ]
    }
   ],
   "source": [
    "for country in countrys:\n",
    "    # 불러오기\n",
    "    onpage_wb = openpyxl.load_workbook(global_address+\"/\"+country+\"/\"+month_address+\"/\"+\n",
    "                                       \"1. On-page(Title, Description).xlsx\")\n",
    "    onpage_ws = onpage_wb['On-Page SEO']\n",
    "    title_ws = onpage_wb['Title']\n",
    "    meta_ws = onpage_wb['Meta']\n",
    "    \n",
    "    # 도표 채우기\n",
    "    onpage_ws['B2'] = country\n",
    "    onpage_ws['B2'].font = Font(size=14, bold=True)\n",
    "    \n",
    "    onpage_ws['C6'] = title_ws.cell(row=2, column=1).value\n",
    "    onpage_ws['C7'] = title_ws.cell(row=2, column=2).value\n",
    "    onpage_ws['C8'] = title_ws.cell(row=2, column=3).value\n",
    "    onpage_ws['C9'] = title_ws.cell(row=2, column=4).value\n",
    "    onpage_ws['C10'] = title_ws.cell(row=2, column=5).value\n",
    "    \n",
    "    onpage_ws['C14'] = meta_ws.cell(row=2, column=1).value\n",
    "    onpage_ws['C15'] = meta_ws.cell(row=2, column=2).value\n",
    "    onpage_ws['C16'] = meta_ws.cell(row=2, column=3).value\n",
    "    onpage_ws['C17'] = meta_ws.cell(row=2, column=4).value\n",
    "    onpage_ws['C18'] = meta_ws.cell(row=2, column=5).value\n",
    "    \n",
    "    # 저장\n",
    "    onpage_wb.save(global_address+\"/\"+country+\"/\"+month_address+\"/\"+\"1. On-page(Title, Description).xlsx\")\n",
    "    \n",
    "    print(\"{} 나라의 {}, 1. On-page(Title, Description) On-Page SEO 작업이 완료되었습니다.\"\n",
    "          .format(country, month_address))"
   ]
  },
  {
   "cell_type": "markdown",
   "metadata": {},
   "source": [
    "## 2. Off-page(Total Backlinks)"
   ]
  },
  {
   "cell_type": "code",
   "execution_count": 142,
   "metadata": {
    "scrolled": true
   },
   "outputs": [
    {
     "name": "stdout",
     "output_type": "stream",
     "text": [
      "Mexico (MX) 나라의 02. February, 2. Off-page(Total Backlinks) 작업이 완료되었습니다.\n",
      "Mongolia (MN) 나라의 02. February, 2. Off-page(Total Backlinks) 작업이 완료되었습니다.\n",
      "Morocco (MA) 나라의 02. February, 2. Off-page(Total Backlinks) 작업이 완료되었습니다.\n",
      "Oman (OM-ar) 나라의 02. February, 2. Off-page(Total Backlinks) 작업이 완료되었습니다.\n",
      "Pakistan (PK) 나라의 02. February, 2. Off-page(Total Backlinks) 작업이 완료되었습니다.\n",
      "Panama (PA) 나라의 02. February, 2. Off-page(Total Backlinks) 작업이 완료되었습니다.\n"
     ]
    },
    {
     "name": "stderr",
     "output_type": "stream",
     "text": [
      "C:\\Users\\sejin\\Anaconda3\\lib\\site-packages\\xlsxwriter\\worksheet.py:915: UserWarning: Ignoring URL 'https://yalosabes.pe/web/indecopi-old/noticias/-/asset_publisher/E4hIS8IHZWs9/content/kia-import-peru-s-a-realizara-revision-preventiva-de-automoviles-correspondiente-a-los-modelos-cerato-y-soul?inheritRedirect=false&redirect=https://yalosabes.pe/web/indecopi-old/noticias?p_p_id=101_INSTANCE_E4hIS8IHZWs9&p_p_lifecycle=0&p_p_state=normal&p_p_mode=view&p_p_col_id=column-3&p_p_col_count=1&_101_INSTANCE_E4hIS8IHZWs9_cur=157&_101_INSTANCE_E4hIS8IHZWs9_keywords=&_101_INSTANCE_E4hIS8IHZWs9_advancedSearch=false&_101_INSTANCE_E4hIS8IHZWs9_delta=10&p_r_p_564233524_resetCur=false&_101_INSTANCE_E4hIS8IHZWs9_andOperator=true' with link or location/anchor > 255 characters since it exceeds Excel's limit for URLS\n",
      "  force_unicode(url))\n",
      "C:\\Users\\sejin\\Anaconda3\\lib\\site-packages\\xlsxwriter\\worksheet.py:915: UserWarning: Ignoring URL 'https://www.checalaetiqueta.gob.pe/web/indecopi-old/noticias/-/asset_publisher/E4hIS8IHZWs9/content/kia-import-peru-s-a-realizara-revision-preventiva-de-automoviles-correspondiente-a-los-modelos-cerato-y-soul?inheritRedirect=false&redirect=https://www.checalaetiqueta.gob.pe/web/indecopi-old/noticias?p_p_id=101_INSTANCE_E4hIS8IHZWs9&p_p_lifecycle=0&p_p_state=normal&p_p_mode=view&p_p_col_id=column-3&p_p_col_count=1&_101_INSTANCE_E4hIS8IHZWs9_cur=157&_101_INSTANCE_E4hIS8IHZWs9_keywords=&_101_INSTANCE_E4hIS8IHZWs9_advancedSearch=false&_101_INSTANCE_E4hIS8IHZWs9_delta=10&p_r_p_564233524_resetCur=false&_101_INSTANCE_E4hIS8IHZWs9_andOperator=true' with link or location/anchor > 255 characters since it exceeds Excel's limit for URLS\n",
      "  force_unicode(url))\n",
      "C:\\Users\\sejin\\Anaconda3\\lib\\site-packages\\xlsxwriter\\worksheet.py:915: UserWarning: Ignoring URL 'https://www.patenta.gob.pe/web/indecopi-old/noticias/-/asset_publisher/E4hIS8IHZWs9/content/kia-import-peru-s-a-realizara-revision-preventiva-de-automoviles-correspondiente-a-los-modelos-cerato-y-soul?inheritRedirect=false&redirect=https://www.patenta.gob.pe/web/indecopi-old/noticias?p_p_id=101_INSTANCE_E4hIS8IHZWs9&p_p_lifecycle=0&p_p_state=normal&p_p_mode=view&p_p_col_id=column-3&p_p_col_count=1&_101_INSTANCE_E4hIS8IHZWs9_cur=157&_101_INSTANCE_E4hIS8IHZWs9_keywords=&_101_INSTANCE_E4hIS8IHZWs9_advancedSearch=false&_101_INSTANCE_E4hIS8IHZWs9_delta=10&p_r_p_564233524_resetCur=false&_101_INSTANCE_E4hIS8IHZWs9_andOperator=true' with link or location/anchor > 255 characters since it exceeds Excel's limit for URLS\n",
      "  force_unicode(url))\n"
     ]
    },
    {
     "name": "stdout",
     "output_type": "stream",
     "text": [
      "Peru (PE) 나라의 02. February, 2. Off-page(Total Backlinks) 작업이 완료되었습니다.\n",
      "Philippines (PH) 나라의 02. February, 2. Off-page(Total Backlinks) 작업이 완료되었습니다.\n",
      "Puerto Rico (PR) 나라의 02. February, 2. Off-page(Total Backlinks) 작업이 완료되었습니다.\n",
      "Saudi Arabia (SA-ar) 나라의 02. February, 2. Off-page(Total Backlinks) 작업이 완료되었습니다.\n",
      "Singapore (SG) 나라의 02. February, 2. Off-page(Total Backlinks) 작업이 완료되었습니다.\n",
      "Sudan (SD-en) 나라의 02. February, 2. Off-page(Total Backlinks) 작업이 완료되었습니다.\n",
      "Thailand (TH) 나라의 02. February, 2. Off-page(Total Backlinks) 작업이 완료되었습니다.\n",
      "Turkey (TR) 나라의 02. February, 2. Off-page(Total Backlinks) 작업이 완료되었습니다.\n",
      "Ukraine (UA) 나라의 02. February, 2. Off-page(Total Backlinks) 작업이 완료되었습니다.\n"
     ]
    }
   ],
   "source": [
    "for country in countrys:\n",
    "    # 1차 불러오기(utf-16은 인코딩이 안됨)\n",
    "    total_backlinks = pd.read_csv(global_address+\"/\"+country+\"/\"+month_address+\"/\"+\n",
    "                                  \"total_backlinks.csv\" , encoding='utf-8')\n",
    "\n",
    "    # total 합계 변수 생성\n",
    "    total_backlinks_sum = total_backlinks['Total Backlinks'].sum()\n",
    "\n",
    "    # 출력\n",
    "    total_backlinks.to_excel(global_address+\"/\"+country+\"/\"+month_address+\"/\"+\n",
    "                             \"2. Off-page(Total Backlinks).xlsx\", sheet_name = 'Off-page(Total Backlinks)', index=False)\n",
    "    \n",
    "    # 2차 불러오기\n",
    "    total_backlinks_wb = openpyxl.load_workbook(global_address+\"/\"+country+\"/\"+month_address+\"/\"+\n",
    "                                          \"2. Off-page(Total Backlinks).xlsx\")\n",
    "    total_backlinks_ws = total_backlinks_wb['Off-page(Total Backlinks)']\n",
    "    \n",
    "    # 행 삽입\n",
    "    total_backlinks_ws.insert_rows(1)\n",
    "    total_backlinks_ws.insert_rows(1)\n",
    "    total_backlinks_ws.insert_rows(1)\n",
    "    \n",
    "    # total name, 값 추가\n",
    "    total_backlinks_ws['A1'] = 'Total'\n",
    "    total_backlinks_ws['A1'].font = Font(bold=True)\n",
    "    total_backlinks_ws['A2'] = total_backlinks_sum\n",
    "    \n",
    "    # 저장\n",
    "    total_backlinks_wb.save(global_address+\"/\"+country+\"/\"+month_address+\"/\"+\"2. Off-page(Total Backlinks).xlsx\")\n",
    "    \n",
    "    print(\"{} 나라의 {}, 2. Off-page(Total Backlinks) 작업이 완료되었습니다.\".format(country, month_address))\n"
   ]
  },
  {
   "cell_type": "markdown",
   "metadata": {},
   "source": [
    "## 2-1. Off-page(New Backlinks)"
   ]
  },
  {
   "cell_type": "code",
   "execution_count": 26,
   "metadata": {},
   "outputs": [
    {
     "name": "stdout",
     "output_type": "stream",
     "text": [
      "Mexico (MX) 나라의 02. February, 2. Off-page(New Backlinks) 작업이 완료되었습니다.\n"
     ]
    }
   ],
   "source": [
    "for country in countrys:\n",
    "    # 1차 불러오기(utf-16은 인코딩이 안됨)\n",
    "    new_backlinks = pd.read_csv(global_address+\"/\"+country+\"/\"+month_address+\"/\"+\n",
    "                                \"new_backlinks.csv\" , encoding='utf-8') \n",
    "\n",
    "    # total 합계 변수 생성\n",
    "    new_backlinks_sum = new_backlinks['Total Backlinks'].sum()\n",
    "    \n",
    "    # 1차 저장\n",
    "    new_backlinks.to_excel(global_address+\"/\"+country+\"/\"+month_address+\"/\"+\"2-1. Off-page(New Backlinks).xlsx\",\n",
    "                           sheet_name = '2-1. Off-page(New Backlinks)', index=False)\n",
    "    # 2차 불러오기\n",
    "    new_backlinks_wb = openpyxl.load_workbook(global_address+\"/\"+country+\"/\"+month_address+\"/\"+\n",
    "                                              \"2-1. Off-page(New Backlinks).xlsx\")\n",
    "    new_backlinks_ws = new_backlinks_wb['2-1. Off-page(New Backlinks)']\n",
    "    \n",
    "    # 행 삽입\n",
    "    new_backlinks_ws.insert_rows(1)\n",
    "    new_backlinks_ws.insert_rows(1)\n",
    "    new_backlinks_ws.insert_rows(1)\n",
    "    \n",
    "    # total name, 값 추가\n",
    "    new_backlinks_ws['A1'] = 'Total'\n",
    "    new_backlinks_ws['A1'].font = Font(bold=True)\n",
    "    new_backlinks_ws['A2'] = new_backlinks_sum\n",
    "    \n",
    "    # 2차 저장\n",
    "    new_backlinks_wb.save(global_address+\"/\"+country+\"/\"+month_address+\"/\"+\"2-1. Off-page(New Backlinks).xlsx\")\n",
    "    \n",
    "    \n",
    "    print(\"{} 나라의 {}, 2. Off-page(New Backlinks) 작업이 완료되었습니다.\".format(country, month_address))"
   ]
  },
  {
   "cell_type": "markdown",
   "metadata": {},
   "source": [
    "## 3. Response Codes"
   ]
  },
  {
   "cell_type": "code",
   "execution_count": 143,
   "metadata": {},
   "outputs": [
    {
     "name": "stdout",
     "output_type": "stream",
     "text": [
      "Mexico (MX) 나라의 02. February, 3. Response Codes 작업이 완료되었습니다.\n",
      "Mongolia (MN) 나라의 02. February, 3. Response Codes 작업이 완료되었습니다.\n",
      "Morocco (MA) 나라의 02. February, 3. Response Codes 작업이 완료되었습니다.\n",
      "Oman (OM-ar) 나라의 02. February, 3. Response Codes 작업이 완료되었습니다.\n",
      "Pakistan (PK) 나라의 02. February, 3. Response Codes 작업이 완료되었습니다.\n",
      "Panama (PA) 나라의 02. February, 3. Response Codes 작업이 완료되었습니다.\n",
      "Peru (PE) 나라의 02. February, 3. Response Codes 작업이 완료되었습니다.\n",
      "Philippines (PH) 나라의 02. February, 3. Response Codes 작업이 완료되었습니다.\n",
      "Puerto Rico (PR) 나라의 02. February, 3. Response Codes 작업이 완료되었습니다.\n",
      "Saudi Arabia (SA-ar) 나라의 02. February, 3. Response Codes 작업이 완료되었습니다.\n",
      "Singapore (SG) 나라의 02. February, 3. Response Codes 작업이 완료되었습니다.\n",
      "Sudan (SD-en) 나라의 02. February, 3. Response Codes 작업이 완료되었습니다.\n",
      "Thailand (TH) 나라의 02. February, 3. Response Codes 작업이 완료되었습니다.\n",
      "Turkey (TR) 나라의 02. February, 3. Response Codes 작업이 완료되었습니다.\n",
      "Ukraine (UA) 나라의 02. February, 3. Response Codes 작업이 완료되었습니다.\n"
     ]
    }
   ],
   "source": [
    "for country in countrys:\n",
    "    # Response Codes 불러오기\n",
    "    response = pd.read_excel(global_address+\"/\"+country+\"/\"+month_address+\"/\"+\"response_codes_all.xlsx\", \n",
    "                             sheet_name = '1 - All')\n",
    "\n",
    "    # 이상 URL 제거\n",
    "    response_boolean_values = response['Address'].str.contains(pat=\"www.kia.com/\"+as_country, regex=False)\n",
    "    response_false_values = response['Address'][response_boolean_values == False]\n",
    "    response.drop(index = response_false_values.index, inplace=True)\n",
    "\n",
    "    # 피벗 변수 생성 및 저장\n",
    "    response_pivot = response[['Status Code', 'Status', 'Address']].groupby(['Status Code', 'Status']).count()\n",
    "    response_pivot.to_excel(global_address+\"/\"+country+\"/\"+month_address+\"/\"+\n",
    "                            \"3. Response Codes.xlsx\", sheet_name = 'Pivot')\n",
    "\n",
    "    # Response Codes 저장\n",
    "    with pd.ExcelWriter(global_address+\"/\"+country+\"/\"+month_address+\"/\"+\n",
    "                        \"3. Response Codes.xlsx\", mode='a', engine='openpyxl') as writer:\n",
    "        response.to_excel(writer, sheet_name = 'Response Codes', index=False)\n",
    "\n",
    "    # all_inlinks 불러오고 저장\n",
    "    all_inlinks = pd.read_excel(global_address+\"/\"+country+\"/\"+month_address+\"/\"+\"all_inlinks.xlsx\", \n",
    "                                sheet_name = '1 - All Inlinks')\n",
    "\n",
    "    with pd.ExcelWriter(global_address+\"/\"+country+\"/\"+month_address+\"/\"+\n",
    "                        \"3. Response Codes.xlsx\", mode='a', engine='openpyxl') as writer:\n",
    "        all_inlinks.to_excel(writer, sheet_name = '1 - All Inlinks', index=False)\n",
    "        \n",
    "    # 피벗 테이블 불러오기\n",
    "    response_wb = openpyxl.load_workbook(global_address+\"/\"+country+\"/\"+month_address+\"/\"+\n",
    "                                         \"3. Response Codes.xlsx\")\n",
    "    response_ws = response_wb['Pivot']\n",
    "    \n",
    "    # 피벗 셀 너비 설정\n",
    "    response_ws.column_dimensions['A'].width = 12.00\n",
    "    response_ws.column_dimensions['B'].width = 19.00\n",
    "    response_ws.column_dimensions['C'].width = 8.00\n",
    "    \n",
    "    \n",
    "    # 피벗 셀 테두리 설정\n",
    "    border_box = Border(left = Side(border_style='thin', color='FF000000'), \n",
    "                        right = Side(border_style='thin', color='FF000000'), \n",
    "                        top = Side(border_style='thin', color='FF000000'), \n",
    "                        bottom = Side(border_style='thin', color='FF000000'),\n",
    "                        diagonal = Side(border_style='thin', color='FF000000'),\n",
    "                        diagonal_direction=0,\n",
    "                        outline = Side(border_style='thin', color='FF000000'),\n",
    "                        vertical = Side(border_style='thin', color='FF000000'),\n",
    "                        horizontal = Side(border_style='thin', color='FF000000'))\n",
    "    \n",
    "    response_ws['C2'].border = border_box\n",
    "    response_ws['C3'].border = border_box\n",
    "    response_ws['C4'].border = border_box\n",
    "    response_ws['C5'].border = border_box\n",
    "    response_ws['C6'].border = border_box\n",
    "    \n",
    "    # 피벗 테이블 저장\n",
    "    response_wb.save(global_address+\"/\"+country+\"/\"+month_address+\"/\"+\"3. Response Codes.xlsx\")\n",
    "    \n",
    "    # 결과\n",
    "    print(\"{} 나라의 {}, 3. Response Codes 작업이 완료되었습니다.\".format(country, month_address))"
   ]
  },
  {
   "cell_type": "markdown",
   "metadata": {},
   "source": [
    "## 4. Index HTTPS"
   ]
  },
  {
   "cell_type": "markdown",
   "metadata": {},
   "source": [
    "## 5. Organic traffic(preprocessing 1)"
   ]
  },
  {
   "cell_type": "code",
   "execution_count": 133,
   "metadata": {},
   "outputs": [
    {
     "name": "stdout",
     "output_type": "stream",
     "text": [
      "02. February, Organic Traffic Raw 1차 전처리 작업이 완료되었습니다.\n"
     ]
    }
   ],
   "source": [
    "for country in countrys:\n",
    "    # 불러오기\n",
    "    organic_traffic_wb = openpyxl.load_workbook(organic_traffic_xlsx)\n",
    "    organic_traffic_ws = organic_traffic_wb['Organic Traffic Raw - Web - Glo']\n",
    "    \n",
    "    # 행 삭제\n",
    "    for i in range(8):\n",
    "        organic_traffic_ws.delete_rows(114)\n",
    "    for i in range(13):\n",
    "        organic_traffic_ws.delete_rows(1)\n",
    "    \n",
    "    # 컬럼명 만들기\n",
    "    organic_traffic_ws['C1'] = 'Visits'\n",
    "    organic_traffic_ws['D1'] = 'Search Engines'\n",
    "    organic_traffic_ws['E1'] = '[ibank]Paid Marketing_New'\n",
    "    organic_traffic_ws['F1'] = '[ibank]Non-Paid Marketing_New'\n",
    "\n",
    "    # 저장\n",
    "    organic_traffic_wb.save(global_address+\"/\"+country+\"/\"+month_address+\"/\"+\n",
    "                            \"Organic Traffic Raw_\"+month_num+\".xlsx\")\n",
    "    \n",
    "    # 결과\n",
    "    print(\"{}, Organic Traffic Raw 1차 전처리 작업이 완료되었습니다.\".format(month_address))"
   ]
  },
  {
   "cell_type": "markdown",
   "metadata": {},
   "source": [
    "## 5. Organic traffic(preprocessing 2)"
   ]
  },
  {
   "cell_type": "code",
   "execution_count": 134,
   "metadata": {},
   "outputs": [
    {
     "name": "stdout",
     "output_type": "stream",
     "text": [
      "02. February, Organic Traffic Raw 2차 전처리 작업이 완료되었습니다.\n"
     ]
    }
   ],
   "source": [
    "for country in countrys:\n",
    "    # 불러오기\n",
    "    organic_traffic_pre = pd.read_excel(global_address+\"/\"+country+\"/\"+month_address+\"/\"+\n",
    "                                        \"Organic Traffic Raw_\"+month_num+\".xlsx\")\n",
    "\n",
    "    # Country code 대문자 변환\n",
    "    organic_traffic_pre['Country code'] = organic_traffic_pre['Country code'].str.upper()\n",
    "\n",
    "    # B2 열 공백 행 삭제\n",
    "    null_index = organic_traffic_pre['Unnamed: 1'][organic_traffic_pre['Unnamed: 1'].isnull() == True].index\n",
    "    organic_traffic_pre.drop(index=null_index, inplace=True)\n",
    "\n",
    "    # 출력\n",
    "    organic_traffic_pre.to_excel(global_address+\"/\"+country+\"/\"+month_address+\"/\"+\n",
    "                                 \"Organic Traffic Raw_\"+month_num+\".xlsx\", index=False)\n",
    "    \n",
    "    # 결과\n",
    "    print(\"{}, Organic Traffic Raw 2차 전처리 작업이 완료되었습니다.\".format(month_address))"
   ]
  },
  {
   "cell_type": "markdown",
   "metadata": {},
   "source": [
    "## 5. Organic traffic(separate)"
   ]
  },
  {
   "cell_type": "code",
   "execution_count": 136,
   "metadata": {},
   "outputs": [
    {
     "name": "stdout",
     "output_type": "stream",
     "text": [
      "02. February, Mexico (MX) 빈 값 excel 파일 뿌리기 작업이 완료되었습니다.\n"
     ]
    }
   ],
   "source": [
    "ws_row = 1\n",
    "\n",
    "for country in countrys:\n",
    "    # 불러오기\n",
    "    organic_sep_wb = openpyxl.load_workbook(global_address+\"/\"+country+\"/\"+month_address+\"/\"+\n",
    "                                \"Organic Traffic Raw_\"+month_num+\".xlsx\")\n",
    "    organic_sep_ws = organic_sep_wb['Sheet1']\n",
    "\n",
    "    # sheet 이름 변경\n",
    "    organic_sep_ws.title = 'Organic Traffic Raw_'+month_num\n",
    "    \n",
    "    # sheet 생성\n",
    "    organic_sheet = organic_sep_wb.create_sheet('Organic Traffic')\n",
    "\n",
    "    # sheet 내용 작성\n",
    "    organic_sheet['B2'] = 'Country code'\n",
    "    organic_sheet['C2'] = 'Month'\n",
    "    organic_sheet['D2'] = 'Visits'\n",
    "    organic_sheet['E2'] = 'Search Engines Visits Total'\n",
    "    organic_sheet['F2'] = 'Paid Search Engines'\n",
    "    organic_sheet['G2'] = 'Organic Search Engines'\n",
    "\n",
    "    ws_row = ws_row + 2\n",
    "\n",
    "    organic_sheet['B3'] = organic_sep_ws.cell(row=ws_row, column=1).value\n",
    "    organic_sheet['C3'] = str(organic_sep_ws.cell(row=ws_row, column=2).value)[0:7]\n",
    "    organic_sheet['D3'] = organic_sep_ws.cell(row=ws_row, column=3).value\n",
    "    organic_sheet['E3'] = organic_sep_ws.cell(row=ws_row, column=4).value\n",
    "    organic_sheet['F3'] = organic_sep_ws.cell(row=ws_row, column=5).value\n",
    "    organic_sheet['G3'] = organic_sep_ws.cell(row=ws_row, column=6).value\n",
    "\n",
    "    # Organic Traffic Raw_00월 sheet 삭제\n",
    "    organic_sep_wb.remove(organic_sep_wb['Organic Traffic Raw_'+month_num])\n",
    "    \n",
    "    # 셀 색 채우기 \n",
    "    organic_sheet['B2'].fill = PatternFill(patternType='solid', fgColor=Color('FFC000'))\n",
    "    organic_sheet['C2'].fill = PatternFill(patternType='solid', fgColor=Color('FFC000'))\n",
    "    organic_sheet['D2'].fill = PatternFill(patternType='solid', fgColor=Color('FFC000'))\n",
    "    organic_sheet['E2'].fill = PatternFill(patternType='solid', fgColor=Color('FFC000'))\n",
    "    organic_sheet['F2'].fill = PatternFill(patternType='solid', fgColor=Color('FFC000'))\n",
    "    organic_sheet['G2'].fill = PatternFill(patternType='solid', fgColor=Color('FFC000'))\n",
    "    \n",
    "    # 글자 진하게\n",
    "    organic_sheet['B2'].font = Font(bold=True)\n",
    "    organic_sheet['C2'].font = Font(bold=True)\n",
    "    organic_sheet['D2'].font = Font(bold=True)\n",
    "    organic_sheet['E2'].font = Font(bold=True)\n",
    "    organic_sheet['F2'].font = Font(bold=True)\n",
    "    organic_sheet['G2'].font = Font(bold=True)\n",
    "    \n",
    "    # 셀 너비 조정\n",
    "    organic_sheet.column_dimensions['B'].width = 13.00\n",
    "    organic_sheet.column_dimensions['C'].width = 17.20\n",
    "    organic_sheet.column_dimensions['D'].width = 15.00\n",
    "    organic_sheet.column_dimensions['E'].width = 25.30\n",
    "    organic_sheet.column_dimensions['F'].width = 19.00\n",
    "    organic_sheet.column_dimensions['G'].width = 22.30\n",
    "    \n",
    "    # 가운데 정렬\n",
    "    organic_sheet['B2'].alignment = Alignment(horizontal='center', vertical='center')\n",
    "    organic_sheet['C2'].alignment = Alignment(horizontal='center', vertical='center')\n",
    "    organic_sheet['D2'].alignment = Alignment(horizontal='center', vertical='center')\n",
    "    organic_sheet['E2'].alignment = Alignment(horizontal='center', vertical='center')\n",
    "    organic_sheet['F2'].alignment = Alignment(horizontal='center', vertical='center')\n",
    "    organic_sheet['G2'].alignment = Alignment(horizontal='center', vertical='center')\n",
    "    \n",
    "    organic_sheet['B3'].alignment = Alignment(horizontal='center', vertical='center')\n",
    "    organic_sheet['C3'].alignment = Alignment(horizontal='center', vertical='center')\n",
    "    organic_sheet['D3'].alignment = Alignment(horizontal='center', vertical='center')\n",
    "    organic_sheet['E3'].alignment = Alignment(horizontal='center', vertical='center')\n",
    "    organic_sheet['F3'].alignment = Alignment(horizontal='center', vertical='center')\n",
    "    organic_sheet['G3'].alignment = Alignment(horizontal='center', vertical='center')\n",
    "    \n",
    "    # 셀 테두리 설정\n",
    "    border_box = Border(left = Side(border_style='thin', color='FF000000'), \n",
    "                        right = Side(border_style='thin', color='FF000000'), \n",
    "                        top = Side(border_style='thin', color='FF000000'), \n",
    "                        bottom = Side(border_style='thin', color='FF000000'),\n",
    "                        diagonal = Side(border_style='thin', color='FF000000'),\n",
    "                        diagonal_direction=0,\n",
    "                        outline = Side(border_style='thin', color='FF000000'),\n",
    "                        vertical = Side(border_style='thin', color='FF000000'),\n",
    "                        horizontal = Side(border_style='thin', color='FF000000'))\n",
    "    \n",
    "    organic_sheet['B2'].border = border_box\n",
    "    organic_sheet['C2'].border = border_box\n",
    "    organic_sheet['D2'].border = border_box\n",
    "    organic_sheet['E2'].border = border_box\n",
    "    organic_sheet['F2'].border = border_box\n",
    "    organic_sheet['G2'].border = border_box\n",
    "    \n",
    "    organic_sheet['B3'].border = border_box\n",
    "    organic_sheet['C3'].border = border_box\n",
    "    organic_sheet['D3'].border = border_box\n",
    "    organic_sheet['E3'].border = border_box\n",
    "    organic_sheet['F3'].border = border_box\n",
    "    organic_sheet['G3'].border = border_box\n",
    "    \n",
    "    # 저장\n",
    "    organic_sep_wb.save(global_address+\"/\"+country+\"/\"+month_address+\"/\"+\"5. Organic Traffic.xlsx\")\n",
    "\n",
    "    # 결과\n",
    "    print(\"{}, {} 빈 값 excel 파일 뿌리기 작업이 완료되었습니다.\".format(month_address, country))"
   ]
  },
  {
   "cell_type": "markdown",
   "metadata": {},
   "source": [
    "## 6. Device Channel Traffic"
   ]
  },
  {
   "cell_type": "code",
   "execution_count": 128,
   "metadata": {},
   "outputs": [
    {
     "name": "stdout",
     "output_type": "stream",
     "text": [
      "Mexico (MX) 나라의 02. February, 6. Device Channel Traffic 작업이 완료되었습니다.\n"
     ]
    }
   ],
   "source": [
    "for country, device_bounce_aver_country, device_bounce_aver_month in zip(countrys, device_bounce_aver_countrys, device_bounce_aver_months):\n",
    "    \n",
    "    # 불러오기 (xls를 어떻게 불러와서 xlsx로 바꿀지 생각해야 함)\n",
    "    device_wb = openpyxl.load_workbook(global_address+\"/\"+country+\"/\"+month_address+\"/\"+\n",
    "                                       \"Device Type Report for Web - \"+device_bounce_aver_country+\n",
    "                                       \" - \"+device_bounce_aver_month+\" 2020.xlsx\")\n",
    "    device_ws = device_wb['Worksheet']\n",
    "\n",
    "    # sheet 내용 작성\n",
    "    device_ws['F18'] = 'mobile'\n",
    "    device_ws['G18'] = 'desktop'\n",
    "\n",
    "    device_ws['F19'] = \"{0:.1f}%\".format((device_ws.cell(row=21, column=4).value \n",
    "                                         + device_ws.cell(row=23, column=4).value)*100)\n",
    "    device_ws['G19'] = \"{0:.1f}%\".format(device_ws.cell(row=22, column=4).value*100)\n",
    "\n",
    "    # sheet 색 변경\n",
    "    for i in range(7,15):\n",
    "        device_ws['A'+str(i)].fill = PatternFill(patternType='solid', fgColor=Color('F2F2F2'))\n",
    "        device_ws['B'+str(i)].fill = PatternFill(patternType='solid', fgColor=Color('F2F2F2'))\n",
    "        device_ws['C'+str(i)].fill = PatternFill(patternType='solid', fgColor=Color('F2F2F2'))\n",
    "        device_ws['D'+str(i)].fill = PatternFill(patternType='solid', fgColor=Color('F2F2F2'))\n",
    "    \n",
    "    # 저장\n",
    "    device_wb.save(global_address+\"/\"+country+\"/\"+month_address+\"/\"+\"6. Device Channel Traffic.xlsx\")\n",
    "    \n",
    "    # 결과\n",
    "    print(\"{} 나라의 {}, 6. Device Channel Traffic 작업이 완료되었습니다.\".format(country, month_address))"
   ]
  },
  {
   "cell_type": "markdown",
   "metadata": {},
   "source": [
    "## 7. Bounce Rate, Average Time Spent"
   ]
  },
  {
   "cell_type": "code",
   "execution_count": 129,
   "metadata": {},
   "outputs": [
    {
     "name": "stdout",
     "output_type": "stream",
     "text": [
      "Mexico (MX) 나라의 02. February, 7. Bounce Rate, Average Time Spent 작업이 완료되었습니다.\n"
     ]
    }
   ],
   "source": [
    "for country, device_bounce_aver_country, device_bounce_aver_month in zip(countrys, device_bounce_aver_countrys, device_bounce_aver_months):\n",
    "        \n",
    "    # 불러오기(xls를 어떻게 불러와서 xlsx로 바꿀지 생각해야 함)\n",
    "    bounce_wb = openpyxl.load_workbook(global_address+\"/\"+country+\"/\"+month_address+\"/\"+\n",
    "                                       \"Key Metrics Report for Web - \"+device_bounce_aver_country+\n",
    "                                       \" - \"+device_bounce_aver_month+\" 2020.xlsx\")\n",
    "    bounce_ws = bounce_wb['Worksheet']\n",
    "    \n",
    "    # sheet 색 변경\n",
    "    for i in range(7,12):\n",
    "        bounce_ws['A'+str(i)].fill = PatternFill(patternType='solid', fgColor=Color('F2F2F2'))\n",
    "        bounce_ws['B'+str(i)].fill = PatternFill(patternType='solid', fgColor=Color('F2F2F2'))\n",
    "        bounce_ws['C'+str(i)].fill = PatternFill(patternType='solid', fgColor=Color('F2F2F2'))\n",
    "        bounce_ws['D'+str(i)].fill = PatternFill(patternType='solid', fgColor=Color('F2F2F2'))\n",
    "    \n",
    "    # 저장하기\n",
    "    bounce_wb.save(global_address+\"/\"+country+\"/\"+month_address+\"/\"+\"7. Bounce Rate, Average Time Spent.xlsx\")\n",
    "    \n",
    "    # 결과\n",
    "    print(\"{} 나라의 {}, 7. Bounce Rate, Average Time Spent 작업이 완료되었습니다.\".format(country, month_address))"
   ]
  },
  {
   "cell_type": "code",
   "execution_count": 82,
   "metadata": {},
   "outputs": [
    {
     "ename": "AttributeError",
     "evalue": "'NoneType' object has no attribute 'SaveAs'",
     "output_type": "error",
     "traceback": [
      "\u001b[1;31m---------------------------------------------------------------------------\u001b[0m",
      "\u001b[1;31mAttributeError\u001b[0m                            Traceback (most recent call last)",
      "\u001b[1;32m<ipython-input-82-a9e98f17fb21>\u001b[0m in \u001b[0;36m<module>\u001b[1;34m\u001b[0m\n\u001b[0;32m      4\u001b[0m \u001b[0mwb\u001b[0m \u001b[1;33m=\u001b[0m \u001b[0mexcel\u001b[0m\u001b[1;33m.\u001b[0m\u001b[0mWorkbooks\u001b[0m\u001b[1;33m.\u001b[0m\u001b[0mOpen\u001b[0m\u001b[1;33m(\u001b[0m\u001b[0mfname\u001b[0m\u001b[1;33m)\u001b[0m\u001b[1;33m\u001b[0m\u001b[1;33m\u001b[0m\u001b[0m\n\u001b[0;32m      5\u001b[0m \u001b[1;33m\u001b[0m\u001b[0m\n\u001b[1;32m----> 6\u001b[1;33m \u001b[0mwb\u001b[0m\u001b[1;33m.\u001b[0m\u001b[0mSaveAs\u001b[0m\u001b[1;33m(\u001b[0m\u001b[0mfname\u001b[0m\u001b[1;33m+\u001b[0m\u001b[1;34m\"x\"\u001b[0m\u001b[1;33m,\u001b[0m \u001b[0mFileFormat\u001b[0m \u001b[1;33m=\u001b[0m \u001b[1;36m51\u001b[0m\u001b[1;33m)\u001b[0m    \u001b[1;31m#FileFormat = 51 is for .xlsx extension\u001b[0m\u001b[1;33m\u001b[0m\u001b[1;33m\u001b[0m\u001b[0m\n\u001b[0m\u001b[0;32m      7\u001b[0m \u001b[0mwb\u001b[0m\u001b[1;33m.\u001b[0m\u001b[0mClose\u001b[0m\u001b[1;33m(\u001b[0m\u001b[1;33m)\u001b[0m                               \u001b[1;31m#FileFormat = 56 is for .xls extension\u001b[0m\u001b[1;33m\u001b[0m\u001b[1;33m\u001b[0m\u001b[0m\n\u001b[0;32m      8\u001b[0m \u001b[0mexcel\u001b[0m\u001b[1;33m.\u001b[0m\u001b[0mApplication\u001b[0m\u001b[1;33m.\u001b[0m\u001b[0mQuit\u001b[0m\u001b[1;33m(\u001b[0m\u001b[1;33m)\u001b[0m\u001b[1;33m\u001b[0m\u001b[1;33m\u001b[0m\u001b[0m\n",
      "\u001b[1;31mAttributeError\u001b[0m: 'NoneType' object has no attribute 'SaveAs'"
     ]
    }
   ],
   "source": [
    "import win32com.client as win32\n",
    "fname = 'f:/Device Type Report for Web - Ukraine - January 2020.xls'\n",
    "excel = win32.gencache.EnsureDispatch('Excel.Application')\n",
    "wb = excel.Workbooks.Open(fname)\n",
    "\n",
    "wb.SaveAs(fname+\"x\", FileFormat = 51)    #FileFormat = 51 is for .xlsx extension\n",
    "wb.Close()                               #FileFormat = 56 is for .xls extension\n",
    "excel.Application.Quit()"
   ]
  },
  {
   "cell_type": "code",
   "execution_count": 71,
   "metadata": {},
   "outputs": [
    {
     "name": "stderr",
     "output_type": "stream",
     "text": [
      "C:\\Users\\sejin\\Anaconda3\\lib\\site-packages\\ipykernel_launcher.py:16: DeprecationWarning: Call to deprecated function get_active_sheet (Use the .active property).\n",
      "  app.launch_new_instance()\n"
     ]
    },
    {
     "ename": "NameError",
     "evalue": "name 'xrange' is not defined",
     "output_type": "error",
     "traceback": [
      "\u001b[1;31m---------------------------------------------------------------------------\u001b[0m",
      "\u001b[1;31mNameError\u001b[0m                                 Traceback (most recent call last)",
      "\u001b[1;32m<ipython-input-71-e25c6a363faf>\u001b[0m in \u001b[0;36m<module>\u001b[1;34m\u001b[0m\n\u001b[1;32m----> 1\u001b[1;33m \u001b[0mopen_xls_as_xlsx\u001b[0m\u001b[1;33m(\u001b[0m\u001b[0mraw_address\u001b[0m\u001b[1;33m+\u001b[0m\u001b[1;34m\"Device Type Report for Web - Singapore - January 2020.xls\"\u001b[0m\u001b[1;33m)\u001b[0m\u001b[1;33m\u001b[0m\u001b[1;33m\u001b[0m\u001b[0m\n\u001b[0m",
      "\u001b[1;32m<ipython-input-70-8b6713be319f>\u001b[0m in \u001b[0;36mopen_xls_as_xlsx\u001b[1;34m(filename)\u001b[0m\n\u001b[0;32m     15\u001b[0m     \u001b[0mbook1\u001b[0m \u001b[1;33m=\u001b[0m \u001b[0mWorkbook\u001b[0m\u001b[1;33m(\u001b[0m\u001b[1;33m)\u001b[0m\u001b[1;33m\u001b[0m\u001b[1;33m\u001b[0m\u001b[0m\n\u001b[0;32m     16\u001b[0m     \u001b[0msheet1\u001b[0m \u001b[1;33m=\u001b[0m \u001b[0mbook1\u001b[0m\u001b[1;33m.\u001b[0m\u001b[0mget_active_sheet\u001b[0m\u001b[1;33m(\u001b[0m\u001b[1;33m)\u001b[0m\u001b[1;33m\u001b[0m\u001b[1;33m\u001b[0m\u001b[0m\n\u001b[1;32m---> 17\u001b[1;33m     \u001b[1;32mfor\u001b[0m \u001b[0mrow\u001b[0m \u001b[1;32min\u001b[0m \u001b[0mxrange\u001b[0m\u001b[1;33m(\u001b[0m\u001b[1;36m0\u001b[0m\u001b[1;33m,\u001b[0m \u001b[0mnrows\u001b[0m\u001b[1;33m)\u001b[0m\u001b[1;33m:\u001b[0m\u001b[1;33m\u001b[0m\u001b[1;33m\u001b[0m\u001b[0m\n\u001b[0m\u001b[0;32m     18\u001b[0m         \u001b[1;32mfor\u001b[0m \u001b[0mcol\u001b[0m \u001b[1;32min\u001b[0m \u001b[0mxrange\u001b[0m\u001b[1;33m(\u001b[0m\u001b[1;36m0\u001b[0m\u001b[1;33m,\u001b[0m \u001b[0mncols\u001b[0m\u001b[1;33m)\u001b[0m\u001b[1;33m:\u001b[0m\u001b[1;33m\u001b[0m\u001b[1;33m\u001b[0m\u001b[0m\n\u001b[0;32m     19\u001b[0m             \u001b[0msheet1\u001b[0m\u001b[1;33m.\u001b[0m\u001b[0mcell\u001b[0m\u001b[1;33m(\u001b[0m\u001b[0mrow\u001b[0m\u001b[1;33m=\u001b[0m\u001b[0mrow\u001b[0m\u001b[1;33m,\u001b[0m \u001b[0mcolumn\u001b[0m\u001b[1;33m=\u001b[0m\u001b[0mcol\u001b[0m\u001b[1;33m)\u001b[0m\u001b[1;33m.\u001b[0m\u001b[0mvalue\u001b[0m \u001b[1;33m=\u001b[0m \u001b[0msheet\u001b[0m\u001b[1;33m.\u001b[0m\u001b[0mcell_value\u001b[0m\u001b[1;33m(\u001b[0m\u001b[0mrow\u001b[0m\u001b[1;33m,\u001b[0m \u001b[0mcol\u001b[0m\u001b[1;33m)\u001b[0m\u001b[1;33m\u001b[0m\u001b[1;33m\u001b[0m\u001b[0m\n",
      "\u001b[1;31mNameError\u001b[0m: name 'xrange' is not defined"
     ]
    }
   ],
   "source": [
    "open_xls_as_xlsx(raw_address+\"Device Type Report for Web - Singapore - January 2020.xls\")"
   ]
  },
  {
   "cell_type": "markdown",
   "metadata": {},
   "source": [
    "## 8. Organic Keywords"
   ]
  },
  {
   "cell_type": "code",
   "execution_count": 83,
   "metadata": {},
   "outputs": [
    {
     "name": "stdout",
     "output_type": "stream",
     "text": [
      "Mexico (MX) 나라의 02. February, 8. Organic Keywords 작업이 완료되었습니다.\n"
     ]
    }
   ],
   "source": [
    "for contry in countrys:\n",
    "    # 불러오기\n",
    "    organic_keywords = pd.read_excel(global_address+\"/\"+country+\"/\"+month_address+\"/\"+\"8번 raw.xlsx\")\n",
    "    \n",
    "    # Total 개수, Click 0 초과, Click 0 초과 포지션 평균 변수 생성\n",
    "    organic_keywords_total = organic_keywords['Query'].count()\n",
    "    organic_keywords_over = organic_keywords['Clicks'][organic_keywords['Clicks'] > 0].count()\n",
    "    organic_keywords_average = organic_keywords['Position'][organic_keywords['Clicks'] > 0].mean()\n",
    "    \n",
    "    # 2차 불러오기\n",
    "    organic_keywords_wb = openpyxl.load_workbook(global_address+\"/\"+country+\"/\"+month_address+\"/\"+\"8번 raw.xlsx\")\n",
    "    organic_keywords_ws = organic_keywords_wb['Sheet1']\n",
    "    \n",
    "    # sheet 이름 변경\n",
    "    organic_keywords_ws.title = 'HTTPS'\n",
    "    \n",
    "    # 행 삽입\n",
    "    organic_keywords_ws.insert_rows(1)\n",
    "    organic_keywords_ws.insert_rows(1)\n",
    "    organic_keywords_ws.insert_rows(1)\n",
    "    \n",
    "    # Total , Click 0 over, Click 0 over Average / name, 값 추가\n",
    "    organic_keywords_ws['A1'] = 'Total'\n",
    "    organic_keywords_ws['A1'].font = Font(bold=True)\n",
    "    organic_keywords_ws['A2'] = organic_keywords_total\n",
    "    \n",
    "    organic_keywords_ws['B1'] = 'Click 0 over'\n",
    "    organic_keywords_ws['B1'].font = Font(bold=True)\n",
    "    organic_keywords_ws['B2'] = organic_keywords_over\n",
    "    \n",
    "    organic_keywords_ws['E1'] = 'Average'\n",
    "    organic_keywords_ws['E1'].font = Font(bold=True)\n",
    "    organic_keywords_ws['E2'] = '{0:.1f}'.format(organic_keywords_average)\n",
    "    organic_keywords_ws['E2'].fill = PatternFill(patternType='solid', fgColor=Color('FFFF00')) \n",
    "    \n",
    "    # 2차 저장\n",
    "    organic_keywords_wb.save(global_address+\"/\"+country+\"/\"+month_address+\"/\"+\"8. Organic Keywords.xlsx\")\n",
    "    \n",
    "    print(\"{} 나라의 {}, 8. Organic Keywords 작업이 완료되었습니다.\".format(country, month_address))"
   ]
  },
  {
   "cell_type": "code",
   "execution_count": null,
   "metadata": {},
   "outputs": [],
   "source": []
  },
  {
   "cell_type": "code",
   "execution_count": null,
   "metadata": {},
   "outputs": [],
   "source": []
  },
  {
   "cell_type": "code",
   "execution_count": null,
   "metadata": {},
   "outputs": [],
   "source": []
  },
  {
   "cell_type": "code",
   "execution_count": null,
   "metadata": {},
   "outputs": [],
   "source": []
  },
  {
   "cell_type": "code",
   "execution_count": null,
   "metadata": {},
   "outputs": [],
   "source": []
  },
  {
   "cell_type": "code",
   "execution_count": null,
   "metadata": {},
   "outputs": [],
   "source": []
  },
  {
   "cell_type": "code",
   "execution_count": null,
   "metadata": {},
   "outputs": [],
   "source": []
  },
  {
   "cell_type": "code",
   "execution_count": null,
   "metadata": {},
   "outputs": [],
   "source": []
  },
  {
   "cell_type": "code",
   "execution_count": null,
   "metadata": {},
   "outputs": [],
   "source": []
  },
  {
   "cell_type": "code",
   "execution_count": null,
   "metadata": {},
   "outputs": [],
   "source": []
  },
  {
   "cell_type": "code",
   "execution_count": null,
   "metadata": {},
   "outputs": [],
   "source": []
  },
  {
   "cell_type": "code",
   "execution_count": null,
   "metadata": {},
   "outputs": [],
   "source": []
  },
  {
   "cell_type": "code",
   "execution_count": null,
   "metadata": {},
   "outputs": [],
   "source": []
  },
  {
   "cell_type": "code",
   "execution_count": null,
   "metadata": {},
   "outputs": [],
   "source": []
  },
  {
   "cell_type": "code",
   "execution_count": null,
   "metadata": {},
   "outputs": [],
   "source": []
  },
  {
   "cell_type": "code",
   "execution_count": null,
   "metadata": {},
   "outputs": [],
   "source": []
  },
  {
   "cell_type": "code",
   "execution_count": null,
   "metadata": {},
   "outputs": [],
   "source": []
  },
  {
   "cell_type": "code",
   "execution_count": null,
   "metadata": {},
   "outputs": [],
   "source": []
  },
  {
   "cell_type": "code",
   "execution_count": null,
   "metadata": {},
   "outputs": [],
   "source": []
  },
  {
   "cell_type": "code",
   "execution_count": null,
   "metadata": {},
   "outputs": [],
   "source": []
  },
  {
   "cell_type": "code",
   "execution_count": null,
   "metadata": {},
   "outputs": [],
   "source": []
  },
  {
   "cell_type": "code",
   "execution_count": null,
   "metadata": {},
   "outputs": [],
   "source": []
  },
  {
   "cell_type": "code",
   "execution_count": null,
   "metadata": {},
   "outputs": [],
   "source": []
  },
  {
   "cell_type": "code",
   "execution_count": null,
   "metadata": {},
   "outputs": [],
   "source": []
  },
  {
   "cell_type": "code",
   "execution_count": null,
   "metadata": {},
   "outputs": [],
   "source": []
  },
  {
   "cell_type": "code",
   "execution_count": null,
   "metadata": {},
   "outputs": [],
   "source": []
  },
  {
   "cell_type": "code",
   "execution_count": null,
   "metadata": {},
   "outputs": [],
   "source": []
  },
  {
   "cell_type": "code",
   "execution_count": null,
   "metadata": {},
   "outputs": [],
   "source": []
  },
  {
   "cell_type": "code",
   "execution_count": null,
   "metadata": {},
   "outputs": [],
   "source": []
  },
  {
   "cell_type": "code",
   "execution_count": null,
   "metadata": {},
   "outputs": [],
   "source": []
  },
  {
   "cell_type": "code",
   "execution_count": null,
   "metadata": {},
   "outputs": [],
   "source": []
  },
  {
   "cell_type": "code",
   "execution_count": null,
   "metadata": {},
   "outputs": [],
   "source": []
  },
  {
   "cell_type": "code",
   "execution_count": null,
   "metadata": {},
   "outputs": [],
   "source": []
  },
  {
   "cell_type": "code",
   "execution_count": null,
   "metadata": {},
   "outputs": [],
   "source": []
  },
  {
   "cell_type": "code",
   "execution_count": null,
   "metadata": {},
   "outputs": [],
   "source": []
  },
  {
   "cell_type": "code",
   "execution_count": null,
   "metadata": {},
   "outputs": [],
   "source": []
  },
  {
   "cell_type": "code",
   "execution_count": null,
   "metadata": {},
   "outputs": [],
   "source": []
  },
  {
   "cell_type": "code",
   "execution_count": null,
   "metadata": {},
   "outputs": [],
   "source": []
  },
  {
   "cell_type": "code",
   "execution_count": null,
   "metadata": {},
   "outputs": [],
   "source": []
  },
  {
   "cell_type": "code",
   "execution_count": null,
   "metadata": {},
   "outputs": [],
   "source": []
  },
  {
   "cell_type": "code",
   "execution_count": null,
   "metadata": {},
   "outputs": [],
   "source": []
  },
  {
   "cell_type": "code",
   "execution_count": null,
   "metadata": {},
   "outputs": [],
   "source": []
  },
  {
   "cell_type": "code",
   "execution_count": null,
   "metadata": {},
   "outputs": [],
   "source": []
  },
  {
   "cell_type": "code",
   "execution_count": null,
   "metadata": {},
   "outputs": [],
   "source": []
  },
  {
   "cell_type": "code",
   "execution_count": null,
   "metadata": {},
   "outputs": [],
   "source": []
  },
  {
   "cell_type": "code",
   "execution_count": null,
   "metadata": {},
   "outputs": [],
   "source": []
  },
  {
   "cell_type": "code",
   "execution_count": null,
   "metadata": {},
   "outputs": [],
   "source": []
  },
  {
   "cell_type": "code",
   "execution_count": null,
   "metadata": {},
   "outputs": [],
   "source": []
  },
  {
   "cell_type": "code",
   "execution_count": null,
   "metadata": {},
   "outputs": [],
   "source": []
  },
  {
   "cell_type": "code",
   "execution_count": null,
   "metadata": {},
   "outputs": [],
   "source": []
  },
  {
   "cell_type": "code",
   "execution_count": null,
   "metadata": {},
   "outputs": [],
   "source": []
  },
  {
   "cell_type": "code",
   "execution_count": null,
   "metadata": {},
   "outputs": [],
   "source": []
  },
  {
   "cell_type": "code",
   "execution_count": null,
   "metadata": {},
   "outputs": [],
   "source": []
  },
  {
   "cell_type": "code",
   "execution_count": null,
   "metadata": {},
   "outputs": [],
   "source": []
  },
  {
   "cell_type": "code",
   "execution_count": null,
   "metadata": {},
   "outputs": [],
   "source": []
  },
  {
   "cell_type": "code",
   "execution_count": null,
   "metadata": {},
   "outputs": [],
   "source": []
  },
  {
   "cell_type": "code",
   "execution_count": null,
   "metadata": {},
   "outputs": [],
   "source": []
  },
  {
   "cell_type": "code",
   "execution_count": null,
   "metadata": {},
   "outputs": [],
   "source": []
  },
  {
   "cell_type": "code",
   "execution_count": null,
   "metadata": {},
   "outputs": [],
   "source": []
  },
  {
   "cell_type": "code",
   "execution_count": null,
   "metadata": {},
   "outputs": [],
   "source": []
  },
  {
   "cell_type": "code",
   "execution_count": null,
   "metadata": {},
   "outputs": [],
   "source": []
  },
  {
   "cell_type": "code",
   "execution_count": null,
   "metadata": {},
   "outputs": [],
   "source": []
  },
  {
   "cell_type": "code",
   "execution_count": null,
   "metadata": {},
   "outputs": [],
   "source": []
  }
 ],
 "metadata": {
  "kernelspec": {
   "display_name": "Python 3",
   "language": "python",
   "name": "python3"
  },
  "language_info": {
   "codemirror_mode": {
    "name": "ipython",
    "version": 3
   },
   "file_extension": ".py",
   "mimetype": "text/x-python",
   "name": "python",
   "nbconvert_exporter": "python",
   "pygments_lexer": "ipython3",
   "version": "3.7.3"
  }
 },
 "nbformat": 4,
 "nbformat_minor": 2
}
